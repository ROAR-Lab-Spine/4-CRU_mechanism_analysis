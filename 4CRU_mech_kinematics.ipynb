{
 "cells": [
  {
   "cell_type": "markdown",
   "metadata": {},
   "source": [
    "# 4-CRU Mechanism Kinematic Calculation Handbook"
   ]
  },
  {
   "cell_type": "code",
   "execution_count": 1,
   "metadata": {},
   "outputs": [
    {
     "data": {
      "text/plain": [
       "['',\n",
       " 'C:\\\\Users\\\\Chawin Ophaswongse\\\\OneDrive\\\\MechE MS-PhD\\\\Jupyter_notebook\\\\4-CRU_mechnism_project\\\\4-CRU_mechanism_analysis',\n",
       " 'C:\\\\ProgramData\\\\Anaconda3\\\\python37.zip',\n",
       " 'C:\\\\ProgramData\\\\Anaconda3\\\\DLLs',\n",
       " 'C:\\\\ProgramData\\\\Anaconda3\\\\lib',\n",
       " 'C:\\\\ProgramData\\\\Anaconda3',\n",
       " 'C:\\\\ProgramData\\\\Anaconda3\\\\lib\\\\site-packages',\n",
       " 'C:\\\\ProgramData\\\\Anaconda3\\\\lib\\\\site-packages\\\\win32',\n",
       " 'C:\\\\ProgramData\\\\Anaconda3\\\\lib\\\\site-packages\\\\win32\\\\lib',\n",
       " 'C:\\\\ProgramData\\\\Anaconda3\\\\lib\\\\site-packages\\\\Pythonwin',\n",
       " 'C:\\\\ProgramData\\\\Anaconda3\\\\lib\\\\site-packages\\\\IPython\\\\extensions',\n",
       " 'C:\\\\Users\\\\Chawin Ophaswongse\\\\.ipython']"
      ]
     },
     "execution_count": 1,
     "metadata": {},
     "output_type": "execute_result"
    }
   ],
   "source": [
    "from __future__ import print_function\n",
    "import numpy as np\n",
    "import numpy.matlib\n",
    "import numpy.linalg as la\n",
    "import math\n",
    "from sympy import * # symbolic calculation for IK\n",
    "#import transformations.py as tfs \n",
    "import transformations as tfs\n",
    "from mpl_toolkits.mplot3d import Axes3D  \n",
    "import matplotlib.pyplot as plt\n",
    "\n",
    "# check the environment and directory of the notebook\n",
    "import sys\n",
    "sys.path"
   ]
  },
  {
   "cell_type": "markdown",
   "metadata": {},
   "source": [
    "## Important Notes\n",
    "1. This notebook must be run in conda environment (python 3 kernel)\n",
    "2. Always put transformations.py in the same directory as this notebook\n",
    "\n",
    "## Jupyter Notebook Tips and Tricks\n",
    "1. https://www.dataquest.io/blog/jupyter-notebook-tips-tricks-shortcuts/\n",
    "2. https://hub.packtpub.com/basics-jupyter-notebook-python/\n",
    "3. Installing Python Kernel https://ipython.readthedocs.io/en/latest/install/kernel_install.html\n",
    "4. Update Python 3.5 in Ubuntu 16.04 to 3.6+ http://ubuntuhandbook.org/index.php/2017/07/install-python-3-6-1-in-ubuntu-16-04-lts/\n",
    "\n",
    "## Notes on [Transformation.py](https://github.com/ROAR-Lab-Spine/geometry/blob/melodic-devel/tf/src/tf/transformations.py)\n",
    "\n",
    "\n",
    "1. Quaternions $q = ix+jy+kz+w$ are represented as $[x, y, z, w ]$= $[x_1, x_2, x_3, x_0]$.\n",
    "\n",
    "## Notes on [SymPy’s documentation](https://docs.sympy.org/latest/index.html)\n",
    "\n",
    "1. [Matrix Functions](https://docs.sympy.org/latest/modules/matrices/common.html?highlight=transpose#sympy.matrices.common.MatrixCommon.transpose)\n",
    "2. [Matrix Operations](https://docs.sympy.org/latest/modules/matrices/matrices.html?highlight=matrix%20operation)\n",
    "3. [Polynomial and Groebner bases¶](https://docs.sympy.org/latest/modules/polys/basics.html?highlight=polynomial%20solve)\n",
    "4. Primary Decomposition\n",
    "\n",
    "## Notes on SINGULAR\n",
    "1. [Related Publications](https://www.singular.uni-kl.de/index.php/publications/singular-related-publications.html)"
   ]
  },
  {
   "cell_type": "code",
   "execution_count": 2,
   "metadata": {},
   "outputs": [
    {
     "name": "stdout",
     "output_type": "stream",
     "text": [
      "[0. 0. 0. 1.]\n",
      "[0.  0.  0.1]\n"
     ]
    }
   ],
   "source": [
    "tf_init = tfs.identity_matrix()\n",
    "# print tf_init\n",
    "des_quat = tfs.quaternion_about_axis(0, (0, 0, 1))\n",
    "des_xyz = np.array([0,0,0.1])\n",
    "print(des_quat)\n",
    "print(des_xyz)"
   ]
  },
  {
   "cell_type": "code",
   "execution_count": 3,
   "metadata": {},
   "outputs": [],
   "source": [
    "# Set up Symbolic variables\n",
    "X, Y, Z = symbols('X, Y, Z')\n",
    "x_0, x_1, x_2, x_3 = symbols('x_0, x_1, x_2, x_3')\n",
    "a, b, c, d = symbols('a, b, c, d')\n",
    "h_1, h_2, h_3, h_4 = symbols('h_1, h_2, h_3, h_4')\n",
    "r = symbols('r')"
   ]
  },
  {
   "cell_type": "code",
   "execution_count": 4,
   "metadata": {},
   "outputs": [],
   "source": [
    "# Position of the C joint with respect to the base frame\n",
    "r0_B1 = Matrix([a, -b, h_1, 1])\n",
    "r1_C1 = Matrix([c, -d, 0, 1])\n",
    "\n",
    "r0_B2 = Matrix([a, b, h_2, 1])\n",
    "r1_C2 = Matrix([c, d, 0, 1])\n",
    "\n",
    "r0_B3 = Matrix([-a, b, h_3, 1])\n",
    "r1_C3 = Matrix([-c, d, 0, 1])\n",
    "\n",
    "r0_B4 = Matrix([-a, -b, h_4, 1])\n",
    "r1_C4 = Matrix([-c, -d, 0, 1])"
   ]
  },
  {
   "cell_type": "code",
   "execution_count": 5,
   "metadata": {},
   "outputs": [
    {
     "data": {
      "text/plain": [
       "Matrix([\n",
       "[x_0**2 + x_1**2 - x_2**2 - x_3**2,        -2.0*x_0*x_3 + 2.0*x_1*x_2,         2.0*x_0*x_2 + 2.0*x_1*x_3,   X],\n",
       "[        2.0*x_0*x_3 + 2.0*x_1*x_2, x_0**2 - x_1**2 + x_2**2 - x_3**2,        -2.0*x_0*x_1 + 2.0*x_2*x_3,   Y],\n",
       "[       -2.0*x_0*x_2 + 2.0*x_1*x_3,         2.0*x_0*x_1 + 2.0*x_2*x_3, x_0**2 - x_1**2 - x_2**2 + x_3**2,   Z],\n",
       "[                                0,                                 0,                                 0, 1.0]])"
      ]
     },
     "execution_count": 5,
     "metadata": {},
     "output_type": "execute_result"
    }
   ],
   "source": [
    "R0_1 = Matrix([[x_0**2 + x_1**2 - x_2**2 - x_3**2, 2.0*(x_1*x_2 - x_0*x_3), 2.0*(x_0*x_2 + x_1*x_3)],\n",
    "                [2.0*(x_0*x_3 + x_1*x_2),x_0**2 - x_1**2 + x_2**2 - x_3**2,2.0*(x_2*x_3 - x_0*x_1)],\n",
    "                [2.0*(x_1*x_3 - x_0*x_2),2.0*(x_0*x_1 + x_2*x_3),x_0**2 - x_1**2 - x_2**2 + x_3**2]])\n",
    "r0_1 = Matrix([X, Y, Z, 1.0])  \n",
    "T0_1 = R0_1.col_join(zeros(1,3))\n",
    "T0_1 = T0_1.row_join(r0_1)\n",
    "T0_1"
   ]
  },
  {
   "cell_type": "code",
   "execution_count": 6,
   "metadata": {},
   "outputs": [],
   "source": [
    "# Vector along the U-U Rods\n",
    "u0_1 = T0_1*r1_C1 - r0_B1\n",
    "u0_2 = T0_1*r1_C2 - r0_B2\n",
    "u0_3 = T0_1*r1_C3 - r0_B3\n",
    "u0_4 = T0_1*r1_C4 - r0_B4"
   ]
  },
  {
   "cell_type": "code",
   "execution_count": 7,
   "metadata": {},
   "outputs": [],
   "source": [
    "r0_ee_to_C2 = T0_1*r1_C2\n",
    "r0_ee_to_C2 = r0_ee_to_C2.subs([(X, 0),(Y, 0),(Z, 0)])"
   ]
  },
  {
   "cell_type": "code",
   "execution_count": 8,
   "metadata": {},
   "outputs": [
    {
     "data": {
      "text/plain": [
       "X**2 - 2*X*a + 2*X*c*x_0**2 + 2*X*c*x_1**2 - 2*X*c*x_2**2 - 2*X*c*x_3**2 - 4.0*X*d*x_0*x_3 + 4.0*X*d*x_1*x_2 + Y**2 - 2*Y*b + 4.0*Y*c*x_0*x_3 + 4.0*Y*c*x_1*x_2 + 2*Y*d*x_0**2 - 2*Y*d*x_1**2 + 2*Y*d*x_2**2 - 2*Y*d*x_3**2 + Z**2 - 4.0*Z*c*x_0*x_2 + 4.0*Z*c*x_1*x_3 + 4.0*Z*d*x_0*x_1 + 4.0*Z*d*x_2*x_3 - 2*Z*h_2 + a**2 - 2*a*c*x_0**2 - 2*a*c*x_1**2 + 2*a*c*x_2**2 + 2*a*c*x_3**2 + 4.0*a*d*x_0*x_3 - 4.0*a*d*x_1*x_2 + b**2 - 4.0*b*c*x_0*x_3 - 4.0*b*c*x_1*x_2 - 2*b*d*x_0**2 + 2*b*d*x_1**2 - 2*b*d*x_2**2 + 2*b*d*x_3**2 + c**2*x_0**4 + 2*c**2*x_0**2*x_1**2 + 2.0*c**2*x_0**2*x_2**2 + 2.0*c**2*x_0**2*x_3**2 + c**2*x_1**4 + 2.0*c**2*x_1**2*x_2**2 + 2.0*c**2*x_1**2*x_3**2 + c**2*x_2**4 + 2*c**2*x_2**2*x_3**2 + c**2*x_3**4 + 4.0*c*h_2*x_0*x_2 - 4.0*c*h_2*x_1*x_3 + d**2*x_0**4 + 2.0*d**2*x_0**2*x_1**2 + 2*d**2*x_0**2*x_2**2 + 2.0*d**2*x_0**2*x_3**2 + d**2*x_1**4 + 2.0*d**2*x_1**2*x_2**2 + 2*d**2*x_1**2*x_3**2 + d**2*x_2**4 + 2.0*d**2*x_2**2*x_3**2 + d**2*x_3**4 - 4.0*d*h_2*x_0*x_1 - 4.0*d*h_2*x_2*x_3 + h_2**2 - r**2"
      ]
     },
     "execution_count": 8,
     "metadata": {},
     "output_type": "execute_result"
    }
   ],
   "source": [
    "# Scalar Triple Product \n",
    "f_5 = simplify(expand(u0_1.dot(u0_1))) - r**2\n",
    "f_6 = simplify(expand(u0_2.dot(u0_2))) - r**2\n",
    "f_7 = simplify(expand(u0_3.dot(u0_3))) - r**2\n",
    "f_8 = simplify(expand(u0_4.dot(u0_4))) - r**2\n",
    "f_9 = x_0**2+x_1**2+x_2**2+x_3**2-1.0\n",
    "\n",
    "# Substitute Additional Mode Geometric Condition A\n",
    "f_5A = f_5.subs([(c, a),(x_2, 0),(x_3, 0),(X,0)],simultaneous=True)\n",
    "f_6A = f_6.subs([(c, a),(x_2, 0),(x_3, 0),(X,0)],simultaneous=True)\n",
    "f_7A = f_7.subs([(c, a),(x_2, 0),(x_3, 0),(X,0)],simultaneous=True)\n",
    "f_8A = f_8.subs([(c, a),(x_2, 0),(x_3, 0),(X,0)],simultaneous=True)\n",
    "f_9A = f_9.subs([(c, a),(x_2, 0),(x_3, 0),(X,0)],simultaneous=True)\n",
    "\n",
    "f_6"
   ]
  },
  {
   "cell_type": "code",
   "execution_count": 9,
   "metadata": {},
   "outputs": [
    {
     "data": {
      "text/plain": [
       "(x_0**2 + x_1**2 - 1.0)**2"
      ]
     },
     "execution_count": 9,
     "metadata": {},
     "output_type": "execute_result"
    }
   ],
   "source": [
    "f_9A_sq = f_9A*f_9A\n",
    "f_9A_sq_expd = expand(f_9A_sq)\n",
    "f_9A_sq"
   ]
  },
  {
   "cell_type": "code",
   "execution_count": 10,
   "metadata": {},
   "outputs": [
    {
     "data": {
      "text/plain": [
       "x_0**4 + 2*x_0**2*x_1**2 - 2.0*x_0**2 + x_1**4 - 2.0*x_1**2 + 1.0"
      ]
     },
     "execution_count": 10,
     "metadata": {},
     "output_type": "execute_result"
    }
   ],
   "source": [
    "f_9A_sq_expd.subs(-2.0*x_0**2-2.0*x_1**2, -2)"
   ]
  },
  {
   "cell_type": "code",
   "execution_count": 11,
   "metadata": {},
   "outputs": [
    {
     "data": {
      "text/plain": [
       "x_0**4 + 2*x_0**2*x_1**2 - 2.0*x_0**2 + x_1**4 - 2.0*x_1**2 + 1.0"
      ]
     },
     "execution_count": 11,
     "metadata": {},
     "output_type": "execute_result"
    }
   ],
   "source": [
    "f_9A_sq_expd"
   ]
  },
  {
   "cell_type": "code",
   "execution_count": 12,
   "metadata": {},
   "outputs": [
    {
     "data": {
      "text/plain": [
       "Y**2 + Y*(2*b - 2*d*x_0**2 + 2*d*x_1**2) + Z**2 + Z*(-4.0*d*x_0*x_1 - 2*h_1) + a**2*(x_0**4 + 2*x_0**2*x_1**2 - 2*x_0**2 + x_1**4 - 2*x_1**2 + 1) + b**2 + b*(-2*d*x_0**2 + 2*d*x_1**2) + d**2*(x_0**4 + 2.0*x_0**2*x_1**2 + x_1**4) + 4.0*d*h_1*x_0*x_1 + h_1**2 - r**2"
      ]
     },
     "execution_count": 12,
     "metadata": {},
     "output_type": "execute_result"
    }
   ],
   "source": [
    "f_5A = collect(f_5A, (X,Y,Z,r,a,b,c,d))\n",
    "f_5A"
   ]
  },
  {
   "cell_type": "code",
   "execution_count": 13,
   "metadata": {},
   "outputs": [
    {
     "data": {
      "text/plain": [
       "Y**2 + Y*(2*b - 2*d*x_0**2 + 2*d*x_1**2) + Z**2 + Z*(-4.0*d*x_0*x_1 - 2*h_1) + b**2 + b*(-2*d*x_0**2 + 2*d*x_1**2) + d**2 + 4.0*d*h_1*x_0*x_1 + h_1**2 - r**2"
      ]
     },
     "execution_count": 13,
     "metadata": {},
     "output_type": "execute_result"
    }
   ],
   "source": [
    "# eliminate the quaternion identity\n",
    "f_5A = f_5A.subs(x_0**4+2.0*x_0**2*x_1**2+x_1**4, 1)\n",
    "f_5A = f_5A.subs(f_9A_sq_expd-1.0,-1.0)\n",
    "f_5A"
   ]
  },
  {
   "cell_type": "code",
   "execution_count": 14,
   "metadata": {},
   "outputs": [
    {
     "data": {
      "text/plain": [
       "Y**2 + Y*(-2*b + 2*d*x_0**2 - 2*d*x_1**2) + Z**2 + Z*(4.0*d*x_0*x_1 - 2*h_2) + b**2 + b*(-2*d*x_0**2 + 2*d*x_1**2) + d**2 - 4.0*d*h_2*x_0*x_1 + h_2**2 - r**2"
      ]
     },
     "execution_count": 14,
     "metadata": {},
     "output_type": "execute_result"
    }
   ],
   "source": [
    "f_6A = collect(f_6A, (X,Y,Z,r,a,b,c,d))\n",
    "f_6A = f_6A.subs(x_0**4+2.0*x_0**2*x_1**2+x_1**4, 1)\n",
    "f_6A = f_6A.subs(f_9A_sq_expd-1.0,-1.0)\n",
    "f_6A"
   ]
  },
  {
   "cell_type": "code",
   "execution_count": 15,
   "metadata": {},
   "outputs": [
    {
     "data": {
      "text/plain": [
       "Y**2 + Y*(-2*b + 2*d*x_0**2 - 2*d*x_1**2) + Z**2 + Z*(4.0*d*x_0*x_1 - 2*h_3) + b**2 + b*(-2*d*x_0**2 + 2*d*x_1**2) + d**2 - 4.0*d*h_3*x_0*x_1 + h_3**2 - r**2"
      ]
     },
     "execution_count": 15,
     "metadata": {},
     "output_type": "execute_result"
    }
   ],
   "source": [
    "f_7A = collect(f_7A, (X,Y,Z,r,a,b,c,d))\n",
    "f_7A = f_7A.subs(x_0**4+2.0*x_0**2*x_1**2+x_1**4, 1)\n",
    "f_7A = f_7A.subs(f_9A_sq_expd-1.0,-1.0)\n",
    "f_7A"
   ]
  },
  {
   "cell_type": "code",
   "execution_count": 16,
   "metadata": {},
   "outputs": [
    {
     "data": {
      "text/plain": [
       "Y**2 + Y*(-2*b + 2*d*x_0**2 - 2*d*x_1**2) + Z**2 + Z*(4.0*d*x_0*x_1 - 2*h_3) + b**2 + b*(-2*d*x_0**2 + 2*d*x_1**2) + d**2 - 4.0*d*h_3*x_0*x_1 + h_3**2 - r**2"
      ]
     },
     "execution_count": 16,
     "metadata": {},
     "output_type": "execute_result"
    }
   ],
   "source": [
    "f_8A = collect(f_8A, (X,Y,Z,r,a,b,c,d))\n",
    "f_8A = f_8A.subs(x_0**4+2.0*x_0**2*x_1**2+x_1**4, 1)\n",
    "f_8A = f_8A.subs(f_9A_sq_expd-1.0,-1.0)\n",
    "f_7A"
   ]
  },
  {
   "cell_type": "markdown",
   "metadata": {},
   "source": [
    "# Inverse Kinematics (Schoenfiles Mode)"
   ]
  },
  {
   "cell_type": "code",
   "execution_count": 17,
   "metadata": {},
   "outputs": [
    {
     "data": {
      "text/plain": [
       "sqrt(-a**2 + 2.0*a*c - b**2 + 2.0*b*d - c**2 - d**2 + r**2) + 0.1"
      ]
     },
     "execution_count": 17,
     "metadata": {},
     "output_type": "execute_result"
    }
   ],
   "source": [
    "# Schonflies Mode\n",
    "# T0_1_H1 = T0_1.subs([(x_1, 0),(x_2, 0)],simultaneous=True)\n",
    "des_pose = tfs.identity_matrix()\n",
    "\n",
    "f_5_H1 = f_5.subs([(X, des_xyz[0]),\n",
    "                   (Y, des_xyz[1]),\n",
    "                   (Z, des_xyz[2]),\n",
    "                   (x_1, des_quat[0]),\n",
    "                   (x_2, des_quat[1]),\n",
    "                   (x_3, des_quat[2]),\n",
    "                   (x_0, des_quat[3])],\n",
    "                  simultaneous=True) \n",
    "h_1_sols = solve(f_5_H1, h_1)\n",
    "h_1_sols[1]"
   ]
  },
  {
   "cell_type": "code",
   "execution_count": 18,
   "metadata": {},
   "outputs": [
    {
     "data": {
      "text/plain": [
       "Z + sqrt(-X**2 + 2.0*X*a - 2.0*X*c*x_0**2 + 2.0*X*c*x_3**2 + 4.0*X*d*x_0*x_3 - Y**2 + 2.0*Y*b - 4.0*Y*c*x_0*x_3 - 2.0*Y*d*x_0**2 + 2.0*Y*d*x_3**2 - a**2 + 2.0*a*c*x_0**2 - 2.0*a*c*x_3**2 - 4.0*a*d*x_0*x_3 - b**2 + 4.0*b*c*x_0*x_3 + 2.0*b*d*x_0**2 - 2.0*b*d*x_3**2 - c**2*x_0**4 - 2.0*c**2*x_0**2*x_3**2 - c**2*x_3**4 - d**2*x_0**4 - 2.0*d**2*x_0**2*x_3**2 - d**2*x_3**4 + r**2)"
      ]
     },
     "execution_count": 18,
     "metadata": {},
     "output_type": "execute_result"
    }
   ],
   "source": [
    "h_2_sols = solve(f_6, h_2)\n",
    "h_2_sols[1].subs([(x_1, 0),(x_2, 0)])\n",
    "# We can change the signs of a,b,c,d corresponding to the position of each joint"
   ]
  },
  {
   "cell_type": "markdown",
   "metadata": {},
   "source": [
    "# Inverse Kinematics (Additional Mode: Geometric A)"
   ]
  },
  {
   "cell_type": "code",
   "execution_count": 19,
   "metadata": {},
   "outputs": [
    {
     "data": {
      "text/plain": [
       "1.0*(1.0*h_1 - 1.0*h_4)*(-2.0*Z + 4.0*d*x_0*x_1 + 1.0*h_1 + 1.0*h_4)"
      ]
     },
     "execution_count": 19,
     "metadata": {},
     "output_type": "execute_result"
    }
   ],
   "source": [
    "# Additional Mode (Geometric A)\n",
    "g_1A = factor(f_5A - f_8A)\n",
    "g_1A"
   ]
  },
  {
   "cell_type": "code",
   "execution_count": 20,
   "metadata": {},
   "outputs": [
    {
     "data": {
      "text/plain": [
       "-1.0*(-2.0*Y**2 - 4.0*Y*b + 4.0*Y*d*x_0**2 - 4.0*Y*d*x_1**2 - 2.0*Z**2 + 8.0*Z*d*x_0*x_1 + 2.0*Z*h_1 + 2.0*Z*h_4 - 2.0*b**2 + 4.0*b*d*x_0**2 - 4.0*b*d*x_1**2 - 2.0*d**2 - 4.0*d*h_1*x_0*x_1 - 4.0*d*h_4*x_0*x_1 - 1.0*h_1**2 - 1.0*h_4**2 + 2.0*r**2)"
      ]
     },
     "execution_count": 20,
     "metadata": {},
     "output_type": "execute_result"
    }
   ],
   "source": [
    "g_2A = factor(f_5A + f_8A)\n",
    "g_2A"
   ]
  },
  {
   "cell_type": "code",
   "execution_count": 21,
   "metadata": {},
   "outputs": [
    {
     "data": {
      "text/plain": [
       "(1.0*h_2 - 1.0*h_3)*(-2.0*Z - 4.0*d*x_0*x_1 + 1.0*h_2 + 1.0*h_3)"
      ]
     },
     "execution_count": 21,
     "metadata": {},
     "output_type": "execute_result"
    }
   ],
   "source": [
    "g_3A = factor(f_6A - f_7A)\n",
    "g_3A = g_3A .args[1]*(g_3A.args[0]*g_3A.args[2])\n",
    "g_3A"
   ]
  },
  {
   "cell_type": "code",
   "execution_count": 22,
   "metadata": {},
   "outputs": [
    {
     "data": {
      "text/plain": [
       "2.0*Y**2 - 4.0*Y*b + 4.0*Y*d*x_0**2 - 4.0*Y*d*x_1**2 + 2.0*Z**2 + 8.0*Z*d*x_0*x_1 - 2.0*Z*h_2 - 2.0*Z*h_3 + 2.0*b**2 - 4.0*b*d*x_0**2 + 4.0*b*d*x_1**2 + 2.0*d**2 - 4.0*d*h_2*x_0*x_1 - 4.0*d*h_3*x_0*x_1 + 1.0*h_2**2 + 1.0*h_3**2 - 2.0*r**2"
      ]
     },
     "execution_count": 22,
     "metadata": {},
     "output_type": "execute_result"
    }
   ],
   "source": [
    "g_4A = expand(factor(f_6A + f_7A))\n",
    "g_4A"
   ]
  },
  {
   "cell_type": "code",
   "execution_count": 23,
   "metadata": {},
   "outputs": [
    {
     "data": {
      "text/plain": [
       "Y**2 + 2.0*Y*b - 2.0*Y*d*x_0**2 + 2.0*Y*d*x_1**2 + Z**2 - 4.0*Z*d*x_0*x_1 - 2.0*Z*h_4 + b**2 - 2.0*b*d*x_0**2 + 2.0*b*d*x_1**2 + d**2 + 4.0*d*h_4*x_0*x_1 + h_4**2 - 1.0*r**2"
      ]
     },
     "execution_count": 23,
     "metadata": {},
     "output_type": "execute_result"
    }
   ],
   "source": [
    "# Reduce to 3 Equations \n",
    "e_1A = expand(factor(g_2A.subs(h_1, h_4)))/2\n",
    "e_1A"
   ]
  },
  {
   "cell_type": "code",
   "execution_count": 24,
   "metadata": {},
   "outputs": [
    {
     "data": {
      "text/plain": [
       "-2.0*Z - 4.0*d*x_0*x_1 + 1.0*h_2 + 1.0*h_3"
      ]
     },
     "execution_count": 24,
     "metadata": {},
     "output_type": "execute_result"
    }
   ],
   "source": [
    "#***Choose the factor that does not lead to actuation singularity configuration\n",
    "e_2A = g_3A.args[1]\n",
    "e_2A"
   ]
  },
  {
   "cell_type": "code",
   "execution_count": 25,
   "metadata": {},
   "outputs": [
    {
     "data": {
      "text/plain": [
       "-1.0*(-2.0*Y**2 + 4.0*Y*b - 4.0*Y*d*x_0**2 + 4.0*Y*d*x_1**2 - 2.0*Z**2 - 8.0*Z*d*x_0*x_1 + 2.0*Z*h_2 + 2.0*Z*h_3 - 2.0*b**2 + 4.0*b*d*x_0**2 - 4.0*b*d*x_1**2 - 2.0*d**2 + 4.0*d*h_2*x_0*x_1 + 4.0*d*h_3*x_0*x_1 - 1.0*h_2**2 - 1.0*h_3**2 + 2.0*r**2)"
      ]
     },
     "execution_count": 25,
     "metadata": {},
     "output_type": "execute_result"
    }
   ],
   "source": [
    "e_3A = g_4A\n",
    "e_3A\n",
    "factor(e_3A)"
   ]
  },
  {
   "cell_type": "code",
   "execution_count": 26,
   "metadata": {},
   "outputs": [
    {
     "name": "stdout",
     "output_type": "stream",
     "text": [
      "h1 =  Z - 2.0*d*x_0*x_1 - sqrt(-Y**2 - 2.0*Y*b + 2.0*Y*d*x_0**2 - 2.0*Y*d*x_1**2 - b**2 + 2.0*b*d*x_0**2 - 2.0*b*d*x_1**2 + 4.0*d**2*x_0**2*x_1**2 - d**2 + r**2)  or \n",
      "Z - 2.0*d*x_0*x_1 + sqrt(-Y**2 - 2.0*Y*b + 2.0*Y*d*x_0**2 - 2.0*Y*d*x_1**2 - b**2 + 2.0*b*d*x_0**2 - 2.0*b*d*x_1**2 + 4.0*d**2*x_0**2*x_1**2 - d**2 + r**2)\n"
     ]
    }
   ],
   "source": [
    "# solve for h_4 (=h_1), h_2, and h_3\n",
    "\n",
    "# invs_kin_sols_geo_A = solve((e_1A, e_2A, e_3A), (h_2, h_3, h_4))\n",
    "# invs_kin_sols_geo_A\n",
    "\n",
    "h_1_h_4_sol = simplify(solve(e_1A, h_4))\n",
    "print('h1 = ', h_1_h_4_sol[0], ' or ')\n",
    "print(h_1_h_4_sol[1])"
   ]
  },
  {
   "cell_type": "code",
   "execution_count": 27,
   "metadata": {},
   "outputs": [
    {
     "name": "stdout",
     "output_type": "stream",
     "text": [
      "[-b + d*x_0**2 - d*x_1**2 - sqrt(d**2*x_0**4 + 2.0*d**2*x_0**2*x_1**2 + d**2*x_1**4 - d**2 + r**2), -b + d*x_0**2 - d*x_1**2 + sqrt(d**2*x_0**4 + 2.0*d**2*x_0**2*x_1**2 + d**2*x_1**4 - d**2 + r**2)]\n"
     ]
    }
   ],
   "source": [
    "# Solving the Y position where h1 and h_4 can toggle up-down (h1 = h4 = Z)\n",
    "determinant = -Y**2 - 2.0*Y*b + 2.0*Y*d*x_0**2 - 2.0*Y*d*x_1**2 - b**2 + 2.0*b*d*x_0**2 - 2.0*b*d*x_1**2 + 4.0*d**2*x_0**2*x_1**2 - d**2 + r**2\n",
    "Y_trans = solve(determinant, Y)\n",
    "print(Y_trans)"
   ]
  },
  {
   "cell_type": "code",
   "execution_count": 28,
   "metadata": {},
   "outputs": [],
   "source": [
    "# https://stackoverflow.com/questions/53092738/eliminate-a-variable-to-relate-two-functions-in-python-using-sympy\n",
    "# https://github.com/sympy/sympy/issues/2720\n",
    "d_1A = factor(e_3A.subs(h_2, solve(e_2A, h_2)[0]))\n",
    "h_3_sol = solve((d_1A,f_9A), h_3)"
   ]
  },
  {
   "cell_type": "code",
   "execution_count": 29,
   "metadata": {},
   "outputs": [
    {
     "data": {
      "text/plain": [
       "Z + 2.0*d*x_0*x_1 - sqrt(-Y**2 + 2.0*Y*b - 2.0*Y*d*x_0**2 + 2.0*Y*d*x_1**2 - b**2 + 2.0*b*d*x_0**2 - 2.0*b*d*x_1**2 + 4.0*d**2*x_0**2*x_1**2 - d**2 + r**2)"
      ]
     },
     "execution_count": 29,
     "metadata": {},
     "output_type": "execute_result"
    }
   ],
   "source": [
    "h_3_sol[0][0]"
   ]
  },
  {
   "cell_type": "code",
   "execution_count": 30,
   "metadata": {},
   "outputs": [
    {
     "data": {
      "text/plain": [
       "1.0*Z + 2.0*d*x_0*x_1 + sqrt(-Y**2 + 2.0*Y*b - 2.0*Y*d*x_0**2 + 2.0*Y*d*x_1**2 - b**2 + 2.0*b*d*x_0**2 - 2.0*b*d*x_1**2 + 4.0*d**2*x_0**2*x_1**2 - d**2 + r**2)"
      ]
     },
     "execution_count": 30,
     "metadata": {},
     "output_type": "execute_result"
    }
   ],
   "source": [
    "h_2_sol = (solve(e_2A, h_2)[0]).subs(h_3, h_3_sol[0][0])\n",
    "h_2_sol"
   ]
  },
  {
   "cell_type": "markdown",
   "metadata": {},
   "source": [
    "# Forward Kinematics (Schoenfiles Mode)"
   ]
  },
  {
   "cell_type": "code",
   "execution_count": null,
   "metadata": {},
   "outputs": [],
   "source": []
  },
  {
   "cell_type": "markdown",
   "metadata": {},
   "source": [
    "# Trajectory Simulation "
   ]
  },
  {
   "cell_type": "code",
   "execution_count": 78,
   "metadata": {},
   "outputs": [
    {
     "name": "stdout",
     "output_type": "stream",
     "text": [
      "Geometric Condition:  A\n",
      "[a, b, c, d] =  [79.375, 79.375, 79.375, 32.878201513364424]  mm\n",
      "r =  85.8  mm\n"
     ]
    },
    {
     "data": {
      "image/png": "[encoded data removed]",
      "text/plain": [
       "<Figure size 432x288 with 1 Axes>"
      ]
     },
     "metadata": {
      "needs_background": "light"
     },
     "output_type": "display_data"
    }
   ],
   "source": [
    "from __future__ import print_function\n",
    "import numpy as np\n",
    "import numpy.matlib\n",
    "import numpy.linalg as la\n",
    "import math\n",
    "from sympy import * # symbolic calculation for IK\n",
    "import transformations as tfs\n",
    "from mpl_toolkits.mplot3d import Axes3D  \n",
    "import matplotlib.pyplot as plt\n",
    "\n",
    "import Robot4CRU as robot4CRU\n",
    "# create a robot \n",
    "robot = robot4CRU.Robot4CRU()\n",
    "# Schoenflies Trajectory\n",
    "dt = 0.1 # step size\n",
    "T = np.arange(0, 10, dt)\n",
    "\n",
    "tt = symbols('tt')\n",
    "XxH1 = 15.0 + 15.0*cos(0.5 * np.pi * tt)\n",
    "YyH1 = 15.0*sin(0.5 * np.pi * tt)\n",
    "ZzH1 = 120.0 + 4 * tt\n",
    "# PhiH1 = np.ones(len(T))*0.2\n",
    "PhiH1 = 0.25*sin(np.pi * tt)\n",
    "\n",
    "robot.operation_mode = \"H1\"\n",
    "\n",
    "dof1 = lambdify(tt, XxH1, \"numpy\")\n",
    "dof2 = lambdify(tt, YyH1, \"numpy\")\n",
    "dof3 = lambdify(tt, ZzH1, \"numpy\")\n",
    "dof4 = lambdify(tt, PhiH1, \"numpy\")\n",
    "\n",
    "DOF1 = dof1(T)\n",
    "DOF2 = dof2(T)\n",
    "DOF3 = dof3(T)\n",
    "DOF4 = dof4(T)\n",
    "\n",
    "des_pose_4dof_traj = np.array([DOF1, DOF2, DOF3, DOF4])\n",
    "\n",
    "# des_pose_4dof_traj = \n",
    "Hh1, TFtf1 = robot.solve_inv_kin_traj(des_pose_4dof_traj)\n",
    "    \n",
    "fig = plt.figure()\n",
    "ax = fig.add_axes([0,0,1,1])\n",
    "ax.plot(T, Hh1[0, :], label='h1')\n",
    "ax.plot(T, Hh1[1, :], label='h2')\n",
    "ax.plot(T, Hh1[2, :], label='h3')\n",
    "ax.plot(T, Hh1[3, :], label='h4')\n",
    "ax.set_ylabel('Joint Position (m)')\n",
    "ax.set_xlabel('Time (s)')\n",
    "ax.set_title('Inverse Kinematics Solution (H1: Schoenfiles Mode Trajectory)')\n",
    "ax.legend()\n",
    "plt.grid(True)\n",
    "plt.show()"
   ]
  },
  {
   "cell_type": "code",
   "execution_count": 79,
   "metadata": {},
   "outputs": [
    {
     "data": {
      "application/vnd.jupyter.widget-view+json": {
       "model_id": "b44a14a506f241aaaa50703dadd86146",
       "version_major": 2,
       "version_minor": 0
      },
      "text/plain": [
       "interactive(children=(IntSlider(value=49, description='u', max=99), Output()), _dom_classes=('widget-interact'…"
      ]
     },
     "metadata": {},
     "output_type": "display_data"
    }
   ],
   "source": [
    "# https://ipywidgets.readthedocs.io/en/latest/examples/Using%20Interact.html\n",
    "#from __future__ import print_function \n",
    "from ipywidgets import interact, interactive, fixed, interact_manual\n",
    "import ipywidgets as widgets\n",
    "\n",
    "def traj_H1(u):\n",
    "    Xx = DOF1\n",
    "    Yy = DOF2\n",
    "    Zz = DOF3\n",
    "\n",
    "    fig = plt.figure()\n",
    "    ax = fig.gca(projection='3d')\n",
    "    ax.view_init(30, 30)\n",
    "    ax.plot(Xx, Yy, Zz, label='des traj')\n",
    "    ax.scatter(Xx[u], Yy[u], Zz[u], label='des pos')\n",
    "    \n",
    "    # manually set joint position and tranformation mat of the robot\n",
    "    robot.tf_mat = TFtf1[u, :, :]\n",
    "    robot.joint_pos = Hh1[:,u]\n",
    "    \n",
    "    # draw robot\n",
    "    robot.drawRobot(ax)\n",
    "    \n",
    "    plt.show()\n",
    "    \n",
    "    print(\"t =\", T[u], \" sec\")\n",
    "\n",
    "interact(traj_H1, u=(0, len(T)-1));"
   ]
  },
  {
   "cell_type": "code",
   "execution_count": 33,
   "metadata": {},
   "outputs": [
    {
     "data": {
      "image/png": "[encoded data removed]",
      "text/plain": [
       "<Figure size 432x288 with 1 Axes>"
      ]
     },
     "metadata": {
      "needs_background": "light"
     },
     "output_type": "display_data"
    }
   ],
   "source": [
    "# H3 geometric A Trajectory\n",
    "robot.operation_mode = \"H3\"\n",
    "dt3a = 0.1\n",
    "tt3a = np.arange(0, 10, dt3a)\n",
    "Xx3a = np.ones(len(tt3a))*0\n",
    "Yy3a = 15.0*np.sin(0.5 * np.pi * tt3a)\n",
    "Zz3a = 120.0 + 15.0*np.cos(0.5 * np.pi * tt3a)\n",
    "# Theta3a = np.ones(len(tt3a))*0.5\n",
    "Theta3a = 0.5*np.sin(0.5 * np.pi * tt3a)\n",
    "\n",
    "des_pose_4dof_traj = np.array([Xx3a, Yy3a, Zz3a, Theta3a])\n",
    "Hh3a, TFtf3a = robot.solve_inv_kin_traj(des_pose_4dof_traj)\n",
    "    \n",
    "fig = plt.figure()\n",
    "ax = fig.add_axes([0,0,1,1])\n",
    "ax.plot(tt3a, Hh3a[0,:], label='h1=h4')\n",
    "ax.plot(tt3a, Hh3a[1,:], label='h2')\n",
    "ax.plot(tt3a, Hh3a[2,:], label='h3')\n",
    "# ax.plot(tt3a, Hh3a[3,:], label='h4')\n",
    "ax.set_ylabel('Joint Position (m)')\n",
    "ax.set_xlabel('Time (s)')\n",
    "ax.set_title('Inverse Kinematics Solution (H3: Additional Mode Trajectory)')\n",
    "ax.legend()\n",
    "plt.grid(True)\n",
    "plt.show()"
   ]
  },
  {
   "cell_type": "code",
   "execution_count": 34,
   "metadata": {},
   "outputs": [
    {
     "data": {
      "application/vnd.jupyter.widget-view+json": {
       "model_id": "f2b99b530c284a9aa3e4b79aadb574a5",
       "version_major": 2,
       "version_minor": 0
      },
      "text/plain": [
       "interactive(children=(IntSlider(value=49, description='u', max=99), Output()), _dom_classes=('widget-interact'…"
      ]
     },
     "metadata": {},
     "output_type": "display_data"
    }
   ],
   "source": [
    "def traj_H3(u):\n",
    "    #plt.ion() # don't need to use plt.show()\n",
    "    t3a = tt3a[u]\n",
    "    X3a = 0\n",
    "    Y3a = 15.0*np.sin(0.5 * np.pi * t3a)\n",
    "    Z3a = 120.0 + 15.0*np.cos(0.5 * np.pi * t3a)\n",
    "    \n",
    "    fig = plt.figure()\n",
    "    ax = fig.gca(projection='3d')\n",
    "    ax.view_init(30, 30)\n",
    "    ax.plot(Xx3a, Yy3a, Zz3a, label='des traj')\n",
    "    ax.scatter(X3a, Y3a, Z3a, label='des pos')\n",
    "    \n",
    "    # manually set joint position of the robot\n",
    "    robot.joint_pos = Hh3a[:,u]\n",
    "    robot.tf_mat = TFtf3a[u, :, :]\n",
    "    \n",
    "    # draw robot\n",
    "    robot.drawRobot(ax)\n",
    "    plt.show()\n",
    "    \n",
    "    print(\"t =\", t3a, \" sec\")\n",
    "\n",
    "interact(traj_H3, u=(0, len(tt3a)-1));"
   ]
  },
  {
   "cell_type": "code",
   "execution_count": 81,
   "metadata": {},
   "outputs": [
    {
     "name": "stdout",
     "output_type": "stream",
     "text": [
      "[205.26673907  64.8938043  220.80846024  88.50270561]\n",
      "[[ 9.97017374e-01  7.71774265e-02  0.00000000e+00  1.26534830e+01]\n",
      " [-7.71774265e-02  9.97017374e-01  0.00000000e+00  1.48153251e+01]\n",
      " [ 0.00000000e+00  0.00000000e+00  1.00000000e+00  1.40400000e+02]\n",
      " [ 0.00000000e+00  0.00000000e+00  0.00000000e+00  1.00000000e+00]]\n",
      "real roots of tp:  [ 5.17706496e+01  4.55319405e+01 -2.19626045e-02 -1.93159639e-02]\n",
      "[[ 9.97017374e-01  7.71774265e-02  0.00000000e+00  1.26534830e+01]\n",
      " [-7.71774265e-02  9.97017374e-01  0.00000000e+00  1.48153251e+01]\n",
      " [ 0.00000000e+00  0.00000000e+00  1.00000000e+00  1.40400000e+02]\n",
      " [ 0.00000000e+00  0.00000000e+00  0.00000000e+00  1.00000000e+00]]\n",
      "r1=  85.79999999833171\n",
      "r2=  85.7999999983314\n",
      "r3=  85.7999999983314\n",
      "r4=  85.7999999983317\n",
      "[[ 9.96144872e-01  8.77233946e-02  0.00000000e+00 -1.35240702e+01]\n",
      " [-8.77233946e-02  9.96144872e-01  0.00000000e+00  1.32562397e+01]\n",
      " [ 0.00000000e+00  0.00000000e+00  1.00000000e+00  1.39829045e+02]\n",
      " [ 0.00000000e+00  0.00000000e+00  0.00000000e+00  1.00000000e+00]]\n",
      "r1=  85.79999999900285\n",
      "r2=  85.79999999900299\n",
      "r3=  85.79999999900309\n",
      "r4=  85.79999999900278\n",
      "[[ 9.96144872e-01  8.77233946e-02  0.00000000e+00 -1.35240702e+01]\n",
      " [-8.77233946e-02  9.96144872e-01  0.00000000e+00  1.32562397e+01]\n",
      " [ 0.00000000e+00  0.00000000e+00  1.00000000e+00  1.39829045e+02]\n",
      " [ 0.00000000e+00  0.00000000e+00  0.00000000e+00  1.00000000e+00]]\n",
      "r1=  85.79999999759765\n",
      "r2=  85.79999999759762\n",
      "r3=  85.7999999975976\n",
      "r4=  85.79999999759765\n",
      "[[ 9.97017374e-01  7.71774265e-02  0.00000000e+00  1.26534830e+01]\n",
      " [-7.71774265e-02  9.97017374e-01  0.00000000e+00  1.48153251e+01]\n",
      " [ 0.00000000e+00  0.00000000e+00  1.00000000e+00  1.40400000e+02]\n",
      " [ 0.00000000e+00  0.00000000e+00  0.00000000e+00  1.00000000e+00]]\n",
      "r1=  85.79999999598174\n",
      "r2=  85.79999999598198\n",
      "r3=  85.79999999598195\n",
      "r4=  85.79999999598178\n"
     ]
    },
    {
     "data": {
      "image/png": "[encoded data removed]",
      "text/plain": [
       "<Figure size 432x288 with 1 Axes>"
      ]
     },
     "metadata": {
      "needs_background": "light"
     },
     "output_type": "display_data"
    }
   ],
   "source": [
    "print(robot.joint_pos)\n",
    "print(robot.tf_mat)\n",
    "import forward_kin_4CRU as fwd_kin\n",
    "\n",
    "rr = robot.forward_kinematics()\n",
    "print('real roots of tp: ', rr)\n",
    "np.real(rr)\n",
    "\n",
    "\n",
    "fig = plt.figure()\n",
    "ax = fig.gca(projection='3d')\n",
    "ax.view_init(30, 30)\n",
    "\n",
    "for i in range(len(rr)):\n",
    "    \n",
    "    # manually set joint position and tranformation mat of the robot\n",
    "    robot.tf_mat = robot.tf_mat_from_tp(rr[i])\n",
    "    print(robot.tf_mat)\n",
    "    # draw robot\n",
    "    robot.drawRobot(ax)\n",
    "    \n",
    "plt.show()\n"
   ]
  },
  {
   "cell_type": "markdown",
   "metadata": {},
   "source": [
    "# TO DO...\n",
    "1. Add interface for choosing operation mode switching at  and geometric condition \n",
    "2. choose inverse kinematic solution cases corresponding to sigularity for each mode\n",
    "3. Add plot of cureent inverse kinematic solution (and potential trajectory when switching modes)\n",
    "4. plot the singularity locus in the joint space and Cartesian Space\n",
    "5. Clean up codes "
   ]
  }
 ],
 "metadata": {
  "kernelspec": {
   "display_name": "Python 3",
   "language": "python",
   "name": "python3"
  },
  "language_info": {
   "codemirror_mode": {
    "name": "ipython",
    "version": 3
   },
   "file_extension": ".py",
   "mimetype": "text/x-python",
   "name": "python",
   "nbconvert_exporter": "python",
   "pygments_lexer": "ipython3",
   "version": "3.7.0"
  }
 },
 "nbformat": 4,
 "nbformat_minor": 2
}
