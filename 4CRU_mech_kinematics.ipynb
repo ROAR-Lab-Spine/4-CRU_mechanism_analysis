{
 "cells": [
  {
   "cell_type": "markdown",
   "metadata": {},
   "source": [
    "# 4-CRU Mechanism Kinematic Calculation Handbook"
   ]
  },
  {
   "cell_type": "code",
   "execution_count": 1,
   "metadata": {},
   "outputs": [
    {
     "data": {
      "text/plain": [
       "['',\n",
       " 'C:\\\\Users\\\\Chawin Ophaswongse\\\\OneDrive\\\\MechE MS-PhD\\\\Jupyter_notebook\\\\4-CRU_mechnism_project\\\\4-CRU_mechanism_analysis',\n",
       " 'C:\\\\ProgramData\\\\Anaconda3\\\\python37.zip',\n",
       " 'C:\\\\ProgramData\\\\Anaconda3\\\\DLLs',\n",
       " 'C:\\\\ProgramData\\\\Anaconda3\\\\lib',\n",
       " 'C:\\\\ProgramData\\\\Anaconda3',\n",
       " 'C:\\\\ProgramData\\\\Anaconda3\\\\lib\\\\site-packages',\n",
       " 'C:\\\\ProgramData\\\\Anaconda3\\\\lib\\\\site-packages\\\\win32',\n",
       " 'C:\\\\ProgramData\\\\Anaconda3\\\\lib\\\\site-packages\\\\win32\\\\lib',\n",
       " 'C:\\\\ProgramData\\\\Anaconda3\\\\lib\\\\site-packages\\\\Pythonwin',\n",
       " 'C:\\\\ProgramData\\\\Anaconda3\\\\lib\\\\site-packages\\\\IPython\\\\extensions',\n",
       " 'C:\\\\Users\\\\Chawin Ophaswongse\\\\.ipython']"
      ]
     },
     "execution_count": 1,
     "metadata": {},
     "output_type": "execute_result"
    }
   ],
   "source": [
    "from __future__ import print_function\n",
    "import numpy as np\n",
    "import numpy.matlib\n",
    "import numpy.linalg as la\n",
    "import math\n",
    "from sympy import * # symbolic calculation for IK\n",
    "#import transformations.py as tfs \n",
    "import transformations as tfs\n",
    "from mpl_toolkits.mplot3d import Axes3D  \n",
    "import matplotlib.pyplot as plt\n",
    "\n",
    "# check the environment and directory of the notebook\n",
    "import sys\n",
    "sys.path"
   ]
  },
  {
   "cell_type": "markdown",
   "metadata": {},
   "source": [
    "## Important Notes\n",
    "1. This notebook must be run in conda environment (python 3 kernel)\n",
    "2. Always put transformations.py in the same directory as this notebook\n",
    "\n",
    "## Jupyter Notebook Tips and Tricks\n",
    "1. https://www.dataquest.io/blog/jupyter-notebook-tips-tricks-shortcuts/\n",
    "2. https://hub.packtpub.com/basics-jupyter-notebook-python/\n",
    "3. Installing Python Kernel https://ipython.readthedocs.io/en/latest/install/kernel_install.html\n",
    "4. Update Python 3.5 in Ubuntu 16.04 to 3.6+ http://ubuntuhandbook.org/index.php/2017/07/install-python-3-6-1-in-ubuntu-16-04-lts/\n",
    "\n",
    "## Notes on [Transformation.py](https://github.com/ROAR-Lab-Spine/geometry/blob/melodic-devel/tf/src/tf/transformations.py)\n",
    "\n",
    "\n",
    "1. Quaternions $q = ix+jy+kz+w$ are represented as $[x, y, z, w ]$= $[x_1, x_2, x_3, x_0]$.\n",
    "\n",
    "## Notes on [SymPy’s documentation](https://docs.sympy.org/latest/index.html)\n",
    "\n",
    "1. [Matrix Functions](https://docs.sympy.org/latest/modules/matrices/common.html?highlight=transpose#sympy.matrices.common.MatrixCommon.transpose)\n",
    "2. [Matrix Operations](https://docs.sympy.org/latest/modules/matrices/matrices.html?highlight=matrix%20operation)\n",
    "3. [Polynomial and Groebner bases¶](https://docs.sympy.org/latest/modules/polys/basics.html?highlight=polynomial%20solve)\n",
    "4. Primary Decomposition\n",
    "\n",
    "## Notes on SINGULAR\n",
    "1. [Related Publications](https://www.singular.uni-kl.de/index.php/publications/singular-related-publications.html)"
   ]
  },
  {
   "cell_type": "code",
   "execution_count": 2,
   "metadata": {},
   "outputs": [
    {
     "name": "stdout",
     "output_type": "stream",
     "text": [
      "[0. 0. 0. 1.]\n",
      "[0.  0.  0.1]\n"
     ]
    }
   ],
   "source": [
    "tf_init = tfs.identity_matrix()\n",
    "# print tf_init\n",
    "des_quat = tfs.quaternion_about_axis(0, (0, 0, 1))\n",
    "des_xyz = np.array([0,0,0.1])\n",
    "print(des_quat)\n",
    "print(des_xyz)"
   ]
  },
  {
   "cell_type": "code",
   "execution_count": 3,
   "metadata": {},
   "outputs": [],
   "source": [
    "# Set up Symbolic variables\n",
    "X, Y, Z = symbols('X, Y, Z')\n",
    "x_0, x_1, x_2, x_3 = symbols('x_0, x_1, x_2, x_3')\n",
    "a, b, c, d = symbols('a, b, c, d')\n",
    "h_1, h_2, h_3, h_4 = symbols('h_1, h_2, h_3, h_4')\n",
    "r = symbols('r')"
   ]
  },
  {
   "cell_type": "code",
   "execution_count": 4,
   "metadata": {},
   "outputs": [],
   "source": [
    "# Position of the C joint with respect to the base frame\n",
    "r0_B1 = Matrix([a, -b, h_1, 1])\n",
    "r1_C1 = Matrix([c, -d, 0, 1])\n",
    "\n",
    "r0_B2 = Matrix([a, b, h_2, 1])\n",
    "r1_C2 = Matrix([c, d, 0, 1])\n",
    "\n",
    "r0_B3 = Matrix([-a, b, h_3, 1])\n",
    "r1_C3 = Matrix([-c, d, 0, 1])\n",
    "\n",
    "r0_B4 = Matrix([-a, -b, h_4, 1])\n",
    "r1_C4 = Matrix([-c, -d, 0, 1])"
   ]
  },
  {
   "cell_type": "code",
   "execution_count": 5,
   "metadata": {},
   "outputs": [
    {
     "data": {
      "text/plain": [
       "Matrix([\n",
       "[x_0**2 + x_1**2 - x_2**2 - x_3**2,        -2.0*x_0*x_3 + 2.0*x_1*x_2,         2.0*x_0*x_2 + 2.0*x_1*x_3,   X],\n",
       "[        2.0*x_0*x_3 + 2.0*x_1*x_2, x_0**2 - x_1**2 + x_2**2 - x_3**2,        -2.0*x_0*x_1 + 2.0*x_2*x_3,   Y],\n",
       "[       -2.0*x_0*x_2 + 2.0*x_1*x_3,         2.0*x_0*x_1 + 2.0*x_2*x_3, x_0**2 - x_1**2 - x_2**2 + x_3**2,   Z],\n",
       "[                                0,                                 0,                                 0, 1.0]])"
      ]
     },
     "execution_count": 5,
     "metadata": {},
     "output_type": "execute_result"
    }
   ],
   "source": [
    "R0_1 = Matrix([[x_0**2 + x_1**2 - x_2**2 - x_3**2, 2.0*(x_1*x_2 - x_0*x_3), 2.0*(x_0*x_2 + x_1*x_3)],\n",
    "                [2.0*(x_0*x_3 + x_1*x_2),x_0**2 - x_1**2 + x_2**2 - x_3**2,2.0*(x_2*x_3 - x_0*x_1)],\n",
    "                [2.0*(x_1*x_3 - x_0*x_2),2.0*(x_0*x_1 + x_2*x_3),x_0**2 - x_1**2 - x_2**2 + x_3**2]])\n",
    "r0_1 = Matrix([X, Y, Z, 1.0])  \n",
    "T0_1 = R0_1.col_join(zeros(1,3))\n",
    "T0_1 = T0_1.row_join(r0_1)\n",
    "T0_1"
   ]
  },
  {
   "cell_type": "code",
   "execution_count": 6,
   "metadata": {},
   "outputs": [],
   "source": [
    "# Vector along the U-U Rods\n",
    "u0_1 = T0_1*r1_C1 - r0_B1\n",
    "u0_2 = T0_1*r1_C2 - r0_B2\n",
    "u0_3 = T0_1*r1_C3 - r0_B3\n",
    "u0_4 = T0_1*r1_C4 - r0_B4"
   ]
  },
  {
   "cell_type": "code",
   "execution_count": 7,
   "metadata": {},
   "outputs": [],
   "source": [
    "r0_ee_to_C2 = T0_1*r1_C2\n",
    "r0_ee_to_C2 = r0_ee_to_C2.subs([(X, 0),(Y, 0),(Z, 0)])"
   ]
  },
  {
   "cell_type": "code",
   "execution_count": 8,
   "metadata": {},
   "outputs": [],
   "source": [
    "# Scalar Triple Product \n",
    "f_5 = simplify(expand(u0_1.dot(u0_1))) - r**2\n",
    "f_6 = simplify(expand(u0_2.dot(u0_2))) - r**2\n",
    "f_7 = simplify(expand(u0_3.dot(u0_3))) - r**2\n",
    "f_8 = simplify(expand(u0_4.dot(u0_4))) - r**2\n",
    "f_9 = x_0**2+x_1**2+x_2**2+x_3**2-1.0\n",
    "\n",
    "# Substitute Additional Mode Geometric Condition A\n",
    "f_5A = f_5.subs([(c, a),(x_2, 0),(x_3, 0),(X,0)],simultaneous=True)\n",
    "f_6A = f_6.subs([(c, a),(x_2, 0),(x_3, 0),(X,0)],simultaneous=True)\n",
    "f_7A = f_7.subs([(c, a),(x_2, 0),(x_3, 0),(X,0)],simultaneous=True)\n",
    "f_8A = f_8.subs([(c, a),(x_2, 0),(x_3, 0),(X,0)],simultaneous=True)\n",
    "f_9A = f_9.subs([(c, a),(x_2, 0),(x_3, 0),(X,0)],simultaneous=True)"
   ]
  },
  {
   "cell_type": "code",
   "execution_count": 9,
   "metadata": {},
   "outputs": [
    {
     "data": {
      "text/plain": [
       "(x_0**2 + x_1**2 - 1.0)**2"
      ]
     },
     "execution_count": 9,
     "metadata": {},
     "output_type": "execute_result"
    }
   ],
   "source": [
    "f_9A_sq = f_9A*f_9A\n",
    "f_9A_sq_expd = expand(f_9A_sq)\n",
    "f_9A_sq"
   ]
  },
  {
   "cell_type": "code",
   "execution_count": 10,
   "metadata": {},
   "outputs": [
    {
     "data": {
      "text/plain": [
       "x_0**4 + 2*x_0**2*x_1**2 - 2.0*x_0**2 + x_1**4 - 2.0*x_1**2 + 1.0"
      ]
     },
     "execution_count": 10,
     "metadata": {},
     "output_type": "execute_result"
    }
   ],
   "source": [
    "f_9A_sq_expd.subs(-2.0*x_0**2-2.0*x_1**2, -2)"
   ]
  },
  {
   "cell_type": "code",
   "execution_count": 11,
   "metadata": {},
   "outputs": [
    {
     "data": {
      "text/plain": [
       "x_0**4 + 2*x_0**2*x_1**2 - 2.0*x_0**2 + x_1**4 - 2.0*x_1**2 + 1.0"
      ]
     },
     "execution_count": 11,
     "metadata": {},
     "output_type": "execute_result"
    }
   ],
   "source": [
    "f_9A_sq_expd"
   ]
  },
  {
   "cell_type": "code",
   "execution_count": 12,
   "metadata": {},
   "outputs": [
    {
     "data": {
      "text/plain": [
       "Y**2 + Y*(2*b - 2*d*x_0**2 + 2*d*x_1**2) + Z**2 + Z*(-4.0*d*x_0*x_1 - 2*h_1) + a**2*(x_0**4 + 2*x_0**2*x_1**2 - 2*x_0**2 + x_1**4 - 2*x_1**2 + 1) + b**2 + b*(-2*d*x_0**2 + 2*d*x_1**2) + d**2*(x_0**4 + 2.0*x_0**2*x_1**2 + x_1**4) + 4.0*d*h_1*x_0*x_1 + h_1**2 - r**2"
      ]
     },
     "execution_count": 12,
     "metadata": {},
     "output_type": "execute_result"
    }
   ],
   "source": [
    "f_5A = collect(f_5A, (X,Y,Z,r,a,b,c,d))\n",
    "f_5A"
   ]
  },
  {
   "cell_type": "code",
   "execution_count": 13,
   "metadata": {},
   "outputs": [
    {
     "data": {
      "text/plain": [
       "Y**2 + Y*(2*b - 2*d*x_0**2 + 2*d*x_1**2) + Z**2 + Z*(-4.0*d*x_0*x_1 - 2*h_1) + b**2 + b*(-2*d*x_0**2 + 2*d*x_1**2) + d**2 + 4.0*d*h_1*x_0*x_1 + h_1**2 - r**2"
      ]
     },
     "execution_count": 13,
     "metadata": {},
     "output_type": "execute_result"
    }
   ],
   "source": [
    "# eliminate the quaternion identity\n",
    "f_5A = f_5A.subs(x_0**4+2.0*x_0**2*x_1**2+x_1**4, 1)\n",
    "f_5A = f_5A.subs(f_9A_sq_expd-1.0,-1.0)\n",
    "f_5A"
   ]
  },
  {
   "cell_type": "code",
   "execution_count": 14,
   "metadata": {},
   "outputs": [
    {
     "data": {
      "text/plain": [
       "Y**2 + Y*(-2*b + 2*d*x_0**2 - 2*d*x_1**2) + Z**2 + Z*(4.0*d*x_0*x_1 - 2*h_2) + b**2 + b*(-2*d*x_0**2 + 2*d*x_1**2) + d**2 - 4.0*d*h_2*x_0*x_1 + h_2**2 - r**2"
      ]
     },
     "execution_count": 14,
     "metadata": {},
     "output_type": "execute_result"
    }
   ],
   "source": [
    "f_6A = collect(f_6A, (X,Y,Z,r,a,b,c,d))\n",
    "f_6A = f_6A.subs(x_0**4+2.0*x_0**2*x_1**2+x_1**4, 1)\n",
    "f_6A = f_6A.subs(f_9A_sq_expd-1.0,-1.0)\n",
    "f_6A"
   ]
  },
  {
   "cell_type": "code",
   "execution_count": 15,
   "metadata": {},
   "outputs": [
    {
     "data": {
      "text/plain": [
       "Y**2 + Y*(-2*b + 2*d*x_0**2 - 2*d*x_1**2) + Z**2 + Z*(4.0*d*x_0*x_1 - 2*h_3) + b**2 + b*(-2*d*x_0**2 + 2*d*x_1**2) + d**2 - 4.0*d*h_3*x_0*x_1 + h_3**2 - r**2"
      ]
     },
     "execution_count": 15,
     "metadata": {},
     "output_type": "execute_result"
    }
   ],
   "source": [
    "f_7A = collect(f_7A, (X,Y,Z,r,a,b,c,d))\n",
    "f_7A = f_7A.subs(x_0**4+2.0*x_0**2*x_1**2+x_1**4, 1)\n",
    "f_7A = f_7A.subs(f_9A_sq_expd-1.0,-1.0)\n",
    "f_7A"
   ]
  },
  {
   "cell_type": "code",
   "execution_count": 16,
   "metadata": {},
   "outputs": [
    {
     "data": {
      "text/plain": [
       "Y**2 + Y*(-2*b + 2*d*x_0**2 - 2*d*x_1**2) + Z**2 + Z*(4.0*d*x_0*x_1 - 2*h_3) + b**2 + b*(-2*d*x_0**2 + 2*d*x_1**2) + d**2 - 4.0*d*h_3*x_0*x_1 + h_3**2 - r**2"
      ]
     },
     "execution_count": 16,
     "metadata": {},
     "output_type": "execute_result"
    }
   ],
   "source": [
    "f_8A = collect(f_8A, (X,Y,Z,r,a,b,c,d))\n",
    "f_8A = f_8A.subs(x_0**4+2.0*x_0**2*x_1**2+x_1**4, 1)\n",
    "f_8A = f_8A.subs(f_9A_sq_expd-1.0,-1.0)\n",
    "f_7A"
   ]
  },
  {
   "cell_type": "markdown",
   "metadata": {},
   "source": [
    "# Inverse Kinematics (Schoenfiles Mode)"
   ]
  },
  {
   "cell_type": "code",
   "execution_count": 17,
   "metadata": {},
   "outputs": [
    {
     "data": {
      "text/plain": [
       "sqrt(-a**2 + 2.0*a*c - b**2 + 2.0*b*d - c**2 - d**2 + r**2) + 0.1"
      ]
     },
     "execution_count": 17,
     "metadata": {},
     "output_type": "execute_result"
    }
   ],
   "source": [
    "# Schonflies Mode\n",
    "# T0_1_H1 = T0_1.subs([(x_1, 0),(x_2, 0)],simultaneous=True)\n",
    "des_pose = tfs.identity_matrix()\n",
    "\n",
    "f_5_H1 = f_5.subs([(X, des_xyz[0]),\n",
    "                   (Y, des_xyz[1]),\n",
    "                   (Z, des_xyz[2]),\n",
    "                   (x_1, des_quat[0]),\n",
    "                   (x_2, des_quat[1]),\n",
    "                   (x_3, des_quat[2]),\n",
    "                   (x_0, des_quat[3])],\n",
    "                  simultaneous=True) \n",
    "h_1_sols = solve(f_5_H1, h_1)\n",
    "h_1_sols[1]"
   ]
  },
  {
   "cell_type": "code",
   "execution_count": 18,
   "metadata": {},
   "outputs": [
    {
     "data": {
      "text/plain": [
       "Z + sqrt(-X**2 + 2.0*X*a - 2.0*X*c*x_0**2 + 2.0*X*c*x_3**2 + 4.0*X*d*x_0*x_3 - Y**2 + 2.0*Y*b - 4.0*Y*c*x_0*x_3 - 2.0*Y*d*x_0**2 + 2.0*Y*d*x_3**2 - a**2 + 2.0*a*c*x_0**2 - 2.0*a*c*x_3**2 - 4.0*a*d*x_0*x_3 - b**2 + 4.0*b*c*x_0*x_3 + 2.0*b*d*x_0**2 - 2.0*b*d*x_3**2 - c**2*x_0**4 - 2.0*c**2*x_0**2*x_3**2 - c**2*x_3**4 - d**2*x_0**4 - 2.0*d**2*x_0**2*x_3**2 - d**2*x_3**4 + r**2)"
      ]
     },
     "execution_count": 18,
     "metadata": {},
     "output_type": "execute_result"
    }
   ],
   "source": [
    "h_2_sols = solve(f_6, h_2)\n",
    "h_2_sols[1].subs([(x_1, 0),(x_2,0)])\n",
    "# We can change the signs of a,b,c,d corresponding to the position of each joint"
   ]
  },
  {
   "cell_type": "markdown",
   "metadata": {},
   "source": [
    "# Inverse Kinematics (Additional Mode: Geometric A)"
   ]
  },
  {
   "cell_type": "code",
   "execution_count": 19,
   "metadata": {},
   "outputs": [
    {
     "data": {
      "text/plain": [
       "1.0*(1.0*h_1 - 1.0*h_4)*(-2.0*Z + 4.0*d*x_0*x_1 + 1.0*h_1 + 1.0*h_4)"
      ]
     },
     "execution_count": 19,
     "metadata": {},
     "output_type": "execute_result"
    }
   ],
   "source": [
    "# Additional Mode (Geometric A)\n",
    "g_1A = factor(f_5A - f_8A)\n",
    "g_1A"
   ]
  },
  {
   "cell_type": "code",
   "execution_count": 20,
   "metadata": {},
   "outputs": [
    {
     "data": {
      "text/plain": [
       "-1.0*(-2.0*Y**2 - 4.0*Y*b + 4.0*Y*d*x_0**2 - 4.0*Y*d*x_1**2 - 2.0*Z**2 + 8.0*Z*d*x_0*x_1 + 2.0*Z*h_1 + 2.0*Z*h_4 - 2.0*b**2 + 4.0*b*d*x_0**2 - 4.0*b*d*x_1**2 - 2.0*d**2 - 4.0*d*h_1*x_0*x_1 - 4.0*d*h_4*x_0*x_1 - 1.0*h_1**2 - 1.0*h_4**2 + 2.0*r**2)"
      ]
     },
     "execution_count": 20,
     "metadata": {},
     "output_type": "execute_result"
    }
   ],
   "source": [
    "g_2A = factor(f_5A + f_8A)\n",
    "g_2A"
   ]
  },
  {
   "cell_type": "code",
   "execution_count": 21,
   "metadata": {},
   "outputs": [
    {
     "data": {
      "text/plain": [
       "(1.0*h_2 - 1.0*h_3)*(-2.0*Z - 4.0*d*x_0*x_1 + 1.0*h_2 + 1.0*h_3)"
      ]
     },
     "execution_count": 21,
     "metadata": {},
     "output_type": "execute_result"
    }
   ],
   "source": [
    "g_3A = factor(f_6A - f_7A)\n",
    "g_3A = g_3A .args[1]*(g_3A.args[0]*g_3A.args[2])\n",
    "g_3A"
   ]
  },
  {
   "cell_type": "code",
   "execution_count": 22,
   "metadata": {},
   "outputs": [
    {
     "data": {
      "text/plain": [
       "2.0*Y**2 - 4.0*Y*b + 4.0*Y*d*x_0**2 - 4.0*Y*d*x_1**2 + 2.0*Z**2 + 8.0*Z*d*x_0*x_1 - 2.0*Z*h_2 - 2.0*Z*h_3 + 2.0*b**2 - 4.0*b*d*x_0**2 + 4.0*b*d*x_1**2 + 2.0*d**2 - 4.0*d*h_2*x_0*x_1 - 4.0*d*h_3*x_0*x_1 + 1.0*h_2**2 + 1.0*h_3**2 - 2.0*r**2"
      ]
     },
     "execution_count": 22,
     "metadata": {},
     "output_type": "execute_result"
    }
   ],
   "source": [
    "g_4A = expand(factor(f_6A + f_7A))\n",
    "g_4A"
   ]
  },
  {
   "cell_type": "code",
   "execution_count": 23,
   "metadata": {},
   "outputs": [
    {
     "data": {
      "text/plain": [
       "Y**2 + 2.0*Y*b - 2.0*Y*d*x_0**2 + 2.0*Y*d*x_1**2 + Z**2 - 4.0*Z*d*x_0*x_1 - 2.0*Z*h_4 + b**2 - 2.0*b*d*x_0**2 + 2.0*b*d*x_1**2 + d**2 + 4.0*d*h_4*x_0*x_1 + h_4**2 - 1.0*r**2"
      ]
     },
     "execution_count": 23,
     "metadata": {},
     "output_type": "execute_result"
    }
   ],
   "source": [
    "# Reduce to 3 Equations \n",
    "e_1A = expand(factor(g_2A.subs(h_1, h_4)))/2\n",
    "e_1A"
   ]
  },
  {
   "cell_type": "code",
   "execution_count": 24,
   "metadata": {},
   "outputs": [
    {
     "data": {
      "text/plain": [
       "-2.0*Z - 4.0*d*x_0*x_1 + 1.0*h_2 + 1.0*h_3"
      ]
     },
     "execution_count": 24,
     "metadata": {},
     "output_type": "execute_result"
    }
   ],
   "source": [
    "#***Choose the factor that does not lead to actuation singularity configuration\n",
    "e_2A = g_3A.args[1]\n",
    "e_2A"
   ]
  },
  {
   "cell_type": "code",
   "execution_count": 25,
   "metadata": {},
   "outputs": [
    {
     "data": {
      "text/plain": [
       "-1.0*(-2.0*Y**2 + 4.0*Y*b - 4.0*Y*d*x_0**2 + 4.0*Y*d*x_1**2 - 2.0*Z**2 - 8.0*Z*d*x_0*x_1 + 2.0*Z*h_2 + 2.0*Z*h_3 - 2.0*b**2 + 4.0*b*d*x_0**2 - 4.0*b*d*x_1**2 - 2.0*d**2 + 4.0*d*h_2*x_0*x_1 + 4.0*d*h_3*x_0*x_1 - 1.0*h_2**2 - 1.0*h_3**2 + 2.0*r**2)"
      ]
     },
     "execution_count": 25,
     "metadata": {},
     "output_type": "execute_result"
    }
   ],
   "source": [
    "e_3A = g_4A\n",
    "e_3A\n",
    "factor(e_3A)"
   ]
  },
  {
   "cell_type": "code",
   "execution_count": 26,
   "metadata": {},
   "outputs": [
    {
     "name": "stdout",
     "output_type": "stream",
     "text": [
      "h1 =  Z - 2.0*d*x_0*x_1 - sqrt(-Y**2 - 2.0*Y*b + 2.0*Y*d*x_0**2 - 2.0*Y*d*x_1**2 - b**2 + 2.0*b*d*x_0**2 - 2.0*b*d*x_1**2 + 4.0*d**2*x_0**2*x_1**2 - d**2 + r**2)  or \n",
      "Z - 2.0*d*x_0*x_1 + sqrt(-Y**2 - 2.0*Y*b + 2.0*Y*d*x_0**2 - 2.0*Y*d*x_1**2 - b**2 + 2.0*b*d*x_0**2 - 2.0*b*d*x_1**2 + 4.0*d**2*x_0**2*x_1**2 - d**2 + r**2)\n"
     ]
    }
   ],
   "source": [
    "# solve for h_4 (=h_1), h_2, and h_3\n",
    "\n",
    "# invs_kin_sols_geo_A = solve((e_1A, e_2A, e_3A), (h_2, h_3, h_4))\n",
    "# invs_kin_sols_geo_A\n",
    "\n",
    "h_1_h_4_sol = simplify(solve(e_1A, h_4))\n",
    "print('h1 = ', h_1_h_4_sol[0], ' or ')\n",
    "print(h_1_h_4_sol[1])"
   ]
  },
  {
   "cell_type": "code",
   "execution_count": 27,
   "metadata": {},
   "outputs": [],
   "source": [
    "# https://stackoverflow.com/questions/53092738/eliminate-a-variable-to-relate-two-functions-in-python-using-sympy\n",
    "# https://github.com/sympy/sympy/issues/2720\n",
    "d_1A = factor(e_3A.subs(h_2, solve(e_2A, h_2)[0]))\n",
    "h_3_sol = solve((d_1A,f_9A), h_3)"
   ]
  },
  {
   "cell_type": "code",
   "execution_count": 28,
   "metadata": {},
   "outputs": [
    {
     "data": {
      "text/plain": [
       "Z + 2.0*d*x_0*x_1 - sqrt(-Y**2 + 2.0*Y*b - 2.0*Y*d*x_0**2 + 2.0*Y*d*x_1**2 - b**2 + 2.0*b*d*x_0**2 - 2.0*b*d*x_1**2 + 4.0*d**2*x_0**2*x_1**2 - d**2 + r**2)"
      ]
     },
     "execution_count": 28,
     "metadata": {},
     "output_type": "execute_result"
    }
   ],
   "source": [
    "h_3_sol[0][0]"
   ]
  },
  {
   "cell_type": "code",
   "execution_count": 29,
   "metadata": {},
   "outputs": [
    {
     "data": {
      "text/plain": [
       "1.0*Z + 2.0*d*x_0*x_1 + sqrt(-Y**2 + 2.0*Y*b - 2.0*Y*d*x_0**2 + 2.0*Y*d*x_1**2 - b**2 + 2.0*b*d*x_0**2 - 2.0*b*d*x_1**2 + 4.0*d**2*x_0**2*x_1**2 - d**2 + r**2)"
      ]
     },
     "execution_count": 29,
     "metadata": {},
     "output_type": "execute_result"
    }
   ],
   "source": [
    "h_2_sol = (solve(e_2A, h_2)[0]).subs(h_3, h_3_sol[0][0])\n",
    "h_2_sol"
   ]
  },
  {
   "cell_type": "markdown",
   "metadata": {},
   "source": [
    "# Forward Kinematics (Schoenfiles Mode)"
   ]
  },
  {
   "cell_type": "code",
   "execution_count": null,
   "metadata": {},
   "outputs": [],
   "source": []
  },
  {
   "cell_type": "markdown",
   "metadata": {},
   "source": [
    "# Trajectory Simulation "
   ]
  },
  {
   "cell_type": "markdown",
   "metadata": {},
   "source": [
    "# Robot Class "
   ]
  },
  {
   "cell_type": "code",
   "execution_count": 30,
   "metadata": {},
   "outputs": [],
   "source": [
    "class Robot4CRU(object):\n",
    "    \"\"\"class of Robot_4CRU\"\"\"\n",
    "    def __init__(self):\n",
    "        super(Robot4CRU, self).__init__()\n",
    "        self.set_geometric_params([0, 0, 1, 4]) # A min alpha, beta = 45 deg, long ee diag length, long base diag length\n",
    "        #self.set_geometric_params([4, 0, 1, 4]) # B max alpha, beta = 45 deg, long ee diag length, long base diag length\n",
    "        self.operation_mode = \"H1\" # H1 = Schoenfiles, H3 = Additional, H2 = Reverse Schoenfiles\n",
    "        \n",
    "    def set_geometric_params(self, new_geometric_indcs):\n",
    "        # End-effector joint axis distribution angles (5 cases)\n",
    "        self.alphas = np.sort(np.array([np.pi/4.0, np.pi/4.0 + np.pi/8.0, np.pi/2.0, np.pi/2.0 + np.pi/8.0, np.pi/2.0 + np.pi/4.0])/2.0)\n",
    "        # Base joint axis distribution angles (2 cases)\n",
    "        self.betas = np.sort(np.array([np.pi/4.0, np.pi/4.0 + np.pi/8.0]))\n",
    "        # end effector diagonal lengths (2 cases) unit in mm\n",
    "        self.eeff_diag_lengths = np.sort(np.array([6.25/np.cos(np.pi/8)-2.0, 6.25/np.cos(np.pi/8)]))*25.4\n",
    "        # base diagonal length (5 cases) unit in mm\n",
    "        self.base_diag_lengths = np.sort(np.array([self.eeff_diag_lengths[0],\n",
    "            self.eeff_diag_lengths[1],\n",
    "            self.eeff_diag_lengths[0]*np.cos(self.alphas[1])/np.cos(self.betas[0]), \n",
    "            self.eeff_diag_lengths[1]*np.cos(self.alphas[0])/np.cos(self.betas[0]),\n",
    "            self.eeff_diag_lengths[1]*np.cos(self.alphas[1])/np.cos(self.betas[0])]))\n",
    "        # length of the UU couple (from CAD) unit in mm\n",
    "        self.r = (1.75*2 + 2.54*2)*10.0\n",
    "        self.joint_pos_range = np.array([0, 300.00])\n",
    "        self.joint_pos = np.full(4, self.joint_pos_range[1]/2.0) # home position\n",
    "        #self.h_offset = 3.0*25.4 # (approx.) TODO: update from real CAD\n",
    "        self.h_offset = 0 # not offset in simulation\n",
    "\n",
    "        self.geometric_indcs = new_geometric_indcs\n",
    "        self.a = self.base_diag_lengths[self.geometric_indcs[3]]/2.0*np.cos(self.betas[self.geometric_indcs[1]])\n",
    "        self.b = self.base_diag_lengths[self.geometric_indcs[3]]/2.0*np.sin(self.betas[self.geometric_indcs[1]])\n",
    "        self.c = self.eeff_diag_lengths[self.geometric_indcs[2]]/2.0*np.cos(self.alphas[self.geometric_indcs[0]])\n",
    "        self.d = self.eeff_diag_lengths[self.geometric_indcs[2]]/2.0*np.sin(self.alphas[self.geometric_indcs[0]])\n",
    "        self.update_geometric_cond()\n",
    "        \n",
    "    def update_geometric_cond(self):\n",
    "        curr_a = round(self.a, 3) # magnitude only\n",
    "        curr_b = round(self.b, 3)\n",
    "        curr_c = round(self.c, 3)\n",
    "        curr_d = round(self.d, 3)\n",
    "        if (curr_a < curr_c and curr_b > curr_d) or (curr_a > curr_c and curr_b < curr_d):\n",
    "            self.geometric_cond = \"Generic\"\n",
    "        elif curr_a == curr_c and curr_b != curr_d:\n",
    "            self.geometric_cond = \"A\"\n",
    "        elif curr_a != curr_c and curr_b == curr_d:\n",
    "            self.geometric_cond = \"B\"\n",
    "        elif curr_a == curr_c and curr_b == curr_d:\n",
    "            self.geometric_cond = \"C\"\n",
    "        else:\n",
    "            self.geometric_cond = \"Other\"\n",
    "            print(\"Additional Mode is not achievable!\")\n",
    "        print(\"Geometric Condition: \", self.geometric_cond)\n",
    "        print(\"[a, b, c, d] = \", [self.a, self.b, self.c, self.d], \" mm\")\n",
    "        print(\"r = \", self.r, \" mm\")\n",
    "        \n",
    "    def inverse_kinematics(self, des_pose_4dof):\n",
    "        reals, discriminants, has_solution = self.check_ik_feasible(des_pose_4dof)\n",
    "        all_joint_pos_sol = np.full((4, 2), self.joint_pos_range[1]/2.0) # home position as default value\n",
    "        all_swivel_angles = np.zeros((4, 2)) # indices [joint_no, U1/U2]\n",
    "        current_joint_pos = self.joint_pos\n",
    "        selected_joint_pos_sol = current_joint_pos\n",
    "        if has_solution:\n",
    "            for i in range(4):\n",
    "                for j in range(2):\n",
    "                    if j == 0:\n",
    "                        all_joint_pos_sol[i,j] = reals[i] - np.sqrt(discriminants[i]) - self.h_offset\n",
    "                    elif j == 1:\n",
    "                        all_joint_pos_sol[i,j] = reals[i] + np.sqrt(discriminants[i]) - self.h_offset\n",
    "                    swivel_angle_U1, swivel_angle_U2 = self.calc_swivel_angle(des_pose_4dof, all_joint_pos_sol[i,1], i)\n",
    "                    all_swivel_angles[i,0] = swivel_angle_U1\n",
    "                    all_swivel_angles[i,1] = swivel_angle_U2\n",
    "                # choose based on the closest joint position\n",
    "                #joint_pos_diff_j_index = np.argmin(np.abs(all_joint_pos_sol[i,:] - current_joint_pos[i]))\n",
    "                #selected_joint_pos_sol[i] = all_joint_pos_sol[i, joint_pos_diff_j_index]\n",
    "                if self.operation_mode == \"H1\":\n",
    "                    # prevent actuation sigularity and self-motion during phi = 0\n",
    "                    # avoid h1 = h2, h3 = h4 or h1 = h4, h2 = h3 or h1 = h2 = h3 = h4\n",
    "                    # pairs of the same sign: h1-h3, h2-h4\n",
    "                    joint_pos_sol_index = np.array([1, 0, 1, 0]) # or [0, 1, 0, 1], 1 = hi, 0 = low\n",
    "                elif self.operation_mode == \"H3\":\n",
    "                    # choose the case h1=h4, h2~=h3\n",
    "                    joint_pos_sol_index = np.array([0, 0, 1, 0]) # or [0, 0, 0, 1] or [1, 1, 1, 0] or [1, 1, 0, 1]\n",
    "                selected_joint_pos_sol[i] = all_joint_pos_sol[i, joint_pos_sol_index[i]]\n",
    "        else:\n",
    "            # if no solution, return current joint positions\n",
    "            print(\"No IK Solution: at least one discriminant is negative: \", discriminants)\n",
    "        # check the swivel angle limit on both ends of the U-U rod: provide warning on the screen if the joint are out of ranges\n",
    "        print(\"IK joint pos solutions: \", selected_joint_pos_sol)\n",
    "        #print(\"swivel angles (deg): \", np.rad2deg(all_swivel_angles))\n",
    "        return selected_joint_pos_sol.tolist()\n",
    "    \n",
    "    def check_ik_feasible(self, pose_4dof):\n",
    "        tf_mat_base_to_eeff, X, Y, Z, x_0, x_1, x_2, x_3 = self.convert_pose_4dof_to_tf_mat_and_7var(pose_4dof)\n",
    "        r = self.r\n",
    "        reals = np.zeros([4])\n",
    "        discriminants = np.zeros([4])\n",
    "        has_solution = True\n",
    "        \n",
    "        if self.operation_mode == \"H1\":\n",
    "            for i in range(4):\n",
    "                # convert signs based on joint indices\n",
    "                if i == 0:\n",
    "                    a = self.a; b = -self.b; c = self.c; d = -self.d\n",
    "                elif i == 1:\n",
    "                    a = self.a; b = self.b; c = self.c; d = self.d\n",
    "                elif i == 2:\n",
    "                    a = -self.a; b = self.b; c = -self.c; d = self.d\n",
    "                elif i == 3:\n",
    "                    a = -self.a; b = -self.b; c = -self.c; d = -self.d\n",
    "\n",
    "#                 discriminants[i] = -X**2 + 2.0*X*a - 2.0*X*c*x_0**2 - 2.0*X*c*x_1**2 + \\\n",
    "#                 2.0*X*c*x_2**2 + 2.0*X*c*x_3**2 + 4.0*X*d*x_0*x_3 - 4.0*X*d*x_1*x_2 \\\n",
    "#                 - Y**2 + 2.0*Y*b - 4.0*Y*c*x_0*x_3 - 4.0*Y*c*x_1*x_2 - \\\n",
    "#                 2.0*Y*d*x_0**2 + 2.0*Y*d*x_1**2 - 2.0*Y*d*x_2**2 + 2.0*Y*d*x_3**2 - \\\n",
    "#                 a**2 + 2.0*a*c*x_0**2 + 2.0*a*c*x_1**2 - 2.0*a*c*x_2**2 - \\\n",
    "#                 2.0*a*c*x_3**2 - 4.0*a*d*x_0*x_3 + 4.0*a*d*x_1*x_2 - b**2 + \\\n",
    "#                 4.0*b*c*x_0*x_3 + 4.0*b*c*x_1*x_2 + 2.0*b*d*x_0**2 - 2.0*b*d*x_1**2 \\\n",
    "#                 + 2.0*b*d*x_2**2 - 2.0*b*d*x_3**2 - c**2*x_0**4 - \\\n",
    "#                 2.0*c**2*x_0**2*x_1**2 + 2.0*c**2*x_0**2*x_2**2 - \\\n",
    "#                 2.0*c**2*x_0**2*x_3**2 - 8.0*c**2*x_0*x_1*x_2*x_3 - c**2*x_1**4 - \\\n",
    "#                 2.0*c**2*x_1**2*x_2**2 + 2.0*c**2*x_1**2*x_3**2 - c**2*x_2**4 - \\\n",
    "#                 2.0*c**2*x_2**2*x_3**2 - c**2*x_3**4 - 8.0*c*d*x_0**2*x_1*x_2 + \\\n",
    "#                 8.0*c*d*x_0*x_1**2*x_3 - 8.0*c*d*x_0*x_2**2*x_3 + \\\n",
    "#                 8.0*c*d*x_1*x_2*x_3**2 - d**2*x_0**4 + 2.0*d**2*x_0**2*x_1**2 - \\\n",
    "#                 2.0*d**2*x_0**2*x_2**2 - 2.0*d**2*x_0**2*x_3**2 + \\\n",
    "#                 8.0*d**2*x_0*x_1*x_2*x_3 - d**2*x_1**4 - 2.0*d**2*x_1**2*x_2**2 - \\\n",
    "#                 2.0*d**2*x_1**2*x_3**2 - d**2*x_2**4 + 2.0*d**2*x_2**2*x_3**2 - \\\n",
    "#                 d**2*x_3**4 + r**2  \n",
    "\n",
    "#                 reals[i] = Z - 2.0*c*x_0*x_2 + 2.0*c*x_1*x_3 + 2.0*d*x_0*x_1 + 2.0*d*x_2*x_3\n",
    "                discriminants[i] = -X**2 + 2.0*X*a - 2.0*X*c*x_0**2 + 2.0*X*c*x_3**2 + 4.0*X*d*x_0*x_3 - Y**2 + 2.0*Y*b - \\\n",
    "                4.0*Y*c*x_0*x_3 - 2.0*Y*d*x_0**2 + 2.0*Y*d*x_3**2 - a**2 + 2.0*a*c*x_0**2 - 2.0*a*c*x_3**2 - \\\n",
    "                4.0*a*d*x_0*x_3 - b**2 + 4.0*b*c*x_0*x_3 + 2.0*b*d*x_0**2 - 2.0*b*d*x_3**2 - c**2*x_0**4 - \\\n",
    "                2.0*c**2*x_0**2*x_3**2 - c**2*x_3**4 - d**2*x_0**4 - 2.0*d**2*x_0**2*x_3**2 - d**2*x_3**4 + r**2\n",
    "    \n",
    "                reals[i] = Z\n",
    "                \n",
    "        elif self.operation_mode == \"H3\":\n",
    "            a = robot.a\n",
    "            b = robot.b\n",
    "            c = robot.c\n",
    "            d = robot.d\n",
    "            if self.geometric_cond == \"A\":\n",
    "                 for i in range(4):\n",
    "                        if i == 0 or i == 3:\n",
    "                            discriminants[i] = -Y**2 - 2.0*Y*b + 2.0*Y*d*x_0**2 - 2.0*Y*d*x_1**2 - b**2 + 2.0*b*d*x_0**2 - \\\n",
    "                            2.0*b*d*x_1**2 + 4.0*d**2*x_0**2*x_1**2 - d**2 + r**2\n",
    "                            reals[i] = Z - 2.0*d*x_0*x_1\n",
    "                        elif i == 1 or i == 2:\n",
    "                            discriminants[i] = -Y**2 + 2.0*Y*b - 2.0*Y*d*x_0**2 + 2.0*Y*d*x_1**2 - b**2 + 2.0*b*d*x_0**2 - \\\n",
    "                            2.0*b*d*x_1**2 + 4.0*d**2*x_0**2*x_1**2 - d**2 + r**2\n",
    "                            reals[i] = Z + 2.0*d*x_0*x_1\n",
    "        else:\n",
    "            has_solution = False\n",
    "        \n",
    "        if np.any(np.sign(discriminants) < 0):\n",
    "            has_solution = False\n",
    "\n",
    "        return reals, discriminants, has_solution\n",
    "    \n",
    "    def calc_swivel_angle(self, des_pose_4dof, joint_pos, joint_index):\n",
    "        tf_mat_base_to_eeff, X, Y, Z, x_0, x_1, x_2, x_3 = self.convert_pose_4dof_to_tf_mat_and_7var(des_pose_4dof)\n",
    "        \n",
    "        # convert signs based on joint indices\n",
    "        if joint_index == 0:\n",
    "            a = self.a; b = -self.b; c = self.c; d = -self.d\n",
    "        elif joint_index == 1:\n",
    "            a = self.a; b = self.b; c = self.c; d = self.d\n",
    "        elif joint_index == 2:\n",
    "            a = -self.a; b = self.b; c = -self.c; d = self.d\n",
    "        elif joint_index == 3:\n",
    "            a = -self.a; b = -self.b; c = -self.c; d = -self.d\n",
    "\n",
    "        u0_B_to_C = np.array([X - a + c*(x_0**2 + x_1**2 - x_2**2 - x_3**2) + d*(-2.0*x_0*x_3 + 2.0*x_1*x_2),\n",
    "            Y - b + c*(2.0*x_0*x_3 + 2.0*x_1*x_2) + d*(x_0**2 - x_1**2 + x_2**2 - x_3**2),\n",
    "            Z + c*(-2.0*x_0*x_2 + 2.0*x_1*x_3) + d*(2.0*x_0*x_1 + 2.0*x_2*x_3) - joint_pos - self.h_offset])\n",
    "        v0_C_to_ee = -np.array([c*(x_0**2 + x_1**2 - x_2**2 - x_3**2) + d*(-2.0*x_0*x_3 + 2.0*x_1*x_2),\n",
    "            c*(2.0*x_0*x_3 + 2.0*x_1*x_2) + d*(x_0**2 - x_1**2 + x_2**2 - x_3**2),\n",
    "            c*(-2.0*x_0*x_2 + 2.0*x_1*x_3) + d*(2.0*x_0*x_1 + 2.0*x_2*x_3)])\n",
    "        v0_B_to_base = -np.array([a, b, 0])\n",
    "\n",
    "        swivel_angle_U1 = py_ang(u0_B_to_C, v0_B_to_base)\n",
    "        swivel_angle_U2 = py_ang(v0_C_to_ee, u0_B_to_C)\n",
    "\n",
    "        return swivel_angle_U1, swivel_angle_U2\n",
    "    \n",
    "    def convert_pose_4dof_to_tf_mat_and_7var(self, pose_4dof):\n",
    "        if self.operation_mode == \"H1\":\n",
    "            t_mat = tfs.translation_matrix((pose_4dof[0], pose_4dof[1], pose_4dof[2]))\n",
    "            r_mat = tfs.rotation_matrix(pose_4dof[3], (0, 0, 1))\n",
    "            tf_mat_base_to_eeff = tfs.concatenate_matrices(t_mat, r_mat)\n",
    "        if self.operation_mode == \"H3\":\n",
    "            t_mat = tfs.translation_matrix((0, pose_4dof[1], pose_4dof[2]))\n",
    "            r_mat = tfs.rotation_matrix(pose_4dof[3], (1, 0, 0))\n",
    "            tf_mat_base_to_eeff = tfs.concatenate_matrices(t_mat, r_mat)\n",
    "        else:\n",
    "            # break down to geometric cases\n",
    "            pass\n",
    "\n",
    "        X, Y, Z, x_0, x_1, x_2, x_3 = convert_tf_mat_to_7var(tf_mat_base_to_eeff)\n",
    "\n",
    "        return tf_mat_base_to_eeff, X, Y, Z, x_0, x_1, x_2, x_3\n",
    "\n",
    "def convert_tf_mat_to_7var(tf_mat):\n",
    "    quat = tfs.quaternion_from_matrix(tf_mat)\n",
    "    xyz = tfs.translation_from_matrix(tf_mat)\n",
    "    X = xyz[0]; Y = xyz[1]; Z = xyz[2] \n",
    "    x_0 = quat[3]; x_1 = quat[0]; x_2 = quat[1]; x_3 = quat[2]\n",
    "    return X, Y, Z, x_0, x_1, x_2, x_3\n",
    "\n",
    "def py_ang(v1, v2):\n",
    "        \"\"\" Returns the angle in radians between vectors 'v1' and 'v2'    \"\"\"\n",
    "        cosang = np.dot(v1, v2)\n",
    "        sinang = la.norm(np.cross(v1, v2))\n",
    "        return np.arctan2(sinang, cosang)"
   ]
  },
  {
   "cell_type": "code",
   "execution_count": 31,
   "metadata": {},
   "outputs": [
    {
     "name": "stdout",
     "output_type": "stream",
     "text": [
      "Geometric Condition:  A\n",
      "[a, b, c, d] =  [79.375, 79.375, 79.375, 32.878201513364424]  mm\n",
      "r =  85.8  mm\n"
     ]
    }
   ],
   "source": [
    "# create a robot \n",
    "robot = Robot4CRU()"
   ]
  },
  {
   "cell_type": "code",
   "execution_count": 32,
   "metadata": {},
   "outputs": [
    {
     "name": "stdout",
     "output_type": "stream",
     "text": [
      "[[  0.8660254  -0.5         0.          0.       ]\n",
      " [  0.5         0.8660254   0.          0.       ]\n",
      " [  0.          0.          1.        200.       ]\n",
      " [  0.          0.          0.          1.       ]]\n",
      "IK joint pos solutions:  [245.23867262 118.70748472 245.23867262 118.70748472]\n"
     ]
    },
    {
     "data": {
      "text/plain": [
       "[245.23867261740924,\n",
       " 118.70748471635653,\n",
       " 245.23867261740924,\n",
       " 118.70748471635653]"
      ]
     },
     "execution_count": 32,
     "metadata": {},
     "output_type": "execute_result"
    }
   ],
   "source": [
    "# one point demo\n",
    "des_pose_4dof = [0, 0, 200, np.pi/10]\n",
    "tf_mat_base_to_eeff, X, Y, Z, x_0, x_1, x_2, x_3 = robot.convert_pose_4dof_to_tf_mat_and_7var([0, 0, 200, np.pi/6])\n",
    "print(tf_mat_base_to_eeff)\n",
    "\n",
    "robot.inverse_kinematics(des_pose_4dof)"
   ]
  },
  {
   "cell_type": "code",
   "execution_count": 33,
   "metadata": {},
   "outputs": [],
   "source": [
    "# function for scaling axes in 3D plot to be equal\n",
    "def set_axes_radius(ax, origin, radius):\n",
    "    ax.set_xlim3d([origin[0] - radius, origin[0] + radius])\n",
    "    ax.set_ylim3d([origin[1] - radius, origin[1] + radius])\n",
    "    ax.set_zlim3d([origin[2] - radius, origin[2] + radius])\n",
    "\n",
    "def set_axes_equal(ax):\n",
    "    '''Make axes of 3D plot have equal scale so that spheres appear as spheres,\n",
    "    cubes as cubes, etc..  This is one possible solution to Matplotlib's\n",
    "    ax.set_aspect('equal') and ax.axis('equal') not working for 3D.\n",
    "\n",
    "    Input\n",
    "      ax: a matplotlib axis, e.g., as output from plt.gca().\n",
    "    '''\n",
    "\n",
    "    limits = np.array([\n",
    "        ax.get_xlim3d(),\n",
    "        ax.get_ylim3d(),\n",
    "        ax.get_zlim3d(),\n",
    "    ])\n",
    "\n",
    "    origin = np.mean(limits, axis=1)\n",
    "    radius = 0.5 * np.max(np.abs(limits[:, 1] - limits[:, 0]))\n",
    "    set_axes_radius(ax, origin, radius)"
   ]
  },
  {
   "cell_type": "code",
   "execution_count": 38,
   "metadata": {},
   "outputs": [
    {
     "name": "stdout",
     "output_type": "stream",
     "text": [
      "[30.         29.81532511 29.26584774 28.36509786 27.13525492 25.60660172\n",
      " 23.81677878 21.8098575  19.63525492 17.34651698 15.         12.65348302\n",
      " 10.36474508  8.1901425   6.18322122  4.39339828  2.86474508  1.63490214\n",
      "  0.73415226  0.18467489  0.          0.18467489  0.73415226  1.63490214\n",
      "  2.86474508  4.39339828  6.18322122  8.1901425  10.36474508 12.65348302\n",
      " 15.         17.34651698 19.63525492 21.8098575  23.81677878 25.60660172\n",
      " 27.13525492 28.36509786 29.26584774 29.81532511 30.         29.81532511\n",
      " 29.26584774 28.36509786 27.13525492 25.60660172 23.81677878 21.8098575\n",
      " 19.63525492 17.34651698 15.         12.65348302 10.36474508  8.1901425\n",
      "  6.18322122  4.39339828  2.86474508  1.63490214  0.73415226  0.18467489\n",
      "  0.          0.18467489  0.73415226  1.63490214  2.86474508  4.39339828\n",
      "  6.18322122  8.1901425  10.36474508 12.65348302 15.         17.34651698\n",
      " 19.63525492 21.8098575  23.81677878 25.60660172 27.13525492 28.36509786\n",
      " 29.26584774 29.81532511 30.         29.81532511 29.26584774 28.36509786\n",
      " 27.13525492 25.60660172 23.81677878 21.8098575  19.63525492 17.34651698\n",
      " 15.         12.65348302 10.36474508  8.1901425   6.18322122  4.39339828\n",
      "  2.86474508  1.63490214  0.73415226  0.18467489]\n",
      "IK joint pos solutions:  [166.70159052  43.2030744  172.67826445  49.82824571]\n",
      "IK joint pos solutions:  [163.90992975  42.63373733 175.84370667  51.22390756]\n",
      "IK joint pos solutions:  [161.13628504  42.06745981 178.87814862  52.48397602]\n",
      "IK joint pos solutions:  [158.47326774  41.5274951  181.73788684  53.58174084]\n",
      "IK joint pos solutions:  [156.03558071  41.03567306 184.38625318  54.49473336]\n",
      "IK joint pos solutions:  [153.96192446  40.61202572 186.79257198  55.2059552 ]\n",
      "IK joint pos solutions:  [152.4101137   40.27449701 188.93137945  55.70488839]\n",
      "IK joint pos solutions:  [151.53872867  40.03872308 190.78185146  55.98815618]\n",
      "IK joint pos solutions:  [151.4723645   39.91786973 192.3273912   56.05974111]\n",
      "IK joint pos solutions:  [152.26178315  39.92251492 193.55533769  55.93072815]\n",
      "IK joint pos solutions:  [153.86439776  40.06056664 194.45676582  55.61861067]\n",
      "IK joint pos solutions:  [156.16077481  40.33720811 195.02635701  55.14625701]\n",
      "IK joint pos solutions:  [158.99377003  40.75486496 195.26232673  54.54067001]\n",
      "IK joint pos solutions:  [162.20449025  41.31319059 195.16640089  53.83167693]\n",
      "IK joint pos solutions:  [165.65214609  42.00906826 194.74383865  53.05066687]\n",
      "IK joint pos solutions:  [169.21987552  42.83662999 194.00350407  52.22945796]\n",
      "IK joint pos solutions:  [172.81321774  43.78729452 192.95799439  51.39933954]\n",
      "IK joint pos solutions:  [176.35616933  44.84982829 191.62383864  50.59030174]\n",
      "IK joint pos solutions:  [179.78718466  46.01043562 190.02178744  49.8304428 ]\n",
      "IK joint pos solutions:  [183.05590739  47.25288642 188.17722298  49.14553087]\n",
      "IK joint pos solutions:  [186.12072824  48.55869185 186.12072824  48.55869185]\n",
      "IK joint pos solutions:  [188.94703644  49.90734039 183.88886364  48.09019503]\n",
      "IK joint pos solutions:  [191.50599427  51.27660781 181.52520507  47.7573112 ]\n",
      "IK joint pos solutions:  [193.77368752  52.6429547  179.08168857  47.5742224 ]\n",
      "IK joint pos solutions:  [195.73054052  53.98202299 176.62026168  47.55196694]\n",
      "IK joint pos solutions:  [197.36091591  55.2692375  174.21471715  47.69840755]\n",
      "IK joint pos solutions:  [198.65284378  56.48051015 171.95230614  48.01821422]\n",
      "IK joint pos solutions:  [199.59784214  57.59303131 169.93421099  48.51285601]\n",
      "IK joint pos solutions:  [200.19080384  58.58611704 168.27320304  49.18059878]\n",
      "IK joint pos solutions:  [200.42993386  59.44206411 167.086185    50.01650788]\n",
      "IK joint pos solutions:  [200.31672822  60.14695032 166.47988904  51.01245693]\n",
      "IK joint pos solutions:  [199.85599152  60.69130987 166.53116307  52.15714598]\n",
      "IK joint pos solutions:  [199.05589558  61.07061622 167.26852345  53.43613487]\n",
      "IK joint pos solutions:  [197.92808749  61.28552004 168.66436723  54.83190061]\n",
      "IK joint pos solutions:  [196.48786212  61.34181464 170.64251846  56.32393125]\n",
      "IK joint pos solutions:  [194.75442345  61.25013327 173.09657314  57.8888729 ]\n",
      "IK joint pos solutions:  [192.751271    61.02541234 175.90966129  59.5007512 ]\n",
      "IK joint pos solutions:  [190.50676521  60.68617822 178.96886393  61.13129273]\n",
      "IK joint pos solutions:  [188.05494885  60.25372686 182.17277531  62.75037503]\n",
      "IK joint pos solutions:  [185.43673287  59.75126527 185.43391067  64.32663321]\n",
      "IK joint pos solutions:  [182.70159052  59.2030744  188.67826445  65.82824571]\n",
      "IK joint pos solutions:  [179.90992975  58.63373733 191.84370667  67.22390756]\n",
      "IK joint pos solutions:  [177.13628504  58.06745981 194.87814862  68.48397602]\n",
      "IK joint pos solutions:  [174.47326774  57.5274951  197.73788684  69.58174084]\n",
      "IK joint pos solutions:  [172.03558071  57.03567306 200.38625318  70.49473336]\n",
      "IK joint pos solutions:  [169.96192446  56.61202572 202.79257198  71.2059552 ]\n",
      "IK joint pos solutions:  [168.4101137   56.27449701 204.93137945  71.70488839]\n",
      "IK joint pos solutions:  [167.53872867  56.03872308 206.78185146  71.98815618]\n",
      "IK joint pos solutions:  [167.4723645   55.91786973 208.3273912   72.05974111]\n",
      "IK joint pos solutions:  [168.26178315  55.92251492 209.55533769  71.93072815]\n",
      "IK joint pos solutions:  [169.86439776  56.06056664 210.45676582  71.61861067]\n",
      "IK joint pos solutions:  [172.16077481  56.33720811 211.02635701  71.14625701]\n",
      "IK joint pos solutions:  [174.99377003  56.75486496 211.26232673  70.54067001]\n",
      "IK joint pos solutions:  [178.20449025  57.31319059 211.16640089  69.83167693]\n",
      "IK joint pos solutions:  [181.65214609  58.00906826 210.74383865  69.05066687]\n",
      "IK joint pos solutions:  [185.21987552  58.83662999 210.00350407  68.22945796]\n",
      "IK joint pos solutions:  [188.81321774  59.78729452 208.95799439  67.39933954]\n",
      "IK joint pos solutions:  [192.35616933  60.84982829 207.62383864  66.59030174]\n",
      "IK joint pos solutions:  [195.78718466  62.01043562 206.02178744  65.8304428 ]\n",
      "IK joint pos solutions:  [199.05590739  63.25288642 204.17722298  65.14553087]\n",
      "IK joint pos solutions:  [202.12072824  64.55869185 202.12072824  64.55869185]\n",
      "IK joint pos solutions:  [204.94703644  65.90734039 199.88886364  64.09019503]\n",
      "IK joint pos solutions:  [207.50599427  67.27660781 197.52520507  63.7573112 ]\n",
      "IK joint pos solutions:  [209.77368752  68.6429547  195.08168857  63.5742224 ]\n",
      "IK joint pos solutions:  [211.73054052  69.98202299 192.62026168  63.55196694]\n",
      "IK joint pos solutions:  [213.36091591  71.2692375  190.21471715  63.69840755]\n",
      "IK joint pos solutions:  [214.65284378  72.48051015 187.95230614  64.01821422]\n",
      "IK joint pos solutions:  [215.59784214  73.59303131 185.93421099  64.51285601]\n",
      "IK joint pos solutions:  [216.19080384  74.58611704 184.27320304  65.18059878]\n",
      "IK joint pos solutions:  [216.42993386  75.44206411 183.086185    66.01650788]\n",
      "IK joint pos solutions:  [216.31672822  76.14695032 182.47988904  67.01245693]\n",
      "IK joint pos solutions:  [215.85599152  76.69130987 182.53116307  68.15714598]\n",
      "IK joint pos solutions:  [215.05589558  77.07061622 183.26852345  69.43613487]\n",
      "IK joint pos solutions:  [213.92808749  77.28552004 184.66436723  70.83190061]\n",
      "IK joint pos solutions:  [212.48786212  77.34181464 186.64251846  72.32393125]\n",
      "IK joint pos solutions:  [210.75442345  77.25013327 189.09657314  73.8888729 ]\n",
      "IK joint pos solutions:  [208.751271    77.02541234 191.90966129  75.5007512 ]\n",
      "IK joint pos solutions:  [206.50676521  76.68617822 194.96886393  77.13129273]\n",
      "IK joint pos solutions:  [204.05494885  76.25372686 198.17277531  78.75037503]\n",
      "IK joint pos solutions:  [201.43673287  75.75126527 201.43391067  80.32663321]\n",
      "IK joint pos solutions:  [198.70159052  75.2030744  204.67826445  81.82824571]\n",
      "IK joint pos solutions:  [195.90992975  74.63373733 207.84370667  83.22390756]\n",
      "IK joint pos solutions:  [193.13628504  74.06745981 210.87814862  84.48397602]\n",
      "IK joint pos solutions:  [190.47326774  73.5274951  213.73788684  85.58174084]\n",
      "IK joint pos solutions:  [188.03558071  73.03567306 216.38625318  86.49473336]\n",
      "IK joint pos solutions:  [185.96192446  72.61202572 218.79257198  87.2059552 ]\n",
      "IK joint pos solutions:  [184.4101137   72.27449701 220.93137945  87.70488839]\n",
      "IK joint pos solutions:  [183.53872867  72.03872308 222.78185146  87.98815618]\n",
      "IK joint pos solutions:  [183.4723645   71.91786973 224.3273912   88.05974111]\n",
      "IK joint pos solutions:  [184.26178315  71.92251492 225.55533769  87.93072815]\n",
      "IK joint pos solutions:  [185.86439776  72.06056664 226.45676582  87.61861067]\n",
      "IK joint pos solutions:  [188.16077481  72.33720811 227.02635701  87.14625701]\n",
      "IK joint pos solutions:  [190.99377003  72.75486496 227.26232673  86.54067001]\n",
      "IK joint pos solutions:  [194.20449025  73.31319059 227.16640089  85.83167693]\n",
      "IK joint pos solutions:  [197.65214609  74.00906826 226.74383865  85.05066687]\n",
      "IK joint pos solutions:  [201.21987552  74.83662999 226.00350407  84.22945796]\n",
      "IK joint pos solutions:  [204.81321774  75.78729452 224.95799439  83.39933954]\n",
      "IK joint pos solutions:  [208.35616933  76.84982829 223.62383864  82.59030174]\n",
      "IK joint pos solutions:  [211.78718466  78.01043562 222.02178744  81.8304428 ]\n",
      "IK joint pos solutions:  [215.05590739  79.25288642 220.17722298  81.14553087]\n"
     ]
    },
    {
     "data": {
      "image/png": "[encoded data removed]",
      "text/plain": [
       "<Figure size 432x288 with 1 Axes>"
      ]
     },
     "metadata": {
      "needs_background": "light"
     },
     "output_type": "display_data"
    }
   ],
   "source": [
    "# Schoenflies Trajectory\n",
    "dt = 0.1\n",
    "tt = np.arange(0, 10, dt)\n",
    "Xx = 15.0 + 15.0*np.cos(0.5 * np.pi * tt)\n",
    "print(Xx)\n",
    "Yy = 15.0*np.sin(0.5 * np.pi * tt)\n",
    "Zz = 120.0 + 4 * tt\n",
    "Phi = np.ones(len(tt))*0.2\n",
    "\n",
    "robot.operation_mode = \"H1\"\n",
    "\n",
    "# Solve for trajectory \n",
    "Hh = robot.joint_pos_range[1]/2.0*np.ones((4, len(tt)))\n",
    "TFtf = np.zeros((len(tt),4,4))\n",
    "\n",
    "for i in range(len(tt)):\n",
    "    des_pose_4dof = [Xx[i], Yy[i], Zz[i], Phi[i]]\n",
    "    Hh[:,i] = robot.inverse_kinematics(des_pose_4dof)\n",
    "    tf_mat_base_to_eeff, X, Y, Z, x_0, x_1, x_2, x_3 = robot.convert_pose_4dof_to_tf_mat_and_7var(des_pose_4dof)\n",
    "    TFtf[i,:,:] = tf_mat_base_to_eeff\n",
    "    \n",
    "fig = plt.figure()\n",
    "ax = fig.add_axes([0,0,1,1])\n",
    "ax.plot(tt, Hh[0,:])\n",
    "ax.plot(tt, Hh[1,:])\n",
    "ax.plot(tt, Hh[2,:])\n",
    "ax.plot(tt, Hh[3,:])\n",
    "plt.show()"
   ]
  },
  {
   "cell_type": "code",
   "execution_count": 40,
   "metadata": {},
   "outputs": [
    {
     "data": {
      "application/vnd.jupyter.widget-view+json": {
       "model_id": "d4e6a160c01a4ea58d70ab1e56c81738",
       "version_major": 2,
       "version_minor": 0
      },
      "text/plain": [
       "interactive(children=(IntSlider(value=49, description='u', max=99), Output()), _dom_classes=('widget-interact'…"
      ]
     },
     "metadata": {},
     "output_type": "display_data"
    }
   ],
   "source": [
    "# https://ipywidgets.readthedocs.io/en/latest/examples/Using%20Interact.html\n",
    "#from __future__ import print_function \n",
    "from ipywidgets import interact, interactive, fixed, interact_manual\n",
    "import ipywidgets as widgets\n",
    "\n",
    "def drawRobot(robot, ax, u):\n",
    "    # plot robot\n",
    "    a = robot.a\n",
    "    b = robot.b\n",
    "    c = robot.c\n",
    "    d = robot.d\n",
    "    Xbase = np.array([a,-a,-a, a, a])/2.0\n",
    "    Ybase = np.array([b, b, -b, -b, b])/2.0\n",
    "    Zbase_top = np.ones(5)*robot.joint_pos_range[1]\n",
    "     \n",
    "    # draw base frame\n",
    "    ax.plot(Xbase,Ybase, 'blue')\n",
    "    ax.plot(Xbase,Ybase,Zbase_top, 'blue')\n",
    "    ax.plot(np.array([a,a])/2.0,np.array([-b,-b])/2.0,robot.joint_pos_range, 'blue')\n",
    "    ax.plot(np.array([a,a])/2.0,np.array([b,b])/2.0,robot.joint_pos_range, 'blue')\n",
    "    ax.plot(np.array([-a,-a])/2.0,np.array([b,b])/2.0,robot.joint_pos_range, 'blue')\n",
    "    ax.plot(np.array([-a,-a])/2.0,np.array([-b,-b])/2.0,robot.joint_pos_range, 'blue')\n",
    "    \n",
    "    # draw rods\n",
    "    B_loc = np.transpose(np.array([[c/2.0, -d/2.0, 0 ,1],[c/2.0, d/2.0, 0 ,1], [-c/2.0, d/2.0, 0 ,1], [-c/2.0, -d/2.0, 0 ,1]]))\n",
    "    B_abs = np.dot(TFtf[u,:,:], B_loc)\n",
    "    ax.plot(np.array([a/2.0, B_abs[0,0]]),np.array([-b/2.0, B_abs[1,0]]), np.array([Hh[0,u], B_abs[2,0]]), 'green')\n",
    "    ax.plot(np.array([a/2.0, B_abs[0,1]]),np.array([b/2.0, B_abs[1,1]]), np.array([Hh[1,u], B_abs[2,1]]), 'green')\n",
    "    ax.plot(np.array([-a/2.0, B_abs[0,2]]),np.array([b/2.0, B_abs[1,2]]), np.array([Hh[2,u], B_abs[2,2]]), 'green')\n",
    "    ax.plot(np.array([-a/2.0, B_abs[0,3]]),np.array([-b/2.0, B_abs[1,3]]), np.array([Hh[3,u], B_abs[2,3]]), 'green')\n",
    "    # check rod lengths\n",
    "    r1 = la.norm(np.array([a/2.0, -b/2.0, Hh[0,u]]) - np.array([B_abs[0,0], B_abs[1,0], B_abs[2,0]]))\n",
    "    r2 = la.norm(np.array([a/2.0, b/2.0, Hh[1,u]]) - np.array([B_abs[0,1], B_abs[1,1], B_abs[2,1]]))\n",
    "    print('r1= ', r1)\n",
    "    print('r2= ', r2)\n",
    "    \n",
    "    # draw ee frame\n",
    "    ax.plot(np.append(B_abs[0,:], B_abs[0,0]), np.append(B_abs[1,:],B_abs[1,0]), np.append(B_abs[2,:], B_abs[2,0]), 'red')\n",
    "    \n",
    "    # decorations\n",
    "    ax.set_xlabel('X (m)')\n",
    "    ax.set_ylabel('Y (m)')\n",
    "    ax.set_zlabel('Z (m)')\n",
    "\n",
    "def traj(u):\n",
    "    #plt.ion() # don't need to use plt.show()\n",
    "    t = tt[u]\n",
    "    X = 15.0 + 15.0*np.cos(0.5 * np.pi * t)\n",
    "    Y = 15.0*np.sin(0.5 * np.pi * t)\n",
    "    Z = 120.0 + 4 * t\n",
    "    \n",
    "    fig = plt.figure()\n",
    "    ax = fig.gca(projection='3d')\n",
    "    ax.view_init(30, 30)\n",
    "    ax.plot(Xx, Yy, Zz, label='des traj')\n",
    "    ax.scatter(X, Y, Z, label='des pos')\n",
    "    \n",
    "    # manually set joint position of the robot\n",
    "    robot.joint_pos = Hh[:,u]\n",
    "    \n",
    "    # draw robot\n",
    "    drawRobot(robot, ax, u)\n",
    "    set_axes_equal(ax) \n",
    "    \n",
    "#     fig2 = plt.figure()\n",
    "#     ax2 = fig2.add_axes([0,0,1,1])\n",
    "#     ax2.plot(tt, Hh[0,:])\n",
    "#     ax2.plot(tt, Hh[1,:])\n",
    "#     ax2.plot(tt, Hh[2,:])\n",
    "#     ax2.plot(tt, Hh[3,:])\n",
    "    plt.show()\n",
    "    \n",
    "    print(\"t =\", t, \" sec\")\n",
    "\n",
    "interact(traj, u=(0, len(tt)-1));\n",
    "    "
   ]
  },
  {
   "cell_type": "code",
   "execution_count": 36,
   "metadata": {},
   "outputs": [
    {
     "name": "stdout",
     "output_type": "stream",
     "text": [
      "IK joint pos solutions:  [ 62.89113972  62.89113972 207.10886028  62.89113972]\n",
      "IK joint pos solutions:  [ 61.7754541   63.87579934 210.89289196  61.7754541 ]\n",
      "IK joint pos solutions:  [ 60.59888753  64.65095295 214.00028935  60.59888753]\n",
      "IK joint pos solutions:  [ 59.41202581  65.14076168 216.38797006  59.41202581]\n",
      "IK joint pos solutions:  [ 58.23633394  65.28118899 218.03764451  58.23633394]\n",
      "IK joint pos solutions:  [ 57.05829427  65.02633121 218.95394796  57.05829427]\n",
      "IK joint pos solutions:  [ 55.82925111  64.35155541 219.16155055  55.82925111]\n",
      "IK joint pos solutions:  [ 54.47276819  63.25369587 218.70124723  54.47276819]\n",
      "IK joint pos solutions:  [ 52.90059751  61.74901529 217.62531239  52.90059751]\n",
      "IK joint pos solutions:  [ 51.03641317  59.86987734 215.99262803  51.03641317]\n",
      "IK joint pos solutions:  [ 48.84284189  57.66110397 213.86419497  48.84284189]\n",
      "IK joint pos solutions:  [ 46.34337921  55.17684339 211.29959408  46.34337921]\n",
      "IK joint pos solutions:  [ 43.63008768  52.47850545 208.35480256  43.63008768]\n",
      "IK joint pos solutions:  [ 40.8530532   49.63398087 205.08153224  40.8530532 ]\n",
      "IK joint pos solutions:  [ 38.19569354  46.71799784 201.52799298  38.19569354]\n",
      "IK joint pos solutions:  [ 35.84509083  43.81312777 197.74074453  35.84509083]\n",
      "IK joint pos solutions:  [ 33.96582411  41.01067916 193.76713467  33.96582411]\n",
      "IK joint pos solutions:  [ 32.68183008  38.41056595 189.65777433  32.68183008]\n",
      "IK joint pos solutions:  [ 32.06719204  36.11925746 185.46859386  32.06719204]\n",
      "IK joint pos solutions:  [ 32.14480388  34.24514913 181.26224174  32.14480388]\n",
      "IK joint pos solutions:  [ 32.89113972  32.89113972 177.10886028  32.89113972]\n",
      "IK joint pos solutions:  [ 34.24514913  32.14480388 173.08650481  34.24514913]\n",
      "IK joint pos solutions:  [ 36.11925746  32.06719204 169.28156566  36.11925746]\n",
      "IK joint pos solutions:  [ 38.41056595  32.68183008 165.78943818  38.41056595]\n",
      "IK joint pos solutions:  [ 41.01067916  33.96582411 162.7153424   41.01067916]\n",
      "IK joint pos solutions:  [ 43.81312777  35.84509083 160.17463     43.81312777]\n",
      "IK joint pos solutions:  [ 46.71799784  38.19569354 158.29120051  46.71799784]\n",
      "IK joint pos solutions:  [ 49.63398087  40.8530532  157.1920037   49.63398087]\n",
      "IK joint pos solutions:  [ 52.47850545  43.63008768 156.99558464  52.47850545]\n",
      "IK joint pos solutions:  [ 55.17684339  46.34337921 157.79411541  55.17684339]\n",
      "IK joint pos solutions:  [ 57.66110397  48.84284189 159.63185917  57.66110397]\n",
      "IK joint pos solutions:  [ 59.86987734  51.03641317 162.48714937  59.86987734]\n",
      "IK joint pos solutions:  [ 61.74901529  52.90059751 166.26609448  61.74901529]\n",
      "IK joint pos solutions:  [ 63.25369587  54.47276819 170.81171869  63.25369587]\n",
      "IK joint pos solutions:  [ 64.35155541  55.82925111 175.92475807  64.35155541]\n",
      "IK joint pos solutions:  [ 65.02633121  57.05829427 181.38783343  65.02633121]\n",
      "IK joint pos solutions:  [ 65.28118899  58.23633394 186.98585223  65.28118899]\n",
      "IK joint pos solutions:  [ 65.14076168  59.41202581 192.51963391  65.14076168]\n",
      "IK joint pos solutions:  [ 64.65095295  60.59888753 197.81326115  64.65095295]\n",
      "IK joint pos solutions:  [ 63.87579934  61.7754541  202.71715503  63.87579934]\n",
      "IK joint pos solutions:  [ 62.89113972  62.89113972 207.10886028  62.89113972]\n",
      "IK joint pos solutions:  [ 61.7754541   63.87579934 210.89289196  61.7754541 ]\n",
      "IK joint pos solutions:  [ 60.59888753  64.65095295 214.00028935  60.59888753]\n",
      "IK joint pos solutions:  [ 59.41202581  65.14076168 216.38797006  59.41202581]\n",
      "IK joint pos solutions:  [ 58.23633394  65.28118899 218.03764451  58.23633394]\n",
      "IK joint pos solutions:  [ 57.05829427  65.02633121 218.95394796  57.05829427]\n",
      "IK joint pos solutions:  [ 55.82925111  64.35155541 219.16155055  55.82925111]\n",
      "IK joint pos solutions:  [ 54.47276819  63.25369587 218.70124723  54.47276819]\n",
      "IK joint pos solutions:  [ 52.90059751  61.74901529 217.62531239  52.90059751]\n",
      "IK joint pos solutions:  [ 51.03641317  59.86987734 215.99262803  51.03641317]\n",
      "IK joint pos solutions:  [ 48.84284189  57.66110397 213.86419497  48.84284189]\n",
      "IK joint pos solutions:  [ 46.34337921  55.17684339 211.29959408  46.34337921]\n",
      "IK joint pos solutions:  [ 43.63008768  52.47850545 208.35480256  43.63008768]\n",
      "IK joint pos solutions:  [ 40.8530532   49.63398087 205.08153224  40.8530532 ]\n",
      "IK joint pos solutions:  [ 38.19569354  46.71799784 201.52799298  38.19569354]\n",
      "IK joint pos solutions:  [ 35.84509083  43.81312777 197.74074453  35.84509083]\n",
      "IK joint pos solutions:  [ 33.96582411  41.01067916 193.76713467  33.96582411]\n",
      "IK joint pos solutions:  [ 32.68183008  38.41056595 189.65777433  32.68183008]\n",
      "IK joint pos solutions:  [ 32.06719204  36.11925746 185.46859386  32.06719204]\n",
      "IK joint pos solutions:  [ 32.14480388  34.24514913 181.26224174  32.14480388]\n",
      "IK joint pos solutions:  [ 32.89113972  32.89113972 177.10886028  32.89113972]\n",
      "IK joint pos solutions:  [ 34.24514913  32.14480388 173.08650481  34.24514913]\n",
      "IK joint pos solutions:  [ 36.11925746  32.06719204 169.28156566  36.11925746]\n",
      "IK joint pos solutions:  [ 38.41056595  32.68183008 165.78943818  38.41056595]\n",
      "IK joint pos solutions:  [ 41.01067916  33.96582411 162.7153424   41.01067916]\n",
      "IK joint pos solutions:  [ 43.81312777  35.84509083 160.17463     43.81312777]\n",
      "IK joint pos solutions:  [ 46.71799784  38.19569354 158.29120051  46.71799784]\n",
      "IK joint pos solutions:  [ 49.63398087  40.8530532  157.1920037   49.63398087]\n",
      "IK joint pos solutions:  [ 52.47850545  43.63008768 156.99558464  52.47850545]\n",
      "IK joint pos solutions:  [ 55.17684339  46.34337921 157.79411541  55.17684339]\n",
      "IK joint pos solutions:  [ 57.66110397  48.84284189 159.63185917  57.66110397]\n",
      "IK joint pos solutions:  [ 59.86987734  51.03641317 162.48714937  59.86987734]\n",
      "IK joint pos solutions:  [ 61.74901529  52.90059751 166.26609448  61.74901529]\n",
      "IK joint pos solutions:  [ 63.25369587  54.47276819 170.81171869  63.25369587]\n",
      "IK joint pos solutions:  [ 64.35155541  55.82925111 175.92475807  64.35155541]\n",
      "IK joint pos solutions:  [ 65.02633121  57.05829427 181.38783343  65.02633121]\n",
      "IK joint pos solutions:  [ 65.28118899  58.23633394 186.98585223  65.28118899]\n",
      "IK joint pos solutions:  [ 65.14076168  59.41202581 192.51963391  65.14076168]\n",
      "IK joint pos solutions:  [ 64.65095295  60.59888753 197.81326115  64.65095295]\n",
      "IK joint pos solutions:  [ 63.87579934  61.7754541  202.71715503  63.87579934]\n",
      "IK joint pos solutions:  [ 62.89113972  62.89113972 207.10886028  62.89113972]\n",
      "IK joint pos solutions:  [ 61.7754541   63.87579934 210.89289196  61.7754541 ]\n",
      "IK joint pos solutions:  [ 60.59888753  64.65095295 214.00028935  60.59888753]\n",
      "IK joint pos solutions:  [ 59.41202581  65.14076168 216.38797006  59.41202581]\n",
      "IK joint pos solutions:  [ 58.23633394  65.28118899 218.03764451  58.23633394]\n",
      "IK joint pos solutions:  [ 57.05829427  65.02633121 218.95394796  57.05829427]\n",
      "IK joint pos solutions:  [ 55.82925111  64.35155541 219.16155055  55.82925111]\n",
      "IK joint pos solutions:  [ 54.47276819  63.25369587 218.70124723  54.47276819]\n",
      "IK joint pos solutions:  [ 52.90059751  61.74901529 217.62531239  52.90059751]\n",
      "IK joint pos solutions:  [ 51.03641317  59.86987734 215.99262803  51.03641317]\n",
      "IK joint pos solutions:  [ 48.84284189  57.66110397 213.86419497  48.84284189]\n",
      "IK joint pos solutions:  [ 46.34337921  55.17684339 211.29959408  46.34337921]\n",
      "IK joint pos solutions:  [ 43.63008768  52.47850545 208.35480256  43.63008768]\n",
      "IK joint pos solutions:  [ 40.8530532   49.63398087 205.08153224  40.8530532 ]\n",
      "IK joint pos solutions:  [ 38.19569354  46.71799784 201.52799298  38.19569354]\n",
      "IK joint pos solutions:  [ 35.84509083  43.81312777 197.74074453  35.84509083]\n",
      "IK joint pos solutions:  [ 33.96582411  41.01067916 193.76713467  33.96582411]\n",
      "IK joint pos solutions:  [ 32.68183008  38.41056595 189.65777433  32.68183008]\n",
      "IK joint pos solutions:  [ 32.06719204  36.11925746 185.46859386  32.06719204]\n",
      "IK joint pos solutions:  [ 32.14480388  34.24514913 181.26224174  32.14480388]\n",
      "[[  1.           0.           0.           0.        ]\n",
      " [  0.           0.87758256  -0.47942554  15.        ]\n",
      " [  0.           0.47942554   0.87758256 120.        ]\n",
      " [  0.           0.           0.           1.        ]]\n"
     ]
    },
    {
     "data": {
      "image/png": "[encoded data removed]",
      "text/plain": [
       "<Figure size 432x288 with 1 Axes>"
      ]
     },
     "metadata": {
      "needs_background": "light"
     },
     "output_type": "display_data"
    }
   ],
   "source": [
    "# H3 geometric A Trajectory\n",
    "robot.operation_mode = \"H3\"\n",
    "dt3a = 0.1\n",
    "tt3a = np.arange(0, 10, dt3a)\n",
    "Xx3a = np.ones(len(tt3a))*0\n",
    "Yy3a = 15.0*np.sin(0.5 * np.pi * tt3a)\n",
    "Zz3a = 120.0 + 15.0*np.cos(0.5 * np.pi * tt3a)\n",
    "# Theta3a = np.ones(len(tt3a))*0.5\n",
    "Theta3a = 0.5*np.sin(0.5 * np.pi * tt3a)\n",
    "\n",
    "# Solve for trajectory \n",
    "Hh3a = robot.joint_pos_range[1]/2.0*np.ones((4, len(tt3a)))\n",
    "TFtf3a = np.zeros((len(tt3a),4,4))\n",
    "\n",
    "for i in range(len(tt3a)):\n",
    "    des_pose_4dof = [Xx3a[i], Yy3a[i], Zz3a[i], Theta3a[i]]\n",
    "    Hh3a[:,i] = robot.inverse_kinematics(des_pose_4dof)\n",
    "    tf_mat_base_to_eeff, X, Y, Z, x_0, x_1, x_2, x_3 = robot.convert_pose_4dof_to_tf_mat_and_7var(des_pose_4dof)\n",
    "    #print([x_0, x_1, x_2, x_3]) # make sure x_2 = 0, x_3 = 0\n",
    "    TFtf3a[i,:,:] = tf_mat_base_to_eeff\n",
    "\n",
    "print(TFtf3a[10,:,:])\n",
    "    \n",
    "fig = plt.figure()\n",
    "ax = fig.add_axes([0,0,1,1])\n",
    "ax.plot(tt, Hh[0,:])\n",
    "ax.plot(tt, Hh[1,:])\n",
    "ax.plot(tt, Hh[2,:])\n",
    "ax.plot(tt, Hh[3,:])\n",
    "ax.plot(tt3a, Hh3a[0,:])\n",
    "ax.plot(tt3a, Hh3a[1,:])\n",
    "ax.plot(tt3a, Hh3a[2,:])\n",
    "ax.plot(tt3a, Hh3a[3,:])\n",
    "\n",
    "plt.show()\n"
   ]
  },
  {
   "cell_type": "code",
   "execution_count": 37,
   "metadata": {},
   "outputs": [
    {
     "data": {
      "application/vnd.jupyter.widget-view+json": {
       "model_id": "c77d30ea00724f958430b1e85e57ad14",
       "version_major": 2,
       "version_minor": 0
      },
      "text/plain": [
       "interactive(children=(IntSlider(value=49, description='u', max=99), Output()), _dom_classes=('widget-interact'…"
      ]
     },
     "metadata": {},
     "output_type": "display_data"
    }
   ],
   "source": [
    "def drawRobot(robot, ax, u):\n",
    "    # plot robot\n",
    "    a = robot.a\n",
    "    b = robot.b\n",
    "    c = robot.c\n",
    "    d = robot.d\n",
    "    Xbase = np.array([a,-a,-a, a, a])/2.0\n",
    "    Ybase = np.array([b, b, -b, -b, b])/2.0\n",
    "    Zbase_top = np.ones(5)*robot.joint_pos_range[1]\n",
    "     \n",
    "    # draw base frame\n",
    "    ax.plot(Xbase,Ybase, 'blue')\n",
    "    ax.plot(Xbase,Ybase,Zbase_top, 'blue')\n",
    "    ax.plot(np.array([a,a])/2.0,np.array([-b,-b])/2.0,robot.joint_pos_range, 'blue')\n",
    "    ax.plot(np.array([a,a])/2.0,np.array([b,b])/2.0,robot.joint_pos_range, 'blue')\n",
    "    ax.plot(np.array([-a,-a])/2.0,np.array([b,b])/2.0,robot.joint_pos_range, 'blue')\n",
    "    ax.plot(np.array([-a,-a])/2.0,np.array([-b,-b])/2.0,robot.joint_pos_range, 'blue')\n",
    "    \n",
    "    # draw rods\n",
    "    B_loc = np.transpose(np.array([[c/2.0, -d/2.0, 0 ,1],[c/2.0, d/2.0, 0 ,1], [-c/2.0, d/2.0, 0 ,1], [-c/2.0, -d/2.0, 0 ,1]]))\n",
    "    B_abs = np.dot(TFtf3a[u,:,:], B_loc)\n",
    "    ax.plot(np.array([a/2.0, B_abs[0,0]]),np.array([-b/2.0, B_abs[1,0]]), np.array([Hh[0,u], B_abs[2,0]]), 'green')\n",
    "    ax.plot(np.array([a/2.0, B_abs[0,1]]),np.array([b/2.0, B_abs[1,1]]), np.array([Hh[1,u], B_abs[2,1]]), 'green')\n",
    "    ax.plot(np.array([-a/2.0, B_abs[0,2]]),np.array([b/2.0, B_abs[1,2]]), np.array([Hh[2,u], B_abs[2,2]]), 'green')\n",
    "    ax.plot(np.array([-a/2.0, B_abs[0,3]]),np.array([-b/2.0, B_abs[1,3]]), np.array([Hh[3,u], B_abs[2,3]]), 'green')\n",
    "    \n",
    "    # draw ee frame\n",
    "    ax.plot(np.append(B_abs[0,:], B_abs[0,0]), np.append(B_abs[1,:],B_abs[1,0]), np.append(B_abs[2,:], B_abs[2,0]), 'red')\n",
    "    \n",
    "    # decorations\n",
    "    ax.set_xlabel('X (m)')\n",
    "    ax.set_ylabel('Y (m)')\n",
    "    ax.set_zlabel('Z (m)')\n",
    "\n",
    "def traj(u):\n",
    "    #plt.ion() # don't need to use plt.show()\n",
    "    t3a = tt3a[u]\n",
    "    X3a = 0\n",
    "    Y3a = 15.0*np.sin(0.5 * np.pi * t3a)\n",
    "    Z3a = 120.0 + 15.0*np.cos(0.5 * np.pi * t3a)\n",
    "    \n",
    "    fig = plt.figure()\n",
    "    ax = fig.gca(projection='3d')\n",
    "    ax.view_init(45, 45)\n",
    "    ax.plot(Xx3a, Yy3a, Zz3a, label='des traj')\n",
    "    ax.scatter(X3a, Y3a, Z3a, label='des pos')\n",
    "    \n",
    "    # manually set joint position of the robot\n",
    "    robot.joint_pos = Hh3a[:,u]\n",
    "    \n",
    "    # draw robot\n",
    "    drawRobot(robot, ax, u)\n",
    "    set_axes_equal(ax) \n",
    "    \n",
    "#     fig2 = plt.figure()\n",
    "#     ax2 = fig2.add_axes([0,0,1,1])\n",
    "#     ax2.plot(tt, Hh[0,:])\n",
    "#     ax2.plot(tt, Hh[1,:])\n",
    "#     ax2.plot(tt, Hh[2,:])\n",
    "#     ax2.plot(tt, Hh[3,:])\n",
    "    plt.show()\n",
    "    \n",
    "    print(\"t =\", t3a, \" sec\")\n",
    "\n",
    "interact(traj, u=(0, len(tt3a)-1));"
   ]
  },
  {
   "cell_type": "markdown",
   "metadata": {},
   "source": [
    "# TO DO...\n",
    "1. Add interface for choosing operation mode switching at  and geometric condition \n",
    "2. choose inverse kinematic solution cases corresponding to sigularity for each mode\n",
    "3. Add plot of cureent inverse kinematic solution (and potential trajectory when switching modes)\n",
    "4. plot the singularity locus in the joint space and Cartesian Space"
   ]
  }
 ],
 "metadata": {
  "kernelspec": {
   "display_name": "Python 3",
   "language": "python",
   "name": "python3"
  },
  "language_info": {
   "codemirror_mode": {
    "name": "ipython",
    "version": 3
   },
   "file_extension": ".py",
   "mimetype": "text/x-python",
   "name": "python",
   "nbconvert_exporter": "python",
   "pygments_lexer": "ipython3",
   "version": "3.7.0"
  }
 },
 "nbformat": 4,
 "nbformat_minor": 2
}
