{
 "cells": [
  {
   "cell_type": "markdown",
   "metadata": {},
   "source": [
    "# 4-CRU Mechanism Kinematic Calculation Handbook"
   ]
  },
  {
   "cell_type": "code",
   "execution_count": 1,
   "metadata": {},
   "outputs": [
    {
     "data": {
      "text/plain": [
       "['C:\\\\Users\\\\chawi\\\\OneDrive\\\\MechE MS-PhD\\\\Jupyter_notebook\\\\4-CRU_mechnism_project\\\\4-CRU_mechanism_analysis',\n",
       " 'C:\\\\Users\\\\chawi\\\\Anaconda3\\\\python37.zip',\n",
       " 'C:\\\\Users\\\\chawi\\\\Anaconda3\\\\DLLs',\n",
       " 'C:\\\\Users\\\\chawi\\\\Anaconda3\\\\lib',\n",
       " 'C:\\\\Users\\\\chawi\\\\Anaconda3',\n",
       " '',\n",
       " 'C:\\\\Users\\\\chawi\\\\Anaconda3\\\\lib\\\\site-packages',\n",
       " 'C:\\\\Users\\\\chawi\\\\Anaconda3\\\\lib\\\\site-packages\\\\win32',\n",
       " 'C:\\\\Users\\\\chawi\\\\Anaconda3\\\\lib\\\\site-packages\\\\win32\\\\lib',\n",
       " 'C:\\\\Users\\\\chawi\\\\Anaconda3\\\\lib\\\\site-packages\\\\Pythonwin',\n",
       " 'C:\\\\Users\\\\chawi\\\\Anaconda3\\\\lib\\\\site-packages\\\\IPython\\\\extensions',\n",
       " 'C:\\\\Users\\\\chawi\\\\.ipython']"
      ]
     },
     "execution_count": 1,
     "metadata": {},
     "output_type": "execute_result"
    }
   ],
   "source": [
    "from __future__ import print_function\n",
    "import numpy as np\n",
    "import numpy.matlib\n",
    "import numpy.linalg as la\n",
    "import math\n",
    "from sympy import * # symbolic calculation for IK\n",
    "#import transformations.py as tfs \n",
    "import transformations as tfs\n",
    "from mpl_toolkits.mplot3d import Axes3D  \n",
    "import matplotlib.pyplot as plt\n",
    "\n",
    "# check the environment and directory of the notebook\n",
    "import sys\n",
    "sys.path"
   ]
  },
  {
   "cell_type": "markdown",
   "metadata": {},
   "source": [
    "## Important Notes\n",
    "1. This notebook must be run in conda environment (python 3 kernel)\n",
    "2. Always put transformations.py in the same directory as this notebook\n",
    "\n",
    "## Jupyter Notebook Tips and Tricks\n",
    "1. https://www.dataquest.io/blog/jupyter-notebook-tips-tricks-shortcuts/\n",
    "2. https://hub.packtpub.com/basics-jupyter-notebook-python/\n",
    "3. Installing Python Kernel https://ipython.readthedocs.io/en/latest/install/kernel_install.html\n",
    "4. Update Python 3.5 in Ubuntu 16.04 to 3.6+ http://ubuntuhandbook.org/index.php/2017/07/install-python-3-6-1-in-ubuntu-16-04-lts/\n",
    "\n",
    "## Notes on [Transformation.py](https://github.com/ROAR-Lab-Spine/geometry/blob/melodic-devel/tf/src/tf/transformations.py)\n",
    "\n",
    "\n",
    "1. Quaternions $q = ix+jy+kz+w$ are represented as $[x, y, z, w ]$= $[x_1, x_2, x_3, x_0]$.\n",
    "\n",
    "## Notes on [SymPy’s documentation](https://docs.sympy.org/latest/index.html)\n",
    "\n",
    "1. [Matrix Functions](https://docs.sympy.org/latest/modules/matrices/common.html?highlight=transpose#sympy.matrices.common.MatrixCommon.transpose)\n",
    "2. [Matrix Operations](https://docs.sympy.org/latest/modules/matrices/matrices.html?highlight=matrix%20operation)\n",
    "3. [Polynomial and Groebner bases¶](https://docs.sympy.org/latest/modules/polys/basics.html?highlight=polynomial%20solve)\n",
    "4. Primary Decomposition\n",
    "\n",
    "## Notes on SINGULAR\n",
    "1. [Related Publications](https://www.singular.uni-kl.de/index.php/publications/singular-related-publications.html)"
   ]
  },
  {
   "cell_type": "code",
   "execution_count": 2,
   "metadata": {},
   "outputs": [
    {
     "name": "stdout",
     "output_type": "stream",
     "text": [
      "[0. 0. 0. 1.]\n",
      "[0.  0.  0.1]\n"
     ]
    }
   ],
   "source": [
    "tf_init = tfs.identity_matrix()\n",
    "# print tf_init\n",
    "des_quat = tfs.quaternion_about_axis(0, (0, 0, 1))\n",
    "des_xyz = np.array([0,0,0.1])\n",
    "print(des_quat)\n",
    "print(des_xyz)"
   ]
  },
  {
   "cell_type": "code",
   "execution_count": 3,
   "metadata": {},
   "outputs": [],
   "source": [
    "# Set up Symbolic variables\n",
    "X, Y, Z = symbols('X, Y, Z')\n",
    "x_0, x_1, x_2, x_3 = symbols('x_0, x_1, x_2, x_3')\n",
    "a, b, c, d = symbols('a, b, c, d')\n",
    "h_1, h_2, h_3, h_4 = symbols('h_1, h_2, h_3, h_4')\n",
    "r = symbols('r')"
   ]
  },
  {
   "cell_type": "code",
   "execution_count": 4,
   "metadata": {},
   "outputs": [],
   "source": [
    "# Position of the C joint with respect to the base frame\n",
    "r0_B1 = Matrix([a, -b, h_1, 1])\n",
    "r1_C1 = Matrix([c, -d, 0, 1])\n",
    "\n",
    "r0_B2 = Matrix([a, b, h_2, 1])\n",
    "r1_C2 = Matrix([c, d, 0, 1])\n",
    "\n",
    "r0_B3 = Matrix([-a, b, h_3, 1])\n",
    "r1_C3 = Matrix([-c, d, 0, 1])\n",
    "\n",
    "r0_B4 = Matrix([-a, -b, h_4, 1])\n",
    "r1_C4 = Matrix([-c, -d, 0, 1])"
   ]
  },
  {
   "cell_type": "code",
   "execution_count": 5,
   "metadata": {},
   "outputs": [
    {
     "data": {
      "text/latex": [
       "$\\displaystyle \\left[\\begin{matrix}x_{0}^{2} + x_{1}^{2} - x_{2}^{2} - x_{3}^{2} & - 2.0 x_{0} x_{3} + 2.0 x_{1} x_{2} & 2.0 x_{0} x_{2} + 2.0 x_{1} x_{3} & X\\\\2.0 x_{0} x_{3} + 2.0 x_{1} x_{2} & x_{0}^{2} - x_{1}^{2} + x_{2}^{2} - x_{3}^{2} & - 2.0 x_{0} x_{1} + 2.0 x_{2} x_{3} & Y\\\\- 2.0 x_{0} x_{2} + 2.0 x_{1} x_{3} & 2.0 x_{0} x_{1} + 2.0 x_{2} x_{3} & x_{0}^{2} - x_{1}^{2} - x_{2}^{2} + x_{3}^{2} & Z\\\\0 & 0 & 0 & 1.0\\end{matrix}\\right]$"
      ],
      "text/plain": [
       "Matrix([\n",
       "[x_0**2 + x_1**2 - x_2**2 - x_3**2,        -2.0*x_0*x_3 + 2.0*x_1*x_2,         2.0*x_0*x_2 + 2.0*x_1*x_3,   X],\n",
       "[        2.0*x_0*x_3 + 2.0*x_1*x_2, x_0**2 - x_1**2 + x_2**2 - x_3**2,        -2.0*x_0*x_1 + 2.0*x_2*x_3,   Y],\n",
       "[       -2.0*x_0*x_2 + 2.0*x_1*x_3,         2.0*x_0*x_1 + 2.0*x_2*x_3, x_0**2 - x_1**2 - x_2**2 + x_3**2,   Z],\n",
       "[                                0,                                 0,                                 0, 1.0]])"
      ]
     },
     "execution_count": 5,
     "metadata": {},
     "output_type": "execute_result"
    }
   ],
   "source": [
    "R0_1 = Matrix([[x_0**2 + x_1**2 - x_2**2 - x_3**2, 2.0*(x_1*x_2 - x_0*x_3), 2.0*(x_0*x_2 + x_1*x_3)],\n",
    "                [2.0*(x_0*x_3 + x_1*x_2),x_0**2 - x_1**2 + x_2**2 - x_3**2,2.0*(x_2*x_3 - x_0*x_1)],\n",
    "                [2.0*(x_1*x_3 - x_0*x_2),2.0*(x_0*x_1 + x_2*x_3),x_0**2 - x_1**2 - x_2**2 + x_3**2]])\n",
    "r0_1 = Matrix([X, Y, Z, 1.0])  \n",
    "T0_1 = R0_1.col_join(zeros(1,3))\n",
    "T0_1 = T0_1.row_join(r0_1)\n",
    "T0_1"
   ]
  },
  {
   "cell_type": "code",
   "execution_count": 6,
   "metadata": {},
   "outputs": [],
   "source": [
    "# Vector along the U-U Rods\n",
    "u0_1 = T0_1*r1_C1 - r0_B1\n",
    "u0_2 = T0_1*r1_C2 - r0_B2\n",
    "u0_3 = T0_1*r1_C3 - r0_B3\n",
    "u0_4 = T0_1*r1_C4 - r0_B4"
   ]
  },
  {
   "cell_type": "code",
   "execution_count": 7,
   "metadata": {},
   "outputs": [],
   "source": [
    "r0_ee_to_C2 = T0_1*r1_C2\n",
    "r0_ee_to_C2 = r0_ee_to_C2.subs([(X, 0),(Y, 0),(Z, 0)])"
   ]
  },
  {
   "cell_type": "code",
   "execution_count": 8,
   "metadata": {},
   "outputs": [],
   "source": [
    "# Scalar Triple Product \n",
    "f_5 = simplify(expand(u0_1.dot(u0_1))) - r**2\n",
    "f_6 = simplify(expand(u0_2.dot(u0_2))) - r**2\n",
    "f_7 = simplify(expand(u0_3.dot(u0_3))) - r**2\n",
    "f_8 = simplify(expand(u0_4.dot(u0_4))) - r**2\n",
    "f_9 = x_0**2+x_1**2+x_2**2+x_3**2-1.0\n",
    "\n",
    "# Substitute Additional Mode Geometric Condition A\n",
    "f_5A = f_5.subs([(c, a),(x_2, 0),(x_3, 0),(X,0)],simultaneous=True)\n",
    "f_6A = f_6.subs([(c, a),(x_2, 0),(x_3, 0),(X,0)],simultaneous=True)\n",
    "f_7A = f_7.subs([(c, a),(x_2, 0),(x_3, 0),(X,0)],simultaneous=True)\n",
    "f_8A = f_8.subs([(c, a),(x_2, 0),(x_3, 0),(X,0)],simultaneous=True)\n",
    "f_9A = f_9.subs([(c, a),(x_2, 0),(x_3, 0),(X,0)],simultaneous=True)"
   ]
  },
  {
   "cell_type": "code",
   "execution_count": 9,
   "metadata": {},
   "outputs": [
    {
     "data": {
      "text/latex": [
       "$\\displaystyle \\left(x_{0}^{2} + x_{1}^{2} - 1.0\\right)^{2}$"
      ],
      "text/plain": [
       "(x_0**2 + x_1**2 - 1.0)**2"
      ]
     },
     "execution_count": 9,
     "metadata": {},
     "output_type": "execute_result"
    }
   ],
   "source": [
    "f_9A_sq = f_9A*f_9A\n",
    "f_9A_sq_expd = expand(f_9A_sq)\n",
    "f_9A_sq"
   ]
  },
  {
   "cell_type": "code",
   "execution_count": 10,
   "metadata": {},
   "outputs": [
    {
     "data": {
      "text/latex": [
       "$\\displaystyle x_{0}^{4} + 2 x_{0}^{2} x_{1}^{2} - 2.0 x_{0}^{2} + x_{1}^{4} - 2.0 x_{1}^{2} + 1.0$"
      ],
      "text/plain": [
       "x_0**4 + 2*x_0**2*x_1**2 - 2.0*x_0**2 + x_1**4 - 2.0*x_1**2 + 1.0"
      ]
     },
     "execution_count": 10,
     "metadata": {},
     "output_type": "execute_result"
    }
   ],
   "source": [
    "f_9A_sq_expd.subs(-2.0*x_0**2-2.0*x_1**2, -2)"
   ]
  },
  {
   "cell_type": "code",
   "execution_count": 11,
   "metadata": {},
   "outputs": [
    {
     "data": {
      "text/latex": [
       "$\\displaystyle x_{0}^{4} + 2 x_{0}^{2} x_{1}^{2} - 2.0 x_{0}^{2} + x_{1}^{4} - 2.0 x_{1}^{2} + 1.0$"
      ],
      "text/plain": [
       "x_0**4 + 2*x_0**2*x_1**2 - 2.0*x_0**2 + x_1**4 - 2.0*x_1**2 + 1.0"
      ]
     },
     "execution_count": 11,
     "metadata": {},
     "output_type": "execute_result"
    }
   ],
   "source": [
    "f_9A_sq_expd"
   ]
  },
  {
   "cell_type": "code",
   "execution_count": 12,
   "metadata": {},
   "outputs": [
    {
     "data": {
      "text/latex": [
       "$\\displaystyle Y^{2} + Y \\left(2 b - 2 d x_{0}^{2} + 2 d x_{1}^{2}\\right) + Z^{2} + Z \\left(- 4.0 d x_{0} x_{1} - 2 h_{1}\\right) + a^{2} \\left(x_{0}^{4} + 2 x_{0}^{2} x_{1}^{2} - 2 x_{0}^{2} + x_{1}^{4} - 2 x_{1}^{2} + 1\\right) + b^{2} + b \\left(- 2 d x_{0}^{2} + 2 d x_{1}^{2}\\right) + d^{2} \\left(x_{0}^{4} + 2.0 x_{0}^{2} x_{1}^{2} + x_{1}^{4}\\right) + 4.0 d h_{1} x_{0} x_{1} + h_{1}^{2} - r^{2}$"
      ],
      "text/plain": [
       "Y**2 + Y*(2*b - 2*d*x_0**2 + 2*d*x_1**2) + Z**2 + Z*(-4.0*d*x_0*x_1 - 2*h_1) + a**2*(x_0**4 + 2*x_0**2*x_1**2 - 2*x_0**2 + x_1**4 - 2*x_1**2 + 1) + b**2 + b*(-2*d*x_0**2 + 2*d*x_1**2) + d**2*(x_0**4 + 2.0*x_0**2*x_1**2 + x_1**4) + 4.0*d*h_1*x_0*x_1 + h_1**2 - r**2"
      ]
     },
     "execution_count": 12,
     "metadata": {},
     "output_type": "execute_result"
    }
   ],
   "source": [
    "f_5A = collect(f_5A, (X,Y,Z,r,a,b,c,d))\n",
    "f_5A"
   ]
  },
  {
   "cell_type": "code",
   "execution_count": 13,
   "metadata": {},
   "outputs": [
    {
     "data": {
      "text/latex": [
       "$\\displaystyle Y^{2} + Y \\left(2 b - 2 d x_{0}^{2} + 2 d x_{1}^{2}\\right) + Z^{2} + Z \\left(- 4.0 d x_{0} x_{1} - 2 h_{1}\\right) + b^{2} + b \\left(- 2 d x_{0}^{2} + 2 d x_{1}^{2}\\right) + d^{2} + 4.0 d h_{1} x_{0} x_{1} + h_{1}^{2} - r^{2}$"
      ],
      "text/plain": [
       "Y**2 + Y*(2*b - 2*d*x_0**2 + 2*d*x_1**2) + Z**2 + Z*(-4.0*d*x_0*x_1 - 2*h_1) + b**2 + b*(-2*d*x_0**2 + 2*d*x_1**2) + d**2 + 4.0*d*h_1*x_0*x_1 + h_1**2 - r**2"
      ]
     },
     "execution_count": 13,
     "metadata": {},
     "output_type": "execute_result"
    }
   ],
   "source": [
    "# eliminate the quaternion identity\n",
    "f_5A = f_5A.subs(x_0**4+2.0*x_0**2*x_1**2+x_1**4, 1)\n",
    "f_5A = f_5A.subs(f_9A_sq_expd-1.0,-1.0)\n",
    "f_5A"
   ]
  },
  {
   "cell_type": "code",
   "execution_count": 14,
   "metadata": {},
   "outputs": [
    {
     "data": {
      "text/latex": [
       "$\\displaystyle Y^{2} + Y \\left(- 2 b + 2 d x_{0}^{2} - 2 d x_{1}^{2}\\right) + Z^{2} + Z \\left(4.0 d x_{0} x_{1} - 2 h_{2}\\right) + b^{2} + b \\left(- 2 d x_{0}^{2} + 2 d x_{1}^{2}\\right) + d^{2} - 4.0 d h_{2} x_{0} x_{1} + h_{2}^{2} - r^{2}$"
      ],
      "text/plain": [
       "Y**2 + Y*(-2*b + 2*d*x_0**2 - 2*d*x_1**2) + Z**2 + Z*(4.0*d*x_0*x_1 - 2*h_2) + b**2 + b*(-2*d*x_0**2 + 2*d*x_1**2) + d**2 - 4.0*d*h_2*x_0*x_1 + h_2**2 - r**2"
      ]
     },
     "execution_count": 14,
     "metadata": {},
     "output_type": "execute_result"
    }
   ],
   "source": [
    "f_6A = collect(f_6A, (X,Y,Z,r,a,b,c,d))\n",
    "f_6A = f_6A.subs(x_0**4+2.0*x_0**2*x_1**2+x_1**4, 1)\n",
    "f_6A = f_6A.subs(f_9A_sq_expd-1.0,-1.0)\n",
    "f_6A"
   ]
  },
  {
   "cell_type": "code",
   "execution_count": 15,
   "metadata": {},
   "outputs": [
    {
     "data": {
      "text/latex": [
       "$\\displaystyle Y^{2} + Y \\left(- 2 b + 2 d x_{0}^{2} - 2 d x_{1}^{2}\\right) + Z^{2} + Z \\left(4.0 d x_{0} x_{1} - 2 h_{3}\\right) + b^{2} + b \\left(- 2 d x_{0}^{2} + 2 d x_{1}^{2}\\right) + d^{2} - 4.0 d h_{3} x_{0} x_{1} + h_{3}^{2} - r^{2}$"
      ],
      "text/plain": [
       "Y**2 + Y*(-2*b + 2*d*x_0**2 - 2*d*x_1**2) + Z**2 + Z*(4.0*d*x_0*x_1 - 2*h_3) + b**2 + b*(-2*d*x_0**2 + 2*d*x_1**2) + d**2 - 4.0*d*h_3*x_0*x_1 + h_3**2 - r**2"
      ]
     },
     "execution_count": 15,
     "metadata": {},
     "output_type": "execute_result"
    }
   ],
   "source": [
    "f_7A = collect(f_7A, (X,Y,Z,r,a,b,c,d))\n",
    "f_7A = f_7A.subs(x_0**4+2.0*x_0**2*x_1**2+x_1**4, 1)\n",
    "f_7A = f_7A.subs(f_9A_sq_expd-1.0,-1.0)\n",
    "f_7A"
   ]
  },
  {
   "cell_type": "code",
   "execution_count": 16,
   "metadata": {},
   "outputs": [
    {
     "data": {
      "text/latex": [
       "$\\displaystyle Y^{2} + Y \\left(- 2 b + 2 d x_{0}^{2} - 2 d x_{1}^{2}\\right) + Z^{2} + Z \\left(4.0 d x_{0} x_{1} - 2 h_{3}\\right) + b^{2} + b \\left(- 2 d x_{0}^{2} + 2 d x_{1}^{2}\\right) + d^{2} - 4.0 d h_{3} x_{0} x_{1} + h_{3}^{2} - r^{2}$"
      ],
      "text/plain": [
       "Y**2 + Y*(-2*b + 2*d*x_0**2 - 2*d*x_1**2) + Z**2 + Z*(4.0*d*x_0*x_1 - 2*h_3) + b**2 + b*(-2*d*x_0**2 + 2*d*x_1**2) + d**2 - 4.0*d*h_3*x_0*x_1 + h_3**2 - r**2"
      ]
     },
     "execution_count": 16,
     "metadata": {},
     "output_type": "execute_result"
    }
   ],
   "source": [
    "f_8A = collect(f_8A, (X,Y,Z,r,a,b,c,d))\n",
    "f_8A = f_8A.subs(x_0**4+2.0*x_0**2*x_1**2+x_1**4, 1)\n",
    "f_8A = f_8A.subs(f_9A_sq_expd-1.0,-1.0)\n",
    "f_7A"
   ]
  },
  {
   "cell_type": "markdown",
   "metadata": {},
   "source": [
    "# Inverse Kinematics (Schoenfiles Mode)"
   ]
  },
  {
   "cell_type": "code",
   "execution_count": 17,
   "metadata": {},
   "outputs": [],
   "source": [
    "# Schonflies Mode\n",
    "# T0_1_H1 = T0_1.subs([(x_1, 0),(x_2, 0)],simultaneous=True)\n",
    "des_pose = tfs.identity_matrix()\n",
    "\n",
    "f_5_H1 = f_5.subs([(X, des_xyz[0]),\n",
    "                   (Y, des_xyz[1]),\n",
    "                   (Z, des_xyz[2]),\n",
    "                   (x_1, des_quat[0]),\n",
    "                   (x_2, des_quat[1]),\n",
    "                   (x_3, des_quat[2]),\n",
    "                   (x_0, des_quat[3])],\n",
    "                  simultaneous=True) \n",
    "h_1_sols = solve(f_5_H1, h_1)"
   ]
  },
  {
   "cell_type": "code",
   "execution_count": 18,
   "metadata": {},
   "outputs": [
    {
     "data": {
      "text/latex": [
       "$\\displaystyle Z + \\sqrt{- X^{2} + 2.0 X a - 2.0 X c x_{0}^{2} + 2.0 X c x_{3}^{2} + 4.0 X d x_{0} x_{3} - Y^{2} + 2.0 Y b - 4.0 Y c x_{0} x_{3} - 2.0 Y d x_{0}^{2} + 2.0 Y d x_{3}^{2} - a^{2} + 2.0 a c x_{0}^{2} - 2.0 a c x_{3}^{2} - 4.0 a d x_{0} x_{3} - b^{2} + 4.0 b c x_{0} x_{3} + 2.0 b d x_{0}^{2} - 2.0 b d x_{3}^{2} - c^{2} x_{0}^{4} - 2.0 c^{2} x_{0}^{2} x_{3}^{2} - c^{2} x_{3}^{4} - d^{2} x_{0}^{4} - 2.0 d^{2} x_{0}^{2} x_{3}^{2} - d^{2} x_{3}^{4} + r^{2}}$"
      ],
      "text/plain": [
       "Z + sqrt(-X**2 + 2.0*X*a - 2.0*X*c*x_0**2 + 2.0*X*c*x_3**2 + 4.0*X*d*x_0*x_3 - Y**2 + 2.0*Y*b - 4.0*Y*c*x_0*x_3 - 2.0*Y*d*x_0**2 + 2.0*Y*d*x_3**2 - a**2 + 2.0*a*c*x_0**2 - 2.0*a*c*x_3**2 - 4.0*a*d*x_0*x_3 - b**2 + 4.0*b*c*x_0*x_3 + 2.0*b*d*x_0**2 - 2.0*b*d*x_3**2 - c**2*x_0**4 - 2.0*c**2*x_0**2*x_3**2 - c**2*x_3**4 - d**2*x_0**4 - 2.0*d**2*x_0**2*x_3**2 - d**2*x_3**4 + r**2)"
      ]
     },
     "execution_count": 18,
     "metadata": {},
     "output_type": "execute_result"
    }
   ],
   "source": [
    "h_2_sols = solve(f_6, h_2)\n",
    "h_2_sols[1].subs([(x_1, 0),(x_2,0)])\n",
    "# We can change the signs of a,b,c,d corresponding to the "
   ]
  },
  {
   "cell_type": "markdown",
   "metadata": {},
   "source": [
    "# Inverse Kinematics (Additional Mode: Geometric A)"
   ]
  },
  {
   "cell_type": "code",
   "execution_count": 19,
   "metadata": {},
   "outputs": [
    {
     "data": {
      "text/latex": [
       "$\\displaystyle 4.0 \\left(1.0 h_{1} - 1.0 h_{4}\\right) \\left(- 0.5 Z + 1.0 d x_{0} x_{1} + 0.25 h_{1} + 0.25 h_{4}\\right)$"
      ],
      "text/plain": [
       "4.0*(1.0*h_1 - 1.0*h_4)*(-0.5*Z + 1.0*d*x_0*x_1 + 0.25*h_1 + 0.25*h_4)"
      ]
     },
     "execution_count": 19,
     "metadata": {},
     "output_type": "execute_result"
    }
   ],
   "source": [
    "# Additional Mode (Geometric A)\n",
    "g_1A = factor(f_5A - f_8A)\n",
    "g_1A"
   ]
  },
  {
   "cell_type": "code",
   "execution_count": 20,
   "metadata": {},
   "outputs": [
    {
     "data": {
      "text/latex": [
       "$\\displaystyle - 8.0 \\left(- 0.25 Y^{2} - 0.5 Y b + 0.5 Y d x_{0}^{2} - 0.5 Y d x_{1}^{2} - 0.25 Z^{2} + 1.0 Z d x_{0} x_{1} + 0.25 Z h_{1} + 0.25 Z h_{4} - 0.25 b^{2} + 0.5 b d x_{0}^{2} - 0.5 b d x_{1}^{2} - 0.25 d^{2} - 0.5 d h_{1} x_{0} x_{1} - 0.5 d h_{4} x_{0} x_{1} - 0.125 h_{1}^{2} - 0.125 h_{4}^{2} + 0.25 r^{2}\\right)$"
      ],
      "text/plain": [
       "-8.0*(-0.25*Y**2 - 0.5*Y*b + 0.5*Y*d*x_0**2 - 0.5*Y*d*x_1**2 - 0.25*Z**2 + 1.0*Z*d*x_0*x_1 + 0.25*Z*h_1 + 0.25*Z*h_4 - 0.25*b**2 + 0.5*b*d*x_0**2 - 0.5*b*d*x_1**2 - 0.25*d**2 - 0.5*d*h_1*x_0*x_1 - 0.5*d*h_4*x_0*x_1 - 0.125*h_1**2 - 0.125*h_4**2 + 0.25*r**2)"
      ]
     },
     "execution_count": 20,
     "metadata": {},
     "output_type": "execute_result"
    }
   ],
   "source": [
    "g_2A = factor(f_5A + f_8A)\n",
    "g_2A"
   ]
  },
  {
   "cell_type": "code",
   "execution_count": 21,
   "metadata": {},
   "outputs": [
    {
     "data": {
      "text/latex": [
       "$\\displaystyle \\left(1.0 h_{2} - 1.0 h_{3}\\right) \\left(- 2.0 Z - 4.0 d x_{0} x_{1} + 1.0 h_{2} + 1.0 h_{3}\\right)$"
      ],
      "text/plain": [
       "(1.0*h_2 - 1.0*h_3)*(-2.0*Z - 4.0*d*x_0*x_1 + 1.0*h_2 + 1.0*h_3)"
      ]
     },
     "execution_count": 21,
     "metadata": {},
     "output_type": "execute_result"
    }
   ],
   "source": [
    "g_3A = factor(f_6A - f_7A)\n",
    "g_3A = g_3A .args[1]*(g_3A.args[0]*g_3A.args[2])\n",
    "g_3A"
   ]
  },
  {
   "cell_type": "code",
   "execution_count": 22,
   "metadata": {},
   "outputs": [
    {
     "data": {
      "text/latex": [
       "$\\displaystyle 2.0 Y^{2} - 4.0 Y b + 4.0 Y d x_{0}^{2} - 4.0 Y d x_{1}^{2} + 2.0 Z^{2} + 8.0 Z d x_{0} x_{1} - 2.0 Z h_{2} - 2.0 Z h_{3} + 2.0 b^{2} - 4.0 b d x_{0}^{2} + 4.0 b d x_{1}^{2} + 2.0 d^{2} - 4.0 d h_{2} x_{0} x_{1} - 4.0 d h_{3} x_{0} x_{1} + 1.0 h_{2}^{2} + 1.0 h_{3}^{2} - 2.0 r^{2}$"
      ],
      "text/plain": [
       "2.0*Y**2 - 4.0*Y*b + 4.0*Y*d*x_0**2 - 4.0*Y*d*x_1**2 + 2.0*Z**2 + 8.0*Z*d*x_0*x_1 - 2.0*Z*h_2 - 2.0*Z*h_3 + 2.0*b**2 - 4.0*b*d*x_0**2 + 4.0*b*d*x_1**2 + 2.0*d**2 - 4.0*d*h_2*x_0*x_1 - 4.0*d*h_3*x_0*x_1 + 1.0*h_2**2 + 1.0*h_3**2 - 2.0*r**2"
      ]
     },
     "execution_count": 22,
     "metadata": {},
     "output_type": "execute_result"
    }
   ],
   "source": [
    "g_4A = expand(factor(f_6A + f_7A))\n",
    "g_4A"
   ]
  },
  {
   "cell_type": "code",
   "execution_count": 23,
   "metadata": {},
   "outputs": [
    {
     "data": {
      "text/latex": [
       "$\\displaystyle Y^{2} + 2.0 Y b - 2.0 Y d x_{0}^{2} + 2.0 Y d x_{1}^{2} + Z^{2} - 4.0 Z d x_{0} x_{1} - 2.0 Z h_{4} + b^{2} - 2.0 b d x_{0}^{2} + 2.0 b d x_{1}^{2} + d^{2} + 4.0 d h_{4} x_{0} x_{1} + h_{4}^{2} - 1.0 r^{2}$"
      ],
      "text/plain": [
       "Y**2 + 2.0*Y*b - 2.0*Y*d*x_0**2 + 2.0*Y*d*x_1**2 + Z**2 - 4.0*Z*d*x_0*x_1 - 2.0*Z*h_4 + b**2 - 2.0*b*d*x_0**2 + 2.0*b*d*x_1**2 + d**2 + 4.0*d*h_4*x_0*x_1 + h_4**2 - 1.0*r**2"
      ]
     },
     "execution_count": 23,
     "metadata": {},
     "output_type": "execute_result"
    }
   ],
   "source": [
    "# Reduce to 3 Equations \n",
    "e_1A = expand(factor(g_2A.subs(h_1, h_4)))/2\n",
    "e_1A"
   ]
  },
  {
   "cell_type": "code",
   "execution_count": 24,
   "metadata": {},
   "outputs": [
    {
     "data": {
      "text/latex": [
       "$\\displaystyle - 2.0 Z - 4.0 d x_{0} x_{1} + 1.0 h_{2} + 1.0 h_{3}$"
      ],
      "text/plain": [
       "-2.0*Z - 4.0*d*x_0*x_1 + 1.0*h_2 + 1.0*h_3"
      ]
     },
     "execution_count": 24,
     "metadata": {},
     "output_type": "execute_result"
    }
   ],
   "source": [
    "#***Choose the factor that does not lead to actuation singularity configuration\n",
    "e_2A = g_3A.args[1]\n",
    "e_2A"
   ]
  },
  {
   "cell_type": "code",
   "execution_count": 25,
   "metadata": {},
   "outputs": [
    {
     "data": {
      "text/latex": [
       "$\\displaystyle - 8.0 \\left(- 0.25 Y^{2} + 0.5 Y b - 0.5 Y d x_{0}^{2} + 0.5 Y d x_{1}^{2} - 0.25 Z^{2} - 1.0 Z d x_{0} x_{1} + 0.25 Z h_{2} + 0.25 Z h_{3} - 0.25 b^{2} + 0.5 b d x_{0}^{2} - 0.5 b d x_{1}^{2} - 0.25 d^{2} + 0.5 d h_{2} x_{0} x_{1} + 0.5 d h_{3} x_{0} x_{1} - 0.125 h_{2}^{2} - 0.125 h_{3}^{2} + 0.25 r^{2}\\right)$"
      ],
      "text/plain": [
       "-8.0*(-0.25*Y**2 + 0.5*Y*b - 0.5*Y*d*x_0**2 + 0.5*Y*d*x_1**2 - 0.25*Z**2 - 1.0*Z*d*x_0*x_1 + 0.25*Z*h_2 + 0.25*Z*h_3 - 0.25*b**2 + 0.5*b*d*x_0**2 - 0.5*b*d*x_1**2 - 0.25*d**2 + 0.5*d*h_2*x_0*x_1 + 0.5*d*h_3*x_0*x_1 - 0.125*h_2**2 - 0.125*h_3**2 + 0.25*r**2)"
      ]
     },
     "execution_count": 25,
     "metadata": {},
     "output_type": "execute_result"
    }
   ],
   "source": [
    "e_3A = g_4A\n",
    "e_3A\n",
    "factor(e_3A)"
   ]
  },
  {
   "cell_type": "code",
   "execution_count": 26,
   "metadata": {},
   "outputs": [
    {
     "data": {
      "text/latex": [
       "$\\displaystyle Z - 2.0 d x_{0} x_{1} - \\sqrt{- Y^{2} - 2.0 Y b + 2.0 Y d x_{0}^{2} - 2.0 Y d x_{1}^{2} - b^{2} + 2.0 b d x_{0}^{2} - 2.0 b d x_{1}^{2} + 4.0 d^{2} x_{0}^{2} x_{1}^{2} - d^{2} + r^{2}}$"
      ],
      "text/plain": [
       "Z - 2.0*d*x_0*x_1 - sqrt(-Y**2 - 2.0*Y*b + 2.0*Y*d*x_0**2 - 2.0*Y*d*x_1**2 - b**2 + 2.0*b*d*x_0**2 - 2.0*b*d*x_1**2 + 4.0*d**2*x_0**2*x_1**2 - d**2 + r**2)"
      ]
     },
     "execution_count": 26,
     "metadata": {},
     "output_type": "execute_result"
    }
   ],
   "source": [
    "# solve for h_4 (=h_1), h_2, and h_3\n",
    "\n",
    "# invs_kin_sols_geo_A = solve((e_1A, e_2A, e_3A), (h_2, h_3, h_4))\n",
    "# invs_kin_sols_geo_A\n",
    "\n",
    "h_1_h_4_sol = simplify(solve(e_1A, h_4))\n",
    "h_1_h_4_sol[0]"
   ]
  },
  {
   "cell_type": "code",
   "execution_count": 27,
   "metadata": {},
   "outputs": [],
   "source": [
    "# https://stackoverflow.com/questions/53092738/eliminate-a-variable-to-relate-two-functions-in-python-using-sympy\n",
    "# https://github.com/sympy/sympy/issues/2720\n",
    "d_1A = factor(e_3A.subs(h_2, solve(e_2A, h_2)[0]))\n",
    "h_3_sol = solve((d_1A,f_9A), h_3)"
   ]
  },
  {
   "cell_type": "code",
   "execution_count": 28,
   "metadata": {},
   "outputs": [
    {
     "name": "stdout",
     "output_type": "stream",
     "text": [
      "Z + 2.0*d*x_0*x_1 + sqrt(-Y**2 + 2.0*Y*b - 2.0*Y*d*x_0**2 + 2.0*Y*d*x_1**2 - b**2 + 2.0*b*d*x_0**2 - 2.0*b*d*x_1**2 + 4.0*d**2*x_0**2*x_1**2 - d**2 + r**2)\n"
     ]
    }
   ],
   "source": [
    "print(h_3_sol[1][0])"
   ]
  },
  {
   "cell_type": "code",
   "execution_count": 29,
   "metadata": {},
   "outputs": [
    {
     "data": {
      "text/latex": [
       "$\\displaystyle 1.0 Z + 2.0 d x_{0} x_{1} - \\sqrt{- Y^{2} + 2.0 Y b - 2.0 Y d x_{0}^{2} + 2.0 Y d x_{1}^{2} - b^{2} + 2.0 b d x_{0}^{2} - 2.0 b d x_{1}^{2} + 4.0 d^{2} x_{0}^{2} x_{1}^{2} - d^{2} + r^{2}}$"
      ],
      "text/plain": [
       "1.0*Z + 2.0*d*x_0*x_1 - sqrt(-Y**2 + 2.0*Y*b - 2.0*Y*d*x_0**2 + 2.0*Y*d*x_1**2 - b**2 + 2.0*b*d*x_0**2 - 2.0*b*d*x_1**2 + 4.0*d**2*x_0**2*x_1**2 - d**2 + r**2)"
      ]
     },
     "execution_count": 29,
     "metadata": {},
     "output_type": "execute_result"
    }
   ],
   "source": [
    "h_2_sol = (solve(e_2A, h_2)[0]).subs(h_3, h_3_sol[1][0])\n",
    "h_2_sol"
   ]
  },
  {
   "cell_type": "markdown",
   "metadata": {},
   "source": [
    "# Forward Kinematics (Schoenfiles Mode)"
   ]
  },
  {
   "cell_type": "code",
   "execution_count": null,
   "metadata": {},
   "outputs": [],
   "source": []
  },
  {
   "cell_type": "markdown",
   "metadata": {},
   "source": [
    "# Trajectory Simulation "
   ]
  },
  {
   "cell_type": "markdown",
   "metadata": {},
   "source": [
    "# Robot Class "
   ]
  },
  {
   "cell_type": "code",
   "execution_count": 48,
   "metadata": {},
   "outputs": [],
   "source": [
    "class Robot4CRU(object):\n",
    "    \"\"\"class of Robot_4CRU\"\"\"\n",
    "    def __init__(self):\n",
    "        super(Robot4CRU, self).__init__()\n",
    "        self.set_geometric_params([0, 0, 1, 4]) # A min alpha, beta = 45 deg, long ee diag length, long base diag length\n",
    "        self.set_geometric_params([4, 0, 1, 4]) # B max alpha, beta = 45 deg, long ee diag length, long base diag length\n",
    "        self.operation_mode = \"H1\" # 0 = Schoenfiles, 1 = Additional, 2 = Reverse Schoenfiles\n",
    "        \n",
    "    def set_geometric_params(self, new_geometric_indcs):\n",
    "        # End-effector joint axis distribution angles (5 cases)\n",
    "        self.alphas = np.sort(np.array([np.pi/4.0, np.pi/4.0 + np.pi/8.0, np.pi/2.0, np.pi/2.0 + np.pi/8.0, np.pi/2.0 + np.pi/4.0])/2.0)\n",
    "        # Base joint axis distribution angles (2 cases)\n",
    "        self.betas = np.sort(np.array([np.pi/4.0, np.pi/4.0 + np.pi/8.0]))\n",
    "        # end effector diagonal lengths (2 cases) unit in mm\n",
    "        self.eeff_diag_lengths = np.sort(np.array([6.25/np.cos(np.pi/8)-2.0, 6.25/np.cos(np.pi/8)]))*25.4\n",
    "        # base diagonal length (5 cases) unit in mm\n",
    "        self.base_diag_lengths = np.sort(np.array([self.eeff_diag_lengths[0],\n",
    "            self.eeff_diag_lengths[1],\n",
    "            self.eeff_diag_lengths[0]*np.cos(self.alphas[1])/np.cos(self.betas[0]), \n",
    "            self.eeff_diag_lengths[1]*np.cos(self.alphas[0])/np.cos(self.betas[0]),\n",
    "            self.eeff_diag_lengths[1]*np.cos(self.alphas[1])/np.cos(self.betas[0])]))\n",
    "        # length of the UU couple (from CAD) unit in mm\n",
    "        self.r = (1.75*2 + 2.54*2)*10.0\n",
    "        self.joint_pos_range = np.array([0, 300.00])\n",
    "        self.joint_pos = np.full(4, self.joint_pos_range[1]/2.0) # home position\n",
    "        #self.h_offset = 3.0*25.4 # (approx.) TODO: update from real CAD\n",
    "        self.h_offset = 0 # not offset in simulation\n",
    "\n",
    "        self.geometric_indcs = new_geometric_indcs\n",
    "        self.a = self.base_diag_lengths[self.geometric_indcs[3]]/2.0*np.cos(self.betas[self.geometric_indcs[1]])\n",
    "        self.b = self.base_diag_lengths[self.geometric_indcs[3]]/2.0*np.sin(self.betas[self.geometric_indcs[1]])\n",
    "        self.c = self.eeff_diag_lengths[self.geometric_indcs[2]]/2.0*np.cos(self.alphas[self.geometric_indcs[0]])\n",
    "        self.d = self.eeff_diag_lengths[self.geometric_indcs[2]]/2.0*np.sin(self.alphas[self.geometric_indcs[0]])\n",
    "        self.update_geometric_cond()\n",
    "        \n",
    "    def update_geometric_cond(self):\n",
    "        curr_a = round(self.a, 3) # magnitude only\n",
    "        curr_b = round(self.b, 3)\n",
    "        curr_c = round(self.c, 3)\n",
    "        curr_d = round(self.d, 3)\n",
    "        if (curr_a < curr_c and curr_b > curr_d) or (curr_a > curr_c and curr_b < curr_d):\n",
    "            self.geometric_cond = \"Generic\"\n",
    "        elif curr_a == curr_c and curr_b != curr_d:\n",
    "            self.geometric_cond = \"A\"\n",
    "        elif curr_a != curr_c and curr_b == curr_d:\n",
    "            self.geometric_cond = \"B\"\n",
    "        elif curr_a == curr_c and curr_b == curr_d:\n",
    "            self.geometric_cond = \"C\"\n",
    "        else:\n",
    "            self.geometric_cond = \"Other\"\n",
    "            print(\"Additional Mode is not achievable!\")\n",
    "        print(\"Geometric Condition: \", self.geometric_cond)\n",
    "        print(\"[a, b, c, d] = \", [self.a, self.b, self.c, self.d], \" mm\")\n",
    "        print(\"r = \", self.r, \" mm\")\n",
    "        \n",
    "    def inverse_kinematics(self, des_pose_4dof):\n",
    "        reals, discriminants, has_solution = self.check_ik_feasible(des_pose_4dof)\n",
    "        all_joint_pos_sol = np.full((4, 2), self.joint_pos_range[1]/2.0) # home position as default value\n",
    "        all_swivel_angles = np.zeros((4, 2)) # indices [joint_no, U1/U2]\n",
    "        current_joint_pos = self.joint_pos\n",
    "        selected_joint_pos_sol = current_joint_pos\n",
    "        if has_solution:\n",
    "            for i in range(4):\n",
    "                for j in range(2):\n",
    "                    if j == 0:\n",
    "                        all_joint_pos_sol[i,j] = reals[i] - np.sqrt(discriminants[i]) - self.h_offset\n",
    "                    elif j == 1:\n",
    "                        all_joint_pos_sol[i,j] = reals[i] + np.sqrt(discriminants[i]) - self.h_offset\n",
    "                    swivel_angle_U1, swivel_angle_U2 = self.calc_swivel_angle(des_pose_4dof, all_joint_pos_sol[i,1], i)\n",
    "                    all_swivel_angles[i,0] = swivel_angle_U1\n",
    "                    all_swivel_angles[i,1] = swivel_angle_U2\n",
    "                #joint_pos_diff_j_index = np.argmin(np.abs(all_joint_pos_sol[i,:] - current_joint_pos[i]))\n",
    "                #selected_joint_pos_sol[i] = all_joint_pos_sol[i, joint_pos_diff_j_index]\n",
    "                joint_pos_sol_index = np.array([1,0,1,0])\n",
    "                selected_joint_pos_sol[i] = all_joint_pos_sol[i, joint_pos_sol_index[i]]\n",
    "        else:\n",
    "            # if no solution, return current joint positions\n",
    "            print(\"No IK Solution: at least one discriminant is negative: \", discriminants)\n",
    "\n",
    "        # check the swivel angle limit on both ends of the U-U rod: provide warning on the screen if the joint are out of ranges\n",
    "        print(\"IK joint pos solutions: \", selected_joint_pos_sol)\n",
    "        #print(\"swivel angles (deg): \", np.rad2deg(all_swivel_angles))\n",
    "\n",
    "        return selected_joint_pos_sol.tolist()\n",
    "    \n",
    "    def check_ik_feasible(self, pose_4dof):\n",
    "        tf_mat_base_to_eeff, X, Y, Z, x_0, x_1, x_2, x_3 = self.convert_pose_4dof_to_tf_mat_and_7var(pose_4dof)\n",
    "        r = self.r\n",
    "    \n",
    "        reals = np.zeros([4])\n",
    "        discriminants = np.zeros([4])\n",
    "        has_solution = True\n",
    "\n",
    "        for i in range(4):\n",
    "            # convert signs based on joint indices\n",
    "            if i == 0:\n",
    "                a = self.a; b = -self.b; c = self.c; d = -self.d\n",
    "            elif i == 1:\n",
    "                a = self.a; b = self.b; c = self.c; d = self.d\n",
    "            elif i == 2:\n",
    "                a = -self.a; b = self.b; c = -self.c; d = self.d\n",
    "            elif i == 3:\n",
    "                a = -self.a; b = -self.b; c = -self.c; d = -self.d\n",
    "\n",
    "            discriminants[i] = -X**2 + 2.0*X*a - 2.0*X*c*x_0**2 - 2.0*X*c*x_1**2 + \\\n",
    "            2.0*X*c*x_2**2 + 2.0*X*c*x_3**2 + 4.0*X*d*x_0*x_3 - 4.0*X*d*x_1*x_2 \\\n",
    "            - Y**2 + 2.0*Y*b - 4.0*Y*c*x_0*x_3 - 4.0*Y*c*x_1*x_2 - \\\n",
    "            2.0*Y*d*x_0**2 + 2.0*Y*d*x_1**2 - 2.0*Y*d*x_2**2 + 2.0*Y*d*x_3**2 - \\\n",
    "            a**2 + 2.0*a*c*x_0**2 + 2.0*a*c*x_1**2 - 2.0*a*c*x_2**2 - \\\n",
    "            2.0*a*c*x_3**2 - 4.0*a*d*x_0*x_3 + 4.0*a*d*x_1*x_2 - b**2 + \\\n",
    "            4.0*b*c*x_0*x_3 + 4.0*b*c*x_1*x_2 + 2.0*b*d*x_0**2 - 2.0*b*d*x_1**2 \\\n",
    "            + 2.0*b*d*x_2**2 - 2.0*b*d*x_3**2 - c**2*x_0**4 - \\\n",
    "            2.0*c**2*x_0**2*x_1**2 + 2.0*c**2*x_0**2*x_2**2 - \\\n",
    "            2.0*c**2*x_0**2*x_3**2 - 8.0*c**2*x_0*x_1*x_2*x_3 - c**2*x_1**4 - \\\n",
    "            2.0*c**2*x_1**2*x_2**2 + 2.0*c**2*x_1**2*x_3**2 - c**2*x_2**4 - \\\n",
    "            2.0*c**2*x_2**2*x_3**2 - c**2*x_3**4 - 8.0*c*d*x_0**2*x_1*x_2 + \\\n",
    "            8.0*c*d*x_0*x_1**2*x_3 - 8.0*c*d*x_0*x_2**2*x_3 + \\\n",
    "            8.0*c*d*x_1*x_2*x_3**2 - d**2*x_0**4 + 2.0*d**2*x_0**2*x_1**2 - \\\n",
    "            2.0*d**2*x_0**2*x_2**2 - 2.0*d**2*x_0**2*x_3**2 + \\\n",
    "            8.0*d**2*x_0*x_1*x_2*x_3 - d**2*x_1**4 - 2.0*d**2*x_1**2*x_2**2 - \\\n",
    "            2.0*d**2*x_1**2*x_3**2 - d**2*x_2**4 + 2.0*d**2*x_2**2*x_3**2 - \\\n",
    "            d**2*x_3**4 + r**2  \n",
    "\n",
    "            reals[i] = Z - 2.0*c*x_0*x_2 + 2.0*c*x_1*x_3 + 2.0*d*x_0*x_1 + 2.0*d*x_2*x_3\n",
    "\n",
    "        if np.any(np.sign(discriminants) < 0):\n",
    "            has_solution = False\n",
    "\n",
    "        return reals, discriminants, has_solution\n",
    "    \n",
    "    def calc_swivel_angle(self, des_pose_4dof, joint_pos, joint_index):\n",
    "        tf_mat_base_to_eeff, X, Y, Z, x_0, x_1, x_2, x_3 = self.convert_pose_4dof_to_tf_mat_and_7var(des_pose_4dof)\n",
    "        \n",
    "        # convert signs based on joint indices\n",
    "        if joint_index == 0:\n",
    "            a = self.a; b = -self.b; c = self.c; d = -self.d\n",
    "        elif joint_index == 1:\n",
    "            a = self.a; b = self.b; c = self.c; d = self.d\n",
    "        elif joint_index == 2:\n",
    "            a = -self.a; b = self.b; c = -self.c; d = self.d\n",
    "        elif joint_index == 3:\n",
    "            a = -self.a; b = -self.b; c = -self.c; d = -self.d\n",
    "\n",
    "        u0_B_to_C = np.array([X - a + c*(x_0**2 + x_1**2 - x_2**2 - x_3**2) + d*(-2.0*x_0*x_3 + 2.0*x_1*x_2),\n",
    "            Y - b + c*(2.0*x_0*x_3 + 2.0*x_1*x_2) + d*(x_0**2 - x_1**2 + x_2**2 - x_3**2),\n",
    "            Z + c*(-2.0*x_0*x_2 + 2.0*x_1*x_3) + d*(2.0*x_0*x_1 + 2.0*x_2*x_3) - joint_pos - self.h_offset])\n",
    "        v0_C_to_ee = -np.array([c*(x_0**2 + x_1**2 - x_2**2 - x_3**2) + d*(-2.0*x_0*x_3 + 2.0*x_1*x_2),\n",
    "            c*(2.0*x_0*x_3 + 2.0*x_1*x_2) + d*(x_0**2 - x_1**2 + x_2**2 - x_3**2),\n",
    "            c*(-2.0*x_0*x_2 + 2.0*x_1*x_3) + d*(2.0*x_0*x_1 + 2.0*x_2*x_3)])\n",
    "        v0_B_to_base = -np.array([a, b, 0])\n",
    "\n",
    "        swivel_angle_U1 = py_ang(u0_B_to_C, v0_B_to_base)\n",
    "        swivel_angle_U2 = py_ang(v0_C_to_ee, u0_B_to_C)\n",
    "\n",
    "        return swivel_angle_U1, swivel_angle_U2\n",
    "    \n",
    "    def convert_pose_4dof_to_tf_mat_and_7var(self, pose_4dof):\n",
    "        if self.operation_mode == \"H1\":\n",
    "            t_mat = tfs.translation_matrix((pose_4dof[0], pose_4dof[1], pose_4dof[2]))\n",
    "            r_mat = tfs.rotation_matrix(pose_4dof[3], (0, 0, 1))\n",
    "            tf_mat_base_to_eeff = tfs.concatenate_matrices(t_mat, r_mat)\n",
    "        if self.operation_mode == \"H3\":\n",
    "            # break down to geometric cases\n",
    "            pass\n",
    "        else:\n",
    "            pass\n",
    "\n",
    "        X, Y, Z, x_0, x_1, x_2, x_3 = convert_tf_mat_to_7var(tf_mat_base_to_eeff)\n",
    "\n",
    "        return tf_mat_base_to_eeff, X, Y, Z, x_0, x_1, x_2, x_3\n",
    "\n",
    "def convert_tf_mat_to_7var(tf_mat):\n",
    "    quat = tfs.quaternion_from_matrix(tf_mat)\n",
    "    xyz = tfs.translation_from_matrix(tf_mat)\n",
    "    X = xyz[0]; Y = xyz[1]; Z = xyz[2] \n",
    "    x_0 = quat[3]; x_1 = quat[0]; x_2 = quat[1]; x_3 = quat[2]\n",
    "    return X, Y, Z, x_0, x_1, x_2, x_3\n",
    "\n",
    "def py_ang(v1, v2):\n",
    "        \"\"\" Returns the angle in radians between vectors 'v1' and 'v2'    \"\"\"\n",
    "        cosang = np.dot(v1, v2)\n",
    "        sinang = la.norm(np.cross(v1, v2))\n",
    "        return np.arctan2(sinang, cosang)"
   ]
  },
  {
   "cell_type": "code",
   "execution_count": 38,
   "metadata": {},
   "outputs": [
    {
     "name": "stdout",
     "output_type": "stream",
     "text": [
      "Geometric Condition:  A\n",
      "[a, b, c, d] =  [79.375, 79.375, 79.375, 32.878201513364424]  mm\n",
      "r =  85.8  mm\n",
      "Geometric Condition:  B\n",
      "[a, b, c, d] =  [79.375, 79.375, 32.87820151336443, 79.375]  mm\n",
      "r =  85.8  mm\n"
     ]
    }
   ],
   "source": [
    "# create a robot \n",
    "robot = Robot4CRU()"
   ]
  },
  {
   "cell_type": "code",
   "execution_count": 47,
   "metadata": {},
   "outputs": [
    {
     "name": "stdout",
     "output_type": "stream",
     "text": [
      "[[  0.8660254  -0.5         0.          0.       ]\n",
      " [  0.5         0.8660254   0.          0.       ]\n",
      " [  0.          0.          1.        200.       ]\n",
      " [  0.          0.          0.          1.       ]]\n",
      "IK joint pos solutions:  [281.29251528 154.76132738 281.29251528 154.76132738]\n"
     ]
    },
    {
     "data": {
      "text/plain": [
       "[281.29251528364347, 154.7613273825908, 281.29251528364347, 154.7613273825908]"
      ]
     },
     "execution_count": 47,
     "metadata": {},
     "output_type": "execute_result"
    }
   ],
   "source": [
    "# one point demo\n",
    "des_pose_4dof = [0, 0, 200, np.pi/10]\n",
    "tf_mat_base_to_eeff, X, Y, Z, x_0, x_1, x_2, x_3 = robot.convert_pose_4dof_to_tf_mat_and_7var([0, 0, 200, np.pi/6])\n",
    "print(tf_mat_base_to_eeff)\n",
    "\n",
    "robot.inverse_kinematics(des_pose_4dof)"
   ]
  },
  {
   "cell_type": "code",
   "execution_count": 40,
   "metadata": {},
   "outputs": [],
   "source": [
    "# function for scaling axes in 3D plot to be equal\n",
    "def set_axes_radius(ax, origin, radius):\n",
    "    ax.set_xlim3d([origin[0] - radius, origin[0] + radius])\n",
    "    ax.set_ylim3d([origin[1] - radius, origin[1] + radius])\n",
    "    ax.set_zlim3d([origin[2] - radius, origin[2] + radius])\n",
    "\n",
    "def set_axes_equal(ax):\n",
    "    '''Make axes of 3D plot have equal scale so that spheres appear as spheres,\n",
    "    cubes as cubes, etc..  This is one possible solution to Matplotlib's\n",
    "    ax.set_aspect('equal') and ax.axis('equal') not working for 3D.\n",
    "\n",
    "    Input\n",
    "      ax: a matplotlib axis, e.g., as output from plt.gca().\n",
    "    '''\n",
    "\n",
    "    limits = np.array([\n",
    "        ax.get_xlim3d(),\n",
    "        ax.get_ylim3d(),\n",
    "        ax.get_zlim3d(),\n",
    "    ])\n",
    "\n",
    "    origin = np.mean(limits, axis=1)\n",
    "    radius = 0.5 * np.max(np.abs(limits[:, 1] - limits[:, 0]))\n",
    "    set_axes_radius(ax, origin, radius)"
   ]
  },
  {
   "cell_type": "code",
   "execution_count": 49,
   "metadata": {},
   "outputs": [
    {
     "name": "stdout",
     "output_type": "stream",
     "text": [
      "IK joint pos solutions:  [204.19914275  35.80085725 158.85717207  81.14282793]\n",
      "IK joint pos solutions:  [204.53003212  36.26996788 159.54835438  81.25164562]\n",
      "IK joint pos solutions:  [204.72406537  36.87593463 160.80219804  80.79780196]\n",
      "IK joint pos solutions:  [204.7853293   37.6146707  162.56378024  79.83621976]\n",
      "IK joint pos solutions:  [204.7206054  38.4793946 164.7535065  78.4464935]\n",
      "IK joint pos solutions:  [204.53932202  39.46067798 167.27957242  76.72042758]\n",
      "IK joint pos solutions:  [204.25348065  40.54651935 170.04846734  74.75153266]\n",
      "IK joint pos solutions:  [203.87754994  41.72245006 172.97185374  72.62814626]\n",
      "IK joint pos solutions:  [203.42831835  42.97168165 175.9700398   70.4299602 ]\n",
      "IK joint pos solutions:  [202.92469496  44.27530504 178.97307299  68.22692701]\n",
      "IK joint pos solutions:  [202.38744597  45.61255403 181.9204953   66.0795047 ]\n",
      "IK joint pos solutions:  [201.8388542   46.9611458  184.76050314  64.03949686]\n",
      "IK joint pos solutions:  [201.30228954  48.29771046 187.44894613  62.15105387]\n",
      "IK joint pos solutions:  [200.80168164  49.59831836 189.94837947  60.45162053]\n",
      "IK joint pos solutions:  [200.36089269  50.83910731 192.22725503  58.97274497]\n",
      "IK joint pos solutions:  [200.00299785  51.99700215 194.2592695   57.7407305 ]\n",
      "IK joint pos solutions:  [199.74949439  53.05050561 196.02285852  56.77714148]\n",
      "IK joint pos solutions:  [199.61947608  53.98052392 197.50081496  56.09918504]\n",
      "IK joint pos solutions:  [199.62882452  54.77117548 198.68000912  55.71999088]\n",
      "IK joint pos solutions:  [199.7894803  55.4105197 199.5511911  55.6488089]\n",
      "IK joint pos solutions:  [200.10886028  55.89113972 200.10886028  55.89113972]\n",
      "IK joint pos solutions:  [200.5894803  56.2105197 200.3511911  56.4488089]\n",
      "IK joint pos solutions:  [201.22882452  56.37117548 200.28000912  57.31999088]\n",
      "IK joint pos solutions:  [202.01947608  56.38052392 199.90081496  58.49918504]\n",
      "IK joint pos solutions:  [202.94949439  56.25050561 199.22285852  59.97714148]\n",
      "IK joint pos solutions:  [204.00299785  55.99700215 198.2592695   61.7407305 ]\n",
      "IK joint pos solutions:  [205.16089269  55.63910731 197.02725503  63.77274497]\n",
      "IK joint pos solutions:  [206.40168164  55.19831836 195.54837947  66.05162053]\n",
      "IK joint pos solutions:  [207.70228954  54.69771046 193.84894613  68.55105387]\n",
      "IK joint pos solutions:  [209.0388542   54.1611458  191.96050314  71.23949686]\n",
      "IK joint pos solutions:  [210.38744597  53.61255403 189.9204953   74.0795047 ]\n",
      "IK joint pos solutions:  [211.72469496  53.07530504 187.77307299  77.02692701]\n",
      "IK joint pos solutions:  [213.02831835  52.57168165 185.5700398   80.0299602 ]\n",
      "IK joint pos solutions:  [214.27754994  52.12245006 183.37185374  83.02814626]\n",
      "IK joint pos solutions:  [215.45348065  51.74651935 181.24846734  85.95153266]\n",
      "IK joint pos solutions:  [216.53932202  51.46067798 179.27957242  88.72042758]\n",
      "IK joint pos solutions:  [217.5206054  51.2793946 177.5535065  91.2464935]\n",
      "IK joint pos solutions:  [218.3853293   51.2146707  176.16378024  93.43621976]\n",
      "IK joint pos solutions:  [219.12406537  51.27593463 175.20219804  95.19780196]\n",
      "IK joint pos solutions:  [219.73003212  51.46996788 174.74835438  96.45164562]\n",
      "IK joint pos solutions:  [220.19914275  51.80085725 174.85717207  97.14282793]\n",
      "IK joint pos solutions:  [220.53003212  52.26996788 175.54835438  97.25164562]\n",
      "IK joint pos solutions:  [220.72406537  52.87593463 176.80219804  96.79780196]\n",
      "IK joint pos solutions:  [220.7853293   53.6146707  178.56378024  95.83621976]\n",
      "IK joint pos solutions:  [220.7206054  54.4793946 180.7535065  94.4464935]\n",
      "IK joint pos solutions:  [220.53932202  55.46067798 183.27957242  92.72042758]\n",
      "IK joint pos solutions:  [220.25348065  56.54651935 186.04846734  90.75153266]\n",
      "IK joint pos solutions:  [219.87754994  57.72245006 188.97185374  88.62814626]\n",
      "IK joint pos solutions:  [219.42831835  58.97168165 191.9700398   86.4299602 ]\n",
      "IK joint pos solutions:  [218.92469496  60.27530504 194.97307299  84.22692701]\n",
      "IK joint pos solutions:  [218.38744597  61.61255403 197.9204953   82.0795047 ]\n",
      "IK joint pos solutions:  [217.8388542   62.9611458  200.76050314  80.03949686]\n",
      "IK joint pos solutions:  [217.30228954  64.29771046 203.44894613  78.15105387]\n",
      "IK joint pos solutions:  [216.80168164  65.59831836 205.94837947  76.45162053]\n",
      "IK joint pos solutions:  [216.36089269  66.83910731 208.22725503  74.97274497]\n",
      "IK joint pos solutions:  [216.00299785  67.99700215 210.2592695   73.7407305 ]\n",
      "IK joint pos solutions:  [215.74949439  69.05050561 212.02285852  72.77714148]\n",
      "IK joint pos solutions:  [215.61947608  69.98052392 213.50081496  72.09918504]\n",
      "IK joint pos solutions:  [215.62882452  70.77117548 214.68000912  71.71999088]\n",
      "IK joint pos solutions:  [215.7894803  71.4105197 215.5511911  71.6488089]\n",
      "IK joint pos solutions:  [216.10886028  71.89113972 216.10886028  71.89113972]\n",
      "IK joint pos solutions:  [216.5894803  72.2105197 216.3511911  72.4488089]\n",
      "IK joint pos solutions:  [217.22882452  72.37117548 216.28000912  73.31999088]\n",
      "IK joint pos solutions:  [218.01947608  72.38052392 215.90081496  74.49918504]\n",
      "IK joint pos solutions:  [218.94949439  72.25050561 215.22285852  75.97714148]\n",
      "IK joint pos solutions:  [220.00299785  71.99700215 214.2592695   77.7407305 ]\n",
      "IK joint pos solutions:  [221.16089269  71.63910731 213.02725503  79.77274497]\n",
      "IK joint pos solutions:  [222.40168164  71.19831836 211.54837947  82.05162053]\n",
      "IK joint pos solutions:  [223.70228954  70.69771046 209.84894613  84.55105387]\n",
      "IK joint pos solutions:  [225.0388542   70.1611458  207.96050314  87.23949686]\n",
      "IK joint pos solutions:  [226.38744597  69.61255403 205.9204953   90.0795047 ]\n",
      "IK joint pos solutions:  [227.72469496  69.07530504 203.77307299  93.02692701]\n",
      "IK joint pos solutions:  [229.02831835  68.57168165 201.5700398   96.0299602 ]\n",
      "IK joint pos solutions:  [230.27754994  68.12245006 199.37185374  99.02814626]\n",
      "IK joint pos solutions:  [231.45348065  67.74651935 197.24846734 101.95153266]\n",
      "IK joint pos solutions:  [232.53932202  67.46067798 195.27957242 104.72042758]\n",
      "IK joint pos solutions:  [233.5206054  67.2793946 193.5535065 107.2464935]\n",
      "IK joint pos solutions:  [234.3853293   67.2146707  192.16378024 109.43621976]\n",
      "IK joint pos solutions:  [235.12406537  67.27593463 191.20219804 111.19780196]\n",
      "IK joint pos solutions:  [235.73003212  67.46996788 190.74835438 112.45164562]\n",
      "IK joint pos solutions:  [236.19914275  67.80085725 190.85717207 113.14282793]\n",
      "IK joint pos solutions:  [236.53003212  68.26996788 191.54835438 113.25164562]\n",
      "IK joint pos solutions:  [236.72406537  68.87593463 192.80219804 112.79780196]\n",
      "IK joint pos solutions:  [236.7853293   69.6146707  194.56378024 111.83621976]\n",
      "IK joint pos solutions:  [236.7206054  70.4793946 196.7535065 110.4464935]\n",
      "IK joint pos solutions:  [236.53932202  71.46067798 199.27957242 108.72042758]\n",
      "IK joint pos solutions:  [236.25348065  72.54651935 202.04846734 106.75153266]\n",
      "IK joint pos solutions:  [235.87754994  73.72245006 204.97185374 104.62814626]\n",
      "IK joint pos solutions:  [235.42831835  74.97168165 207.9700398  102.4299602 ]\n",
      "IK joint pos solutions:  [234.92469496  76.27530504 210.97307299 100.22692701]\n",
      "IK joint pos solutions:  [234.38744597  77.61255403 213.9204953   98.0795047 ]\n",
      "IK joint pos solutions:  [233.8388542   78.9611458  216.76050314  96.03949686]\n",
      "IK joint pos solutions:  [233.30228954  80.29771046 219.44894613  94.15105387]\n",
      "IK joint pos solutions:  [232.80168164  81.59831836 221.94837947  92.45162053]\n",
      "IK joint pos solutions:  [232.36089269  82.83910731 224.22725503  90.97274497]\n",
      "IK joint pos solutions:  [232.00299785  83.99700215 226.2592695   89.7407305 ]\n",
      "IK joint pos solutions:  [231.74949439  85.05050561 228.02285852  88.77714148]\n",
      "IK joint pos solutions:  [231.61947608  85.98052392 229.50081496  88.09918504]\n",
      "IK joint pos solutions:  [231.62882452  86.77117548 230.68000912  87.71999088]\n",
      "IK joint pos solutions:  [231.7894803  87.4105197 231.5511911  87.6488089]\n"
     ]
    }
   ],
   "source": [
    "# Trajectory\n",
    "dt = 0.1\n",
    "tt = np.arange(0, 10, dt)\n",
    "Xx = 15.0 + 15.0*np.cos(0.5 * np.pi * tt)\n",
    "Yy = 15.0*np.sin(0.5 * np.pi * tt)\n",
    "Zz = 120.0 + 4 * tt\n",
    "Phi = np.zeros(len(tt))\n",
    "\n",
    "# Solve for trajectory \n",
    "Hh = robot.joint_pos_range[1]/2.0*np.ones((4, len(tt)))\n",
    "TFtf = np.zeros((len(tt),4,4))\n",
    "\n",
    "for i in range(len(tt)):\n",
    "    des_pose_4dof = [Xx[i], Yy[i], Zz[i], Phi[i]]\n",
    "    Hh[:,i] = robot.inverse_kinematics(des_pose_4dof)\n",
    "    tf_mat_base_to_eeff, X, Y, Z, x_0, x_1, x_2, x_3 = robot.convert_pose_4dof_to_tf_mat_and_7var(des_pose_4dof)\n",
    "    TFtf[i,:,:] = tf_mat_base_to_eeff\n"
   ]
  },
  {
   "cell_type": "code",
   "execution_count": 50,
   "metadata": {},
   "outputs": [
    {
     "data": {
      "image/png": "[encoded data removed]",
      "text/plain": [
       "<Figure size 432x288 with 1 Axes>"
      ]
     },
     "metadata": {
      "needs_background": "light"
     },
     "output_type": "display_data"
    }
   ],
   "source": [
    "fig = plt.figure()\n",
    "ax = fig.add_axes([0,0,1,1])\n",
    "ax.plot(tt, Hh[0,:])\n",
    "ax.plot(tt, Hh[1,:])\n",
    "ax.plot(tt, Hh[2,:])\n",
    "ax.plot(tt, Hh[3,:])\n",
    "plt.show()"
   ]
  },
  {
   "cell_type": "code",
   "execution_count": 51,
   "metadata": {},
   "outputs": [
    {
     "data": {
      "application/vnd.jupyter.widget-view+json": {
       "model_id": "48a6ec4340de49788d91680f0dc33410",
       "version_major": 2,
       "version_minor": 0
      },
      "text/plain": [
       "interactive(children=(IntSlider(value=49, description='u', max=99), Output()), _dom_classes=('widget-interact'…"
      ]
     },
     "metadata": {},
     "output_type": "display_data"
    }
   ],
   "source": [
    "# https://ipywidgets.readthedocs.io/en/latest/examples/Using%20Interact.html\n",
    "#from __future__ import print_function \n",
    "from ipywidgets import interact, interactive, fixed, interact_manual\n",
    "import ipywidgets as widgets\n",
    "\n",
    "def drawRobot(robot, ax, u):\n",
    "    # plot robot\n",
    "    a = robot.a\n",
    "    b = robot.b\n",
    "    c = robot.c\n",
    "    d = robot.d\n",
    "    Xbase = np.array([a,-a,-a, a, a])/2.0\n",
    "    Ybase = np.array([b, b, -b, -b, b])/2.0\n",
    "    Zbase_top = np.ones(5)*robot.joint_pos_range[1]\n",
    "     \n",
    "    # draw base frame\n",
    "    ax.plot(Xbase,Ybase, 'blue')\n",
    "    ax.plot(Xbase,Ybase,Zbase_top, 'blue')\n",
    "    ax.plot(np.array([a,a])/2.0,np.array([-b,-b])/2.0,robot.joint_pos_range, 'blue')\n",
    "    ax.plot(np.array([a,a])/2.0,np.array([b,b])/2.0,robot.joint_pos_range, 'blue')\n",
    "    ax.plot(np.array([-a,-a])/2.0,np.array([b,b])/2.0,robot.joint_pos_range, 'blue')\n",
    "    ax.plot(np.array([-a,-a])/2.0,np.array([-b,-b])/2.0,robot.joint_pos_range, 'blue')\n",
    "    \n",
    "    # draw rods\n",
    "    B_loc = np.transpose(np.array([[c/2.0, -d/2.0, 0 ,1],[c/2.0, d/2.0, 0 ,1], [-c/2.0, d/2.0, 0 ,1], [-c/2.0, -d/2.0, 0 ,1]]))\n",
    "    B_abs = np.dot(TFtf[u,:,:], B_loc)\n",
    "    ax.plot(np.array([a/2.0, B_abs[0,0]]),np.array([-b/2.0, B_abs[1,0]]), np.array([Hh[0,u], B_abs[2,0]]), 'green')\n",
    "    ax.plot(np.array([a/2.0, B_abs[0,1]]),np.array([b/2.0, B_abs[1,1]]), np.array([Hh[1,u], B_abs[2,1]]), 'green')\n",
    "    ax.plot(np.array([-a/2.0, B_abs[0,2]]),np.array([b/2.0, B_abs[1,2]]), np.array([Hh[2,u], B_abs[2,2]]), 'green')\n",
    "    ax.plot(np.array([-a/2.0, B_abs[0,3]]),np.array([-b/2.0, B_abs[1,3]]), np.array([Hh[3,u], B_abs[2,3]]), 'green')\n",
    "    \n",
    "    # draw ee frame\n",
    "    ax.plot(np.append(B_abs[0,:], B_abs[0,0]), np.append(B_abs[1,:],B_abs[1,0]), np.append(B_abs[2,:], B_abs[2,0]), 'red')\n",
    "    \n",
    "    # decorations\n",
    "    ax.set_xlabel('X (m)')\n",
    "    ax.set_ylabel('Y (m)')\n",
    "    ax.set_zlabel('Z (m)')\n",
    "\n",
    "def traj(u):\n",
    "    #plt.ion() # don't need to use plt.show()\n",
    "    t = tt[u]\n",
    "    X = 15.0 + 15.0*np.cos(0.5 * np.pi * t)\n",
    "    Y = 15.0*np.sin(0.5 * np.pi * t)\n",
    "    Z = 120.0 + 4 * t\n",
    "    \n",
    "    fig = plt.figure()\n",
    "    ax = fig.gca(projection='3d')\n",
    "    ax.view_init(45, 45)\n",
    "    ax.plot(Xx, Yy, Zz, label='des traj')\n",
    "    ax.scatter(X, Y, Z, label='des pos')\n",
    "    \n",
    "    # manually set joint position of the robot\n",
    "    robot.joint_pos = Hh[:,u]\n",
    "    \n",
    "    # draw robot\n",
    "    drawRobot(robot, ax, u)\n",
    "    set_axes_equal(ax)\n",
    "    \n",
    "    plt.show() \n",
    "    print(\"t =\", t, \" sec\")\n",
    "\n",
    "interact(traj, u=(0, len(tt)-1));\n",
    "    "
   ]
  },
  {
   "cell_type": "markdown",
   "metadata": {},
   "source": [
    "# TO DO...\n",
    "1. Add interface for choosing operation mode switching at  and geometric condition \n",
    "2. choose inverse kinematic solution cases corresponding to sigularity for each mode\n",
    "3. Add plot of cureent inverse kinematic solution (and potential trajectory when switching modes)"
   ]
  }
 ],
 "metadata": {
  "kernelspec": {
   "display_name": "Python 3",
   "language": "python",
   "name": "python3"
  },
  "language_info": {
   "codemirror_mode": {
    "name": "ipython",
    "version": 3
   },
   "file_extension": ".py",
   "mimetype": "text/x-python",
   "name": "python",
   "nbconvert_exporter": "python",
   "pygments_lexer": "ipython3",
   "version": "3.7.4"
  }
 },
 "nbformat": 4,
 "nbformat_minor": 2
}
