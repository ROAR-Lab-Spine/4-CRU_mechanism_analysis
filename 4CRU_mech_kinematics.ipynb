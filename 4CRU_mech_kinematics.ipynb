{
 "cells": [
  {
   "cell_type": "markdown",
   "metadata": {},
   "source": [
    "# 4-CRU Mechanism Kinematic Calculation Handbook"
   ]
  },
  {
   "cell_type": "code",
   "execution_count": 84,
   "metadata": {},
   "outputs": [
    {
     "data": {
      "text/plain": [
       "['/home/chawinoph/jupyter_notebook_projects/4-CRU_mechanism_handbook',\n",
       " '',\n",
       " '/home/chawinoph/ROS_projects/4-CRU_mechanism_ws/devel/lib/python2.7/dist-packages',\n",
       " '/opt/ros/kinetic/lib/python2.7/dist-packages',\n",
       " '/home/chawinoph/anaconda3/lib/python37.zip',\n",
       " '/home/chawinoph/anaconda3/lib/python3.7',\n",
       " '/home/chawinoph/anaconda3/lib/python3.7/lib-dynload',\n",
       " '/home/chawinoph/anaconda3/lib/python3.7/site-packages',\n",
       " '/home/chawinoph/anaconda3/lib/python3.7/site-packages/IPython/extensions',\n",
       " '/home/chawinoph/.ipython']"
      ]
     },
     "execution_count": 84,
     "metadata": {},
     "output_type": "execute_result"
    }
   ],
   "source": [
    "from __future__ import print_function\n",
    "import numpy as np\n",
    "import numpy.matlib\n",
    "import numpy.linalg as la\n",
    "import math\n",
    "from sympy import * # symbolic calculation for IK\n",
    "#import transformations.py as tfs \n",
    "import transformations as tfs\n",
    "from mpl_toolkits.mplot3d import Axes3D  \n",
    "import matplotlib.pyplot as plt\n",
    "\n",
    "# check the environment and directory of the notebook\n",
    "import sys\n",
    "sys.path"
   ]
  },
  {
   "cell_type": "markdown",
   "metadata": {},
   "source": [
    "## Important Notes\n",
    "1. This notebook must be run in conda environment (python 3 kernel)\n",
    "2. Always put transformations.py in the same directory as this notebook\n",
    "\n",
    "## Jupyter Notebook Tips and Tricks\n",
    "1. https://www.dataquest.io/blog/jupyter-notebook-tips-tricks-shortcuts/\n",
    "2. https://hub.packtpub.com/basics-jupyter-notebook-python/\n",
    "3. Installing Python Kernel https://ipython.readthedocs.io/en/latest/install/kernel_install.html\n",
    "4. Update Python 3.5 in Ubuntu 16.04 to 3.6+ http://ubuntuhandbook.org/index.php/2017/07/install-python-3-6-1-in-ubuntu-16-04-lts/\n",
    "\n",
    "## Notes on [Transformation.py](https://github.com/ROAR-Lab-Spine/geometry/blob/melodic-devel/tf/src/tf/transformations.py)\n",
    "\n",
    "\n",
    "1. Quaternions $q = ix+jy+kz+w$ are represented as $[x, y, z, w ]$= $[x_1, x_2, x_3, x_0]$.\n",
    "\n",
    "## Notes on [SymPy’s documentation](https://docs.sympy.org/latest/index.html)\n",
    "\n",
    "1. [Matrix Functions](https://docs.sympy.org/latest/modules/matrices/common.html?highlight=transpose#sympy.matrices.common.MatrixCommon.transpose)\n",
    "2. [Matrix Operations](https://docs.sympy.org/latest/modules/matrices/matrices.html?highlight=matrix%20operation)\n",
    "3. [Polynomial and Groebner bases¶](https://docs.sympy.org/latest/modules/polys/basics.html?highlight=polynomial%20solve)\n",
    "4. Primary Decomposition\n",
    "\n",
    "## Notes on SINGULAR\n",
    "1. [Related Publications](https://www.singular.uni-kl.de/index.php/publications/singular-related-publications.html)"
   ]
  },
  {
   "cell_type": "code",
   "execution_count": 2,
   "metadata": {},
   "outputs": [
    {
     "name": "stdout",
     "output_type": "stream",
     "text": [
      "[0. 0. 0. 1.]\n",
      "[0.  0.  0.1]\n"
     ]
    }
   ],
   "source": [
    "tf_init = tfs.identity_matrix()\n",
    "# print tf_init\n",
    "des_quat = tfs.quaternion_about_axis(0, (0, 0, 1))\n",
    "des_xyz = np.array([0,0,0.1])\n",
    "print(des_quat)\n",
    "print(des_xyz)"
   ]
  },
  {
   "cell_type": "code",
   "execution_count": 3,
   "metadata": {},
   "outputs": [],
   "source": [
    "# Set up Symbolic variables\n",
    "X, Y, Z = symbols('X, Y, Z')\n",
    "x_0, x_1, x_2, x_3 = symbols('x_0, x_1, x_2, x_3')\n",
    "a, b, c, d = symbols('a, b, c, d')\n",
    "h_1, h_2, h_3, h_4 = symbols('h_1, h_2, h_3, h_4')\n",
    "r = symbols('r')"
   ]
  },
  {
   "cell_type": "code",
   "execution_count": 4,
   "metadata": {},
   "outputs": [],
   "source": [
    "# Position of the C joint with respect to the base frame\n",
    "r0_B1 = Matrix([a, -b, h_1, 1])\n",
    "r1_C1 = Matrix([c, -d, 0, 1])\n",
    "\n",
    "r0_B2 = Matrix([a, b, h_2, 1])\n",
    "r1_C2 = Matrix([c, d, 0, 1])\n",
    "\n",
    "r0_B3 = Matrix([-a, b, h_3, 1])\n",
    "r1_C3 = Matrix([-c, d, 0, 1])\n",
    "\n",
    "r0_B4 = Matrix([-a, -b, h_4, 1])\n",
    "r1_C4 = Matrix([-c, -d, 0, 1])"
   ]
  },
  {
   "cell_type": "code",
   "execution_count": 5,
   "metadata": {},
   "outputs": [
    {
     "data": {
      "text/latex": [
       "$\\displaystyle \\left[\\begin{matrix}x_{0}^{2} + x_{1}^{2} - x_{2}^{2} - x_{3}^{2} & - 2.0 x_{0} x_{3} + 2.0 x_{1} x_{2} & 2.0 x_{0} x_{2} + 2.0 x_{1} x_{3} & X\\\\2.0 x_{0} x_{3} + 2.0 x_{1} x_{2} & x_{0}^{2} - x_{1}^{2} + x_{2}^{2} - x_{3}^{2} & - 2.0 x_{0} x_{1} + 2.0 x_{2} x_{3} & Y\\\\- 2.0 x_{0} x_{2} + 2.0 x_{1} x_{3} & 2.0 x_{0} x_{1} + 2.0 x_{2} x_{3} & x_{0}^{2} - x_{1}^{2} - x_{2}^{2} + x_{3}^{2} & Z\\\\0 & 0 & 0 & 1.0\\end{matrix}\\right]$"
      ],
      "text/plain": [
       "Matrix([\n",
       "[x_0**2 + x_1**2 - x_2**2 - x_3**2,        -2.0*x_0*x_3 + 2.0*x_1*x_2,         2.0*x_0*x_2 + 2.0*x_1*x_3,   X],\n",
       "[        2.0*x_0*x_3 + 2.0*x_1*x_2, x_0**2 - x_1**2 + x_2**2 - x_3**2,        -2.0*x_0*x_1 + 2.0*x_2*x_3,   Y],\n",
       "[       -2.0*x_0*x_2 + 2.0*x_1*x_3,         2.0*x_0*x_1 + 2.0*x_2*x_3, x_0**2 - x_1**2 - x_2**2 + x_3**2,   Z],\n",
       "[                                0,                                 0,                                 0, 1.0]])"
      ]
     },
     "execution_count": 5,
     "metadata": {},
     "output_type": "execute_result"
    }
   ],
   "source": [
    "R0_1 = Matrix([[x_0**2 + x_1**2 - x_2**2 - x_3**2, 2.0*(x_1*x_2 - x_0*x_3), 2.0*(x_0*x_2 + x_1*x_3)],\n",
    "                [2.0*(x_0*x_3 + x_1*x_2),x_0**2 - x_1**2 + x_2**2 - x_3**2,2.0*(x_2*x_3 - x_0*x_1)],\n",
    "                [2.0*(x_1*x_3 - x_0*x_2),2.0*(x_0*x_1 + x_2*x_3),x_0**2 - x_1**2 - x_2**2 + x_3**2]])\n",
    "r0_1 = Matrix([X, Y, Z, 1.0])  \n",
    "T0_1 = R0_1.col_join(zeros(1,3))\n",
    "T0_1 = T0_1.row_join(r0_1)\n",
    "T0_1"
   ]
  },
  {
   "cell_type": "code",
   "execution_count": 6,
   "metadata": {},
   "outputs": [],
   "source": [
    "# Vector along the U-U Rods\n",
    "u0_1 = T0_1*r1_C1 - r0_B1\n",
    "u0_2 = T0_1*r1_C2 - r0_B2\n",
    "u0_3 = T0_1*r1_C3 - r0_B3\n",
    "u0_4 = T0_1*r1_C4 - r0_B4"
   ]
  },
  {
   "cell_type": "code",
   "execution_count": 7,
   "metadata": {},
   "outputs": [],
   "source": [
    "r0_ee_to_C2 = T0_1*r1_C2\n",
    "r0_ee_to_C2 = r0_ee_to_C2.subs([(X, 0),(Y, 0),(Z, 0)])"
   ]
  },
  {
   "cell_type": "code",
   "execution_count": 8,
   "metadata": {},
   "outputs": [],
   "source": [
    "# Scalar Triple Product \n",
    "f_5 = simplify(expand(u0_1.dot(u0_1))) - r**2\n",
    "f_6 = simplify(expand(u0_2.dot(u0_2))) - r**2\n",
    "f_7 = simplify(expand(u0_3.dot(u0_3))) - r**2\n",
    "f_8 = simplify(expand(u0_4.dot(u0_4))) - r**2\n",
    "f_9 = x_0**2+x_1**2+x_2**2+x_3**2-1.0\n",
    "\n",
    "# Substitute Additional Mode Geometric Condition A\n",
    "f_5A = f_5.subs([(c, a),(x_2, 0),(x_3, 0),(X,0)],simultaneous=True)\n",
    "f_6A = f_6.subs([(c, a),(x_2, 0),(x_3, 0),(X,0)],simultaneous=True)\n",
    "f_7A = f_7.subs([(c, a),(x_2, 0),(x_3, 0),(X,0)],simultaneous=True)\n",
    "f_8A = f_8.subs([(c, a),(x_2, 0),(x_3, 0),(X,0)],simultaneous=True)\n",
    "f_9A = f_9.subs([(c, a),(x_2, 0),(x_3, 0),(X,0)],simultaneous=True)"
   ]
  },
  {
   "cell_type": "code",
   "execution_count": 9,
   "metadata": {},
   "outputs": [
    {
     "data": {
      "text/latex": [
       "$\\displaystyle \\left(x_{0}^{2} + x_{1}^{2} - 1.0\\right)^{2}$"
      ],
      "text/plain": [
       "(x_0**2 + x_1**2 - 1.0)**2"
      ]
     },
     "execution_count": 9,
     "metadata": {},
     "output_type": "execute_result"
    }
   ],
   "source": [
    "f_9A_sq = f_9A*f_9A\n",
    "f_9A_sq_expd = expand(f_9A_sq)\n",
    "f_9A_sq"
   ]
  },
  {
   "cell_type": "code",
   "execution_count": 10,
   "metadata": {},
   "outputs": [
    {
     "data": {
      "text/latex": [
       "$\\displaystyle x_{0}^{4} + 2 x_{0}^{2} x_{1}^{2} - 2.0 x_{0}^{2} + x_{1}^{4} - 2.0 x_{1}^{2} + 1.0$"
      ],
      "text/plain": [
       "x_0**4 + 2*x_0**2*x_1**2 - 2.0*x_0**2 + x_1**4 - 2.0*x_1**2 + 1.0"
      ]
     },
     "execution_count": 10,
     "metadata": {},
     "output_type": "execute_result"
    }
   ],
   "source": [
    "f_9A_sq_expd.subs(-2.0*x_0**2-2.0*x_1**2, -2)"
   ]
  },
  {
   "cell_type": "code",
   "execution_count": 11,
   "metadata": {},
   "outputs": [
    {
     "data": {
      "text/latex": [
       "$\\displaystyle x_{0}^{4} + 2 x_{0}^{2} x_{1}^{2} - 2.0 x_{0}^{2} + x_{1}^{4} - 2.0 x_{1}^{2} + 1.0$"
      ],
      "text/plain": [
       "x_0**4 + 2*x_0**2*x_1**2 - 2.0*x_0**2 + x_1**4 - 2.0*x_1**2 + 1.0"
      ]
     },
     "execution_count": 11,
     "metadata": {},
     "output_type": "execute_result"
    }
   ],
   "source": [
    "f_9A_sq_expd"
   ]
  },
  {
   "cell_type": "code",
   "execution_count": 12,
   "metadata": {},
   "outputs": [
    {
     "data": {
      "text/latex": [
       "$\\displaystyle Y^{2} + Y \\left(2 b - 2 d x_{0}^{2} + 2 d x_{1}^{2}\\right) + Z^{2} + Z \\left(- 4.0 d x_{0} x_{1} - 2 h_{1}\\right) + a^{2} \\left(x_{0}^{4} + 2 x_{0}^{2} x_{1}^{2} - 2 x_{0}^{2} + x_{1}^{4} - 2 x_{1}^{2} + 1\\right) + b^{2} + b \\left(- 2 d x_{0}^{2} + 2 d x_{1}^{2}\\right) + d^{2} \\left(x_{0}^{4} + 2.0 x_{0}^{2} x_{1}^{2} + x_{1}^{4}\\right) + 4.0 d h_{1} x_{0} x_{1} + h_{1}^{2} - r^{2}$"
      ],
      "text/plain": [
       "Y**2 + Y*(2*b - 2*d*x_0**2 + 2*d*x_1**2) + Z**2 + Z*(-4.0*d*x_0*x_1 - 2*h_1) + a**2*(x_0**4 + 2*x_0**2*x_1**2 - 2*x_0**2 + x_1**4 - 2*x_1**2 + 1) + b**2 + b*(-2*d*x_0**2 + 2*d*x_1**2) + d**2*(x_0**4 + 2.0*x_0**2*x_1**2 + x_1**4) + 4.0*d*h_1*x_0*x_1 + h_1**2 - r**2"
      ]
     },
     "execution_count": 12,
     "metadata": {},
     "output_type": "execute_result"
    }
   ],
   "source": [
    "f_5A = collect(f_5A, (X,Y,Z,r,a,b,c,d))\n",
    "f_5A"
   ]
  },
  {
   "cell_type": "code",
   "execution_count": 13,
   "metadata": {},
   "outputs": [
    {
     "data": {
      "text/latex": [
       "$\\displaystyle Y^{2} + Y \\left(2 b - 2 d x_{0}^{2} + 2 d x_{1}^{2}\\right) + Z^{2} + Z \\left(- 4.0 d x_{0} x_{1} - 2 h_{1}\\right) + b^{2} + b \\left(- 2 d x_{0}^{2} + 2 d x_{1}^{2}\\right) + d^{2} + 4.0 d h_{1} x_{0} x_{1} + h_{1}^{2} - r^{2}$"
      ],
      "text/plain": [
       "Y**2 + Y*(2*b - 2*d*x_0**2 + 2*d*x_1**2) + Z**2 + Z*(-4.0*d*x_0*x_1 - 2*h_1) + b**2 + b*(-2*d*x_0**2 + 2*d*x_1**2) + d**2 + 4.0*d*h_1*x_0*x_1 + h_1**2 - r**2"
      ]
     },
     "execution_count": 13,
     "metadata": {},
     "output_type": "execute_result"
    }
   ],
   "source": [
    "# eliminate the quaternion identity\n",
    "f_5A = f_5A.subs(x_0**4+2.0*x_0**2*x_1**2+x_1**4, 1)\n",
    "f_5A = f_5A.subs(f_9A_sq_expd-1.0,-1.0)\n",
    "f_5A"
   ]
  },
  {
   "cell_type": "code",
   "execution_count": 14,
   "metadata": {},
   "outputs": [
    {
     "data": {
      "text/latex": [
       "$\\displaystyle Y^{2} + Y \\left(- 2 b + 2 d x_{0}^{2} - 2 d x_{1}^{2}\\right) + Z^{2} + Z \\left(4.0 d x_{0} x_{1} - 2 h_{2}\\right) + b^{2} + b \\left(- 2 d x_{0}^{2} + 2 d x_{1}^{2}\\right) + d^{2} - 4.0 d h_{2} x_{0} x_{1} + h_{2}^{2} - r^{2}$"
      ],
      "text/plain": [
       "Y**2 + Y*(-2*b + 2*d*x_0**2 - 2*d*x_1**2) + Z**2 + Z*(4.0*d*x_0*x_1 - 2*h_2) + b**2 + b*(-2*d*x_0**2 + 2*d*x_1**2) + d**2 - 4.0*d*h_2*x_0*x_1 + h_2**2 - r**2"
      ]
     },
     "execution_count": 14,
     "metadata": {},
     "output_type": "execute_result"
    }
   ],
   "source": [
    "f_6A = collect(f_6A, (X,Y,Z,r,a,b,c,d))\n",
    "f_6A = f_6A.subs(x_0**4+2.0*x_0**2*x_1**2+x_1**4, 1)\n",
    "f_6A = f_6A.subs(f_9A_sq_expd-1.0,-1.0)\n",
    "f_6A"
   ]
  },
  {
   "cell_type": "code",
   "execution_count": 15,
   "metadata": {},
   "outputs": [
    {
     "data": {
      "text/latex": [
       "$\\displaystyle Y^{2} + Y \\left(- 2 b + 2 d x_{0}^{2} - 2 d x_{1}^{2}\\right) + Z^{2} + Z \\left(4.0 d x_{0} x_{1} - 2 h_{3}\\right) + b^{2} + b \\left(- 2 d x_{0}^{2} + 2 d x_{1}^{2}\\right) + d^{2} - 4.0 d h_{3} x_{0} x_{1} + h_{3}^{2} - r^{2}$"
      ],
      "text/plain": [
       "Y**2 + Y*(-2*b + 2*d*x_0**2 - 2*d*x_1**2) + Z**2 + Z*(4.0*d*x_0*x_1 - 2*h_3) + b**2 + b*(-2*d*x_0**2 + 2*d*x_1**2) + d**2 - 4.0*d*h_3*x_0*x_1 + h_3**2 - r**2"
      ]
     },
     "execution_count": 15,
     "metadata": {},
     "output_type": "execute_result"
    }
   ],
   "source": [
    "f_7A = collect(f_7A, (X,Y,Z,r,a,b,c,d))\n",
    "f_7A = f_7A.subs(x_0**4+2.0*x_0**2*x_1**2+x_1**4, 1)\n",
    "f_7A = f_7A.subs(f_9A_sq_expd-1.0,-1.0)\n",
    "f_7A"
   ]
  },
  {
   "cell_type": "code",
   "execution_count": 16,
   "metadata": {},
   "outputs": [
    {
     "data": {
      "text/latex": [
       "$\\displaystyle Y^{2} + Y \\left(- 2 b + 2 d x_{0}^{2} - 2 d x_{1}^{2}\\right) + Z^{2} + Z \\left(4.0 d x_{0} x_{1} - 2 h_{3}\\right) + b^{2} + b \\left(- 2 d x_{0}^{2} + 2 d x_{1}^{2}\\right) + d^{2} - 4.0 d h_{3} x_{0} x_{1} + h_{3}^{2} - r^{2}$"
      ],
      "text/plain": [
       "Y**2 + Y*(-2*b + 2*d*x_0**2 - 2*d*x_1**2) + Z**2 + Z*(4.0*d*x_0*x_1 - 2*h_3) + b**2 + b*(-2*d*x_0**2 + 2*d*x_1**2) + d**2 - 4.0*d*h_3*x_0*x_1 + h_3**2 - r**2"
      ]
     },
     "execution_count": 16,
     "metadata": {},
     "output_type": "execute_result"
    }
   ],
   "source": [
    "f_8A = collect(f_8A, (X,Y,Z,r,a,b,c,d))\n",
    "f_8A = f_8A.subs(x_0**4+2.0*x_0**2*x_1**2+x_1**4, 1)\n",
    "f_8A = f_8A.subs(f_9A_sq_expd-1.0,-1.0)\n",
    "f_7A"
   ]
  },
  {
   "cell_type": "markdown",
   "metadata": {},
   "source": [
    "# Inverse Kinematics (Schoenfiles Mode)"
   ]
  },
  {
   "cell_type": "code",
   "execution_count": 17,
   "metadata": {},
   "outputs": [],
   "source": [
    "# Schonflies Mode\n",
    "# T0_1_H1 = T0_1.subs([(x_1, 0),(x_2, 0)],simultaneous=True)\n",
    "des_pose = tfs.identity_matrix()\n",
    "\n",
    "f_5_H1 = f_5.subs([(X, des_xyz[0]),\n",
    "                   (Y, des_xyz[1]),\n",
    "                   (Z, des_xyz[2]),\n",
    "                   (x_1, des_quat[0]),\n",
    "                   (x_2, des_quat[1]),\n",
    "                   (x_3, des_quat[2]),\n",
    "                   (x_0, des_quat[3])],\n",
    "                  simultaneous=True) \n",
    "h_1_sols = solve(f_5_H1, h_1)"
   ]
  },
  {
   "cell_type": "code",
   "execution_count": 18,
   "metadata": {},
   "outputs": [
    {
     "data": {
      "text/latex": [
       "$\\displaystyle Z + \\sqrt{- X^{2} + 2.0 X a - 2.0 X c x_{0}^{2} + 2.0 X c x_{3}^{2} + 4.0 X d x_{0} x_{3} - Y^{2} + 2.0 Y b - 4.0 Y c x_{0} x_{3} - 2.0 Y d x_{0}^{2} + 2.0 Y d x_{3}^{2} - a^{2} + 2.0 a c x_{0}^{2} - 2.0 a c x_{3}^{2} - 4.0 a d x_{0} x_{3} - b^{2} + 4.0 b c x_{0} x_{3} + 2.0 b d x_{0}^{2} - 2.0 b d x_{3}^{2} - c^{2} x_{0}^{4} - 2.0 c^{2} x_{0}^{2} x_{3}^{2} - c^{2} x_{3}^{4} - d^{2} x_{0}^{4} - 2.0 d^{2} x_{0}^{2} x_{3}^{2} - d^{2} x_{3}^{4} + r^{2}}$"
      ],
      "text/plain": [
       "Z + sqrt(-X**2 + 2.0*X*a - 2.0*X*c*x_0**2 + 2.0*X*c*x_3**2 + 4.0*X*d*x_0*x_3 - Y**2 + 2.0*Y*b - 4.0*Y*c*x_0*x_3 - 2.0*Y*d*x_0**2 + 2.0*Y*d*x_3**2 - a**2 + 2.0*a*c*x_0**2 - 2.0*a*c*x_3**2 - 4.0*a*d*x_0*x_3 - b**2 + 4.0*b*c*x_0*x_3 + 2.0*b*d*x_0**2 - 2.0*b*d*x_3**2 - c**2*x_0**4 - 2.0*c**2*x_0**2*x_3**2 - c**2*x_3**4 - d**2*x_0**4 - 2.0*d**2*x_0**2*x_3**2 - d**2*x_3**4 + r**2)"
      ]
     },
     "execution_count": 18,
     "metadata": {},
     "output_type": "execute_result"
    }
   ],
   "source": [
    "h_2_sols = solve(f_6, h_2)\n",
    "h_2_sols[1].subs([(x_1, 0),(x_2,0)])\n",
    "# We can change the signs of a,b,c,d corresponding to the "
   ]
  },
  {
   "cell_type": "markdown",
   "metadata": {},
   "source": [
    "# Inverse Kinematics (Additional Mode: Geometric A)"
   ]
  },
  {
   "cell_type": "code",
   "execution_count": 19,
   "metadata": {},
   "outputs": [
    {
     "data": {
      "text/latex": [
       "$\\displaystyle 4.0 \\left(1.0 h_{1} - 1.0 h_{4}\\right) \\left(- 0.5 Z + 1.0 d x_{0} x_{1} + 0.25 h_{1} + 0.25 h_{4}\\right)$"
      ],
      "text/plain": [
       "4.0*(1.0*h_1 - 1.0*h_4)*(-0.5*Z + 1.0*d*x_0*x_1 + 0.25*h_1 + 0.25*h_4)"
      ]
     },
     "execution_count": 19,
     "metadata": {},
     "output_type": "execute_result"
    }
   ],
   "source": [
    "# Additional Mode (Geometric A)\n",
    "g_1A = factor(f_5A - f_8A)\n",
    "g_1A"
   ]
  },
  {
   "cell_type": "code",
   "execution_count": 20,
   "metadata": {},
   "outputs": [
    {
     "data": {
      "text/latex": [
       "$\\displaystyle - 8.0 \\left(- 0.25 Y^{2} - 0.5 Y b + 0.5 Y d x_{0}^{2} - 0.5 Y d x_{1}^{2} - 0.25 Z^{2} + 1.0 Z d x_{0} x_{1} + 0.25 Z h_{1} + 0.25 Z h_{4} - 0.25 b^{2} + 0.5 b d x_{0}^{2} - 0.5 b d x_{1}^{2} - 0.25 d^{2} - 0.5 d h_{1} x_{0} x_{1} - 0.5 d h_{4} x_{0} x_{1} - 0.125 h_{1}^{2} - 0.125 h_{4}^{2} + 0.25 r^{2}\\right)$"
      ],
      "text/plain": [
       "-8.0*(-0.25*Y**2 - 0.5*Y*b + 0.5*Y*d*x_0**2 - 0.5*Y*d*x_1**2 - 0.25*Z**2 + 1.0*Z*d*x_0*x_1 + 0.25*Z*h_1 + 0.25*Z*h_4 - 0.25*b**2 + 0.5*b*d*x_0**2 - 0.5*b*d*x_1**2 - 0.25*d**2 - 0.5*d*h_1*x_0*x_1 - 0.5*d*h_4*x_0*x_1 - 0.125*h_1**2 - 0.125*h_4**2 + 0.25*r**2)"
      ]
     },
     "execution_count": 20,
     "metadata": {},
     "output_type": "execute_result"
    }
   ],
   "source": [
    "g_2A = factor(f_5A + f_8A)\n",
    "g_2A"
   ]
  },
  {
   "cell_type": "code",
   "execution_count": 21,
   "metadata": {},
   "outputs": [
    {
     "data": {
      "text/latex": [
       "$\\displaystyle \\left(1.0 h_{2} - 1.0 h_{3}\\right) \\left(- 2.0 Z - 4.0 d x_{0} x_{1} + 1.0 h_{2} + 1.0 h_{3}\\right)$"
      ],
      "text/plain": [
       "(1.0*h_2 - 1.0*h_3)*(-2.0*Z - 4.0*d*x_0*x_1 + 1.0*h_2 + 1.0*h_3)"
      ]
     },
     "execution_count": 21,
     "metadata": {},
     "output_type": "execute_result"
    }
   ],
   "source": [
    "g_3A = factor(f_6A - f_7A)\n",
    "g_3A = g_3A .args[1]*(g_3A.args[0]*g_3A.args[2])\n",
    "g_3A"
   ]
  },
  {
   "cell_type": "code",
   "execution_count": 22,
   "metadata": {},
   "outputs": [
    {
     "data": {
      "text/latex": [
       "$\\displaystyle 2.0 Y^{2} - 4.0 Y b + 4.0 Y d x_{0}^{2} - 4.0 Y d x_{1}^{2} + 2.0 Z^{2} + 8.0 Z d x_{0} x_{1} - 2.0 Z h_{2} - 2.0 Z h_{3} + 2.0 b^{2} - 4.0 b d x_{0}^{2} + 4.0 b d x_{1}^{2} + 2.0 d^{2} - 4.0 d h_{2} x_{0} x_{1} - 4.0 d h_{3} x_{0} x_{1} + 1.0 h_{2}^{2} + 1.0 h_{3}^{2} - 2.0 r^{2}$"
      ],
      "text/plain": [
       "2.0*Y**2 - 4.0*Y*b + 4.0*Y*d*x_0**2 - 4.0*Y*d*x_1**2 + 2.0*Z**2 + 8.0*Z*d*x_0*x_1 - 2.0*Z*h_2 - 2.0*Z*h_3 + 2.0*b**2 - 4.0*b*d*x_0**2 + 4.0*b*d*x_1**2 + 2.0*d**2 - 4.0*d*h_2*x_0*x_1 - 4.0*d*h_3*x_0*x_1 + 1.0*h_2**2 + 1.0*h_3**2 - 2.0*r**2"
      ]
     },
     "execution_count": 22,
     "metadata": {},
     "output_type": "execute_result"
    }
   ],
   "source": [
    "g_4A = expand(factor(f_6A + f_7A))\n",
    "g_4A"
   ]
  },
  {
   "cell_type": "code",
   "execution_count": 23,
   "metadata": {},
   "outputs": [
    {
     "data": {
      "text/latex": [
       "$\\displaystyle Y^{2} + 2.0 Y b - 2.0 Y d x_{0}^{2} + 2.0 Y d x_{1}^{2} + Z^{2} - 4.0 Z d x_{0} x_{1} - 2.0 Z h_{4} + b^{2} - 2.0 b d x_{0}^{2} + 2.0 b d x_{1}^{2} + d^{2} + 4.0 d h_{4} x_{0} x_{1} + h_{4}^{2} - 1.0 r^{2}$"
      ],
      "text/plain": [
       "Y**2 + 2.0*Y*b - 2.0*Y*d*x_0**2 + 2.0*Y*d*x_1**2 + Z**2 - 4.0*Z*d*x_0*x_1 - 2.0*Z*h_4 + b**2 - 2.0*b*d*x_0**2 + 2.0*b*d*x_1**2 + d**2 + 4.0*d*h_4*x_0*x_1 + h_4**2 - 1.0*r**2"
      ]
     },
     "execution_count": 23,
     "metadata": {},
     "output_type": "execute_result"
    }
   ],
   "source": [
    "# Reduce to 3 Equations \n",
    "e_1A = expand(factor(g_2A.subs(h_1, h_4)))/2\n",
    "e_1A"
   ]
  },
  {
   "cell_type": "code",
   "execution_count": 24,
   "metadata": {},
   "outputs": [
    {
     "data": {
      "text/latex": [
       "$\\displaystyle - 2.0 Z - 4.0 d x_{0} x_{1} + 1.0 h_{2} + 1.0 h_{3}$"
      ],
      "text/plain": [
       "-2.0*Z - 4.0*d*x_0*x_1 + 1.0*h_2 + 1.0*h_3"
      ]
     },
     "execution_count": 24,
     "metadata": {},
     "output_type": "execute_result"
    }
   ],
   "source": [
    "#***Choose the factor that does not lead to actuation singularity configuration\n",
    "e_2A = g_3A.args[1]\n",
    "e_2A"
   ]
  },
  {
   "cell_type": "code",
   "execution_count": 25,
   "metadata": {},
   "outputs": [
    {
     "data": {
      "text/latex": [
       "$\\displaystyle - 8.0 \\left(- 0.25 Y^{2} + 0.5 Y b - 0.5 Y d x_{0}^{2} + 0.5 Y d x_{1}^{2} - 0.25 Z^{2} - 1.0 Z d x_{0} x_{1} + 0.25 Z h_{2} + 0.25 Z h_{3} - 0.25 b^{2} + 0.5 b d x_{0}^{2} - 0.5 b d x_{1}^{2} - 0.25 d^{2} + 0.5 d h_{2} x_{0} x_{1} + 0.5 d h_{3} x_{0} x_{1} - 0.125 h_{2}^{2} - 0.125 h_{3}^{2} + 0.25 r^{2}\\right)$"
      ],
      "text/plain": [
       "-8.0*(-0.25*Y**2 + 0.5*Y*b - 0.5*Y*d*x_0**2 + 0.5*Y*d*x_1**2 - 0.25*Z**2 - 1.0*Z*d*x_0*x_1 + 0.25*Z*h_2 + 0.25*Z*h_3 - 0.25*b**2 + 0.5*b*d*x_0**2 - 0.5*b*d*x_1**2 - 0.25*d**2 + 0.5*d*h_2*x_0*x_1 + 0.5*d*h_3*x_0*x_1 - 0.125*h_2**2 - 0.125*h_3**2 + 0.25*r**2)"
      ]
     },
     "execution_count": 25,
     "metadata": {},
     "output_type": "execute_result"
    }
   ],
   "source": [
    "e_3A = g_4A\n",
    "e_3A\n",
    "factor(e_3A)"
   ]
  },
  {
   "cell_type": "code",
   "execution_count": 26,
   "metadata": {},
   "outputs": [
    {
     "data": {
      "text/latex": [
       "$\\displaystyle Z - 2.0 d x_{0} x_{1} - \\sqrt{- Y^{2} - 2.0 Y b + 2.0 Y d x_{0}^{2} - 2.0 Y d x_{1}^{2} - b^{2} + 2.0 b d x_{0}^{2} - 2.0 b d x_{1}^{2} + 4.0 d^{2} x_{0}^{2} x_{1}^{2} - d^{2} + r^{2}}$"
      ],
      "text/plain": [
       "Z - 2.0*d*x_0*x_1 - sqrt(-Y**2 - 2.0*Y*b + 2.0*Y*d*x_0**2 - 2.0*Y*d*x_1**2 - b**2 + 2.0*b*d*x_0**2 - 2.0*b*d*x_1**2 + 4.0*d**2*x_0**2*x_1**2 - d**2 + r**2)"
      ]
     },
     "execution_count": 26,
     "metadata": {},
     "output_type": "execute_result"
    }
   ],
   "source": [
    "# solve for h_4 (=h_1), h_2, and h_3\n",
    "\n",
    "# invs_kin_sols_geo_A = solve((e_1A, e_2A, e_3A), (h_2, h_3, h_4))\n",
    "# invs_kin_sols_geo_A\n",
    "\n",
    "h_1_h_4_sol = simplify(solve(e_1A, h_4))\n",
    "h_1_h_4_sol[0]"
   ]
  },
  {
   "cell_type": "code",
   "execution_count": 27,
   "metadata": {},
   "outputs": [],
   "source": [
    "# https://stackoverflow.com/questions/53092738/eliminate-a-variable-to-relate-two-functions-in-python-using-sympy\n",
    "# https://github.com/sympy/sympy/issues/2720\n",
    "d_1A = factor(e_3A.subs(h_2, solve(e_2A, h_2)[0]))\n",
    "h_3_sol = solve((d_1A,f_9A), h_3)"
   ]
  },
  {
   "cell_type": "code",
   "execution_count": 29,
   "metadata": {},
   "outputs": [
    {
     "name": "stdout",
     "output_type": "stream",
     "text": [
      "Z + 2.0*d*x_0*x_1 + sqrt(-Y**2 + 2.0*Y*b - 2.0*Y*d*x_0**2 + 2.0*Y*d*x_1**2 - b**2 + 2.0*b*d*x_0**2 - 2.0*b*d*x_1**2 + 4.0*d**2*x_0**2*x_1**2 - d**2 + r**2)\n"
     ]
    }
   ],
   "source": [
    "print(h_3_sol[1][0])"
   ]
  },
  {
   "cell_type": "code",
   "execution_count": 30,
   "metadata": {},
   "outputs": [
    {
     "data": {
      "text/latex": [
       "$\\displaystyle 1.0 Z + 2.0 d x_{0} x_{1} - \\sqrt{- Y^{2} + 2.0 Y b - 2.0 Y d x_{0}^{2} + 2.0 Y d x_{1}^{2} - b^{2} + 2.0 b d x_{0}^{2} - 2.0 b d x_{1}^{2} + 4.0 d^{2} x_{0}^{2} x_{1}^{2} - d^{2} + r^{2}}$"
      ],
      "text/plain": [
       "1.0*Z + 2.0*d*x_0*x_1 - sqrt(-Y**2 + 2.0*Y*b - 2.0*Y*d*x_0**2 + 2.0*Y*d*x_1**2 - b**2 + 2.0*b*d*x_0**2 - 2.0*b*d*x_1**2 + 4.0*d**2*x_0**2*x_1**2 - d**2 + r**2)"
      ]
     },
     "execution_count": 30,
     "metadata": {},
     "output_type": "execute_result"
    }
   ],
   "source": [
    "h_2_sol = (solve(e_2A, h_2)[0]).subs(h_3, h_3_sol[1][0])\n",
    "h_2_sol"
   ]
  },
  {
   "cell_type": "markdown",
   "metadata": {},
   "source": [
    "# Forward Kinematics (Schoenfiles Mode)"
   ]
  },
  {
   "cell_type": "code",
   "execution_count": null,
   "metadata": {},
   "outputs": [],
   "source": []
  },
  {
   "cell_type": "markdown",
   "metadata": {},
   "source": [
    "# Trajectory Simulation "
   ]
  },
  {
   "cell_type": "markdown",
   "metadata": {},
   "source": [
    "Robot Class"
   ]
  },
  {
   "cell_type": "code",
   "execution_count": 33,
   "metadata": {},
   "outputs": [],
   "source": [
    "class Robot4CRU(object):\n",
    "    \"\"\"class of Robot_4CRU\"\"\"\n",
    "    def __init__(self):\n",
    "        super(Robot4CRU, self).__init__()\n",
    "        self.set_geometric_params([0, 0, 1, 4]) # min alpha, beta = 45 deg, long ee diag length, long base diag length\n",
    "        self.operation_mode = \"H1\" # 0 = Schoenfiles, 1 = Additional, 2 = Reverse Schoenfiles\n",
    "        \n",
    "    def set_geometric_params(self, new_geometric_indcs):\n",
    "        # End-effector joint axis distribution angles (5 cases)\n",
    "        self.alphas = np.sort(np.array([np.pi/4.0, np.pi/4.0 + np.pi/8.0, np.pi/2.0, np.pi/2.0 + np.pi/8.0, np.pi/2.0 + np.pi/4.0])/2.0)\n",
    "        # Base joint axis distribution angles (2 cases)\n",
    "        self.betas = np.sort(np.array([np.pi/4.0, np.pi/4.0 + np.pi/8.0]))\n",
    "        # end effector diagonal lengths (2 cases) unit in mm\n",
    "        self.eeff_diag_lengths = np.sort(np.array([6.25/np.cos(np.pi/8)-2.0, 6.25/np.cos(np.pi/8)]))*25.4\n",
    "        # base diagonal length (5 cases) unit in mm\n",
    "        self.base_diag_lengths = np.sort(np.array([self.eeff_diag_lengths[0],\n",
    "            self.eeff_diag_lengths[1],\n",
    "            self.eeff_diag_lengths[0]*np.cos(self.alphas[1])/np.cos(self.betas[0]), \n",
    "            self.eeff_diag_lengths[1]*np.cos(self.alphas[0])/np.cos(self.betas[0]),\n",
    "            self.eeff_diag_lengths[1]*np.cos(self.alphas[1])/np.cos(self.betas[0])]))\n",
    "        # length of the UU couple (from CAD) unit in mm\n",
    "        self.r = (1.75*2 + 2.54*2)*10.0\n",
    "        self.joint_pos_range = np.array([0, 300.00])\n",
    "        self.joint_pos = np.full(4, self.joint_pos_range[1]/2.0) # home position\n",
    "        self.h_offset = 3.0*25.4 # (approx.) TODO: update from real CAD\n",
    "\n",
    "        self.geometric_indcs = new_geometric_indcs\n",
    "        self.a = self.base_diag_lengths[self.geometric_indcs[3]]/2.0*np.cos(self.betas[self.geometric_indcs[1]])\n",
    "        self.b = self.base_diag_lengths[self.geometric_indcs[3]]/2.0*np.sin(self.betas[self.geometric_indcs[1]])\n",
    "        self.c = self.eeff_diag_lengths[self.geometric_indcs[2]]/2.0*np.cos(self.alphas[self.geometric_indcs[0]])\n",
    "        self.d = self.eeff_diag_lengths[self.geometric_indcs[2]]/2.0*np.sin(self.alphas[self.geometric_indcs[0]])\n",
    "        self.update_geometric_cond()\n",
    "        \n",
    "    def update_geometric_cond(self):\n",
    "        curr_a = round(self.a, 3) # magnitude only\n",
    "        curr_b = round(self.b, 3)\n",
    "        curr_c = round(self.c, 3)\n",
    "        curr_d = round(self.d, 3)\n",
    "        if (curr_a < curr_c and curr_b > curr_d) or (curr_a > curr_c and curr_b < curr_d):\n",
    "            self.geometric_cond = \"Generic\"\n",
    "        elif curr_a == curr_c and curr_b != curr_d:\n",
    "            self.geometric_cond = \"A\"\n",
    "        elif curr_a != curr_c and curr_b == curr_d:\n",
    "            self.geometric_cond = \"B\"\n",
    "        elif curr_a == curr_c and curr_b == curr_d:\n",
    "            self.geometric_cond = \"C\"\n",
    "        else:\n",
    "            self.geometric_cond = \"Other\"\n",
    "            print(\"Additional Mode is not achievable!\")\n",
    "        print(\"Geometric Condition: \", self.geometric_cond)\n",
    "        print(\"[a, b, c, d] = \", [self.a, self.b, self.c, self.d], \" mm\")\n",
    "        print(\"r = \", self.r, \" mm\")\n",
    "        \n",
    "    def inverse_kinematics(self, des_pose_4dof):\n",
    "        reals, discriminants, has_solution = self.check_ik_feasible(des_pose_4dof)\n",
    "        all_joint_pos_sol = np.full((4, 2), self.joint_pos_range[1]/2.0) # home position as default value\n",
    "        all_swivel_angles = np.zeros((4, 2)) # indices [joint_no, U1/U2]\n",
    "        current_joint_pos = self.joint_pos\n",
    "        selected_joint_pos_sol = current_joint_pos\n",
    "        if has_solution:\n",
    "            for i in range(4):\n",
    "                for j in range(2):\n",
    "                    if j == 0:\n",
    "                        all_joint_pos_sol[i,j] = reals[i] - np.sqrt(discriminants[i]) - self.h_offset\n",
    "                    elif j == 1:\n",
    "                        all_joint_pos_sol[i,j] = reals[i] + np.sqrt(discriminants[i]) - self.h_offset\n",
    "                    swivel_angle_U1, swivel_angle_U2 = self.calc_swivel_angle(des_pose_4dof, all_joint_pos_sol[i,1], i)\n",
    "                    all_swivel_angles[i,0] = swivel_angle_U1\n",
    "                    all_swivel_angles[i,1] = swivel_angle_U2\n",
    "                joint_pos_diff_j_index = np.argmin(np.abs(all_joint_pos_sol[i,:] - current_joint_pos[i]))\n",
    "                selected_joint_pos_sol[i] = all_joint_pos_sol[i, joint_pos_diff_j_index]\n",
    "        else:\n",
    "            # if no solution, return current joint positions\n",
    "            print(\"No IK Solution: at least one discriminant is negative: \", discriminants)\n",
    "\n",
    "        # check the swivel angle limit on both ends of the U-U rod: provide warning on the screen if the joint are out of ranges\n",
    "        print(\"IK joint pos solutions: \", selected_joint_pos_sol)\n",
    "        print(\"swivel angles (deg): \", np.rad2deg(all_swivel_angles))\n",
    "\n",
    "        return selected_joint_pos_sol.tolist()\n",
    "    \n",
    "    def check_ik_feasible(self, pose_4dof):\n",
    "        tf_mat_base_to_eeff, X, Y, Z, x_0, x_1, x_2, x_3 = self.convert_pose_4dof_to_tf_mat_and_7var(pose_4dof)\n",
    "        r = self.r\n",
    "    \n",
    "        reals = np.zeros([4])\n",
    "        discriminants = np.zeros([4])\n",
    "        has_solution = True\n",
    "\n",
    "        for i in range(4):\n",
    "            # convert signs based on joint indices\n",
    "            if i == 0:\n",
    "                a = self.a; b = -self.b; c = self.c; d = -self.d\n",
    "            elif i == 1:\n",
    "                a = self.a; b = self.b; c = self.c; d = self.d\n",
    "            elif i == 2:\n",
    "                a = -self.a; b = self.b; c = -self.c; d = self.d\n",
    "            elif i == 3:\n",
    "                a = -self.a; b = -self.b; c = -self.c; d = -self.d\n",
    "\n",
    "            discriminants[i] = -X**2 + 2.0*X*a - 2.0*X*c*x_0**2 - 2.0*X*c*x_1**2 + \\\n",
    "            2.0*X*c*x_2**2 + 2.0*X*c*x_3**2 + 4.0*X*d*x_0*x_3 - 4.0*X*d*x_1*x_2 \\\n",
    "            - Y**2 + 2.0*Y*b - 4.0*Y*c*x_0*x_3 - 4.0*Y*c*x_1*x_2 - \\\n",
    "            2.0*Y*d*x_0**2 + 2.0*Y*d*x_1**2 - 2.0*Y*d*x_2**2 + 2.0*Y*d*x_3**2 - \\\n",
    "            a**2 + 2.0*a*c*x_0**2 + 2.0*a*c*x_1**2 - 2.0*a*c*x_2**2 - \\\n",
    "            2.0*a*c*x_3**2 - 4.0*a*d*x_0*x_3 + 4.0*a*d*x_1*x_2 - b**2 + \\\n",
    "            4.0*b*c*x_0*x_3 + 4.0*b*c*x_1*x_2 + 2.0*b*d*x_0**2 - 2.0*b*d*x_1**2 \\\n",
    "            + 2.0*b*d*x_2**2 - 2.0*b*d*x_3**2 - c**2*x_0**4 - \\\n",
    "            2.0*c**2*x_0**2*x_1**2 + 2.0*c**2*x_0**2*x_2**2 - \\\n",
    "            2.0*c**2*x_0**2*x_3**2 - 8.0*c**2*x_0*x_1*x_2*x_3 - c**2*x_1**4 - \\\n",
    "            2.0*c**2*x_1**2*x_2**2 + 2.0*c**2*x_1**2*x_3**2 - c**2*x_2**4 - \\\n",
    "            2.0*c**2*x_2**2*x_3**2 - c**2*x_3**4 - 8.0*c*d*x_0**2*x_1*x_2 + \\\n",
    "            8.0*c*d*x_0*x_1**2*x_3 - 8.0*c*d*x_0*x_2**2*x_3 + \\\n",
    "            8.0*c*d*x_1*x_2*x_3**2 - d**2*x_0**4 + 2.0*d**2*x_0**2*x_1**2 - \\\n",
    "            2.0*d**2*x_0**2*x_2**2 - 2.0*d**2*x_0**2*x_3**2 + \\\n",
    "            8.0*d**2*x_0*x_1*x_2*x_3 - d**2*x_1**4 - 2.0*d**2*x_1**2*x_2**2 - \\\n",
    "            2.0*d**2*x_1**2*x_3**2 - d**2*x_2**4 + 2.0*d**2*x_2**2*x_3**2 - \\\n",
    "            d**2*x_3**4 + r**2  \n",
    "\n",
    "            reals[i] = Z - 2.0*c*x_0*x_2 + 2.0*c*x_1*x_3 + 2.0*d*x_0*x_1 + 2.0*d*x_2*x_3\n",
    "\n",
    "        if np.any(np.sign(discriminants) < 0):\n",
    "            has_solution = False\n",
    "\n",
    "        return reals, discriminants, has_solution\n",
    "    \n",
    "    def calc_swivel_angle(self, des_pose_4dof, joint_pos, joint_index):\n",
    "        tf_mat_base_to_eeff, X, Y, Z, x_0, x_1, x_2, x_3 = self.convert_pose_4dof_to_tf_mat_and_7var(des_pose_4dof)\n",
    "        \n",
    "        # convert signs based on joint indices\n",
    "        if joint_index == 0:\n",
    "            a = self.a; b = -self.b; c = self.c; d = -self.d\n",
    "        elif joint_index == 1:\n",
    "            a = self.a; b = self.b; c = self.c; d = self.d\n",
    "        elif joint_index == 2:\n",
    "            a = -self.a; b = self.b; c = -self.c; d = self.d\n",
    "        elif joint_index == 3:\n",
    "            a = -self.a; b = -self.b; c = -self.c; d = -self.d\n",
    "\n",
    "        u0_B_to_C = np.array([X - a + c*(x_0**2 + x_1**2 - x_2**2 - x_3**2) + d*(-2.0*x_0*x_3 + 2.0*x_1*x_2),\n",
    "            Y - b + c*(2.0*x_0*x_3 + 2.0*x_1*x_2) + d*(x_0**2 - x_1**2 + x_2**2 - x_3**2),\n",
    "            Z + c*(-2.0*x_0*x_2 + 2.0*x_1*x_3) + d*(2.0*x_0*x_1 + 2.0*x_2*x_3) - joint_pos - self.h_offset])\n",
    "        v0_C_to_ee = -np.array([c*(x_0**2 + x_1**2 - x_2**2 - x_3**2) + d*(-2.0*x_0*x_3 + 2.0*x_1*x_2),\n",
    "            c*(2.0*x_0*x_3 + 2.0*x_1*x_2) + d*(x_0**2 - x_1**2 + x_2**2 - x_3**2),\n",
    "            c*(-2.0*x_0*x_2 + 2.0*x_1*x_3) + d*(2.0*x_0*x_1 + 2.0*x_2*x_3)])\n",
    "        v0_B_to_base = -np.array([a, b, 0])\n",
    "\n",
    "        swivel_angle_U1 = py_ang(u0_B_to_C, v0_B_to_base)\n",
    "        swivel_angle_U2 = py_ang(v0_C_to_ee, u0_B_to_C)\n",
    "\n",
    "        return swivel_angle_U1, swivel_angle_U2\n",
    "    \n",
    "    def convert_pose_4dof_to_tf_mat_and_7var(self, pose_4dof):\n",
    "        if self.operation_mode == \"H1\":\n",
    "            t_mat = tfs.translation_matrix((pose_4dof[0], pose_4dof[1], pose_4dof[2]))\n",
    "            r_mat = tfs.rotation_matrix(pose_4dof[3], (0, 0, 1))\n",
    "            tf_mat_base_to_eeff = tfs.concatenate_matrices(t_mat, r_mat)\n",
    "        if self.operation_mode == \"H3\":\n",
    "            # break down to geometric cases\n",
    "            pass\n",
    "        else:\n",
    "            pass\n",
    "\n",
    "        X, Y, Z, x_0, x_1, x_2, x_3 = convert_tf_mat_to_7var(tf_mat_base_to_eeff)\n",
    "\n",
    "        return tf_mat_base_to_eeff, X, Y, Z, x_0, x_1, x_2, x_3\n",
    "\n",
    "def convert_tf_mat_to_7var(tf_mat):\n",
    "    quat = tfs.quaternion_from_matrix(tf_mat)\n",
    "    xyz = tfs.translation_from_matrix(tf_mat)\n",
    "    X = xyz[0]; Y = xyz[1]; Z = xyz[2] \n",
    "    x_0 = quat[3]; x_1 = quat[0]; x_2 = quat[1]; x_3 = quat[2]\n",
    "    return X, Y, Z, x_0, x_1, x_2, x_3\n",
    "\n",
    "def py_ang(v1, v2):\n",
    "        \"\"\" Returns the angle in radians between vectors 'v1' and 'v2'    \"\"\"\n",
    "        cosang = np.dot(v1, v2)\n",
    "        sinang = la.norm(np.cross(v1, v2))\n",
    "        return np.arctan2(sinang, cosang)\n"
   ]
  },
  {
   "cell_type": "code",
   "execution_count": 34,
   "metadata": {},
   "outputs": [
    {
     "name": "stdout",
     "output_type": "stream",
     "text": [
      "Geometric Condition:  A\n",
      "[a, b, c, d] =  [79.375, 79.37499999999999, 79.375, 32.878201513364424]  mm\n",
      "r =  85.8  mm\n"
     ]
    }
   ],
   "source": [
    "# create a robot \n",
    "robot = Robot4CRU()"
   ]
  },
  {
   "cell_type": "code",
   "execution_count": 36,
   "metadata": {},
   "outputs": [
    {
     "name": "stdout",
     "output_type": "stream",
     "text": [
      "[[  0.8660254  -0.5         0.          0.       ]\n",
      " [  0.5         0.8660254   0.          0.       ]\n",
      " [  0.          0.          1.        200.       ]\n",
      " [  0.          0.          0.          1.       ]]\n",
      "IK joint pos solutions:  [169.03867262 205.09251528 169.03867262 205.09251528]\n",
      "swivel angles (deg):  [[56.84620394 90.37187547]\n",
      " [71.93713988 72.36570714]\n",
      " [56.84620394 90.37187547]\n",
      " [71.93713988 72.36570714]]\n"
     ]
    },
    {
     "data": {
      "text/plain": [
       "[169.03867261740925,\n",
       " 205.09251528364348,\n",
       " 169.03867261740925,\n",
       " 205.09251528364348]"
      ]
     },
     "execution_count": 36,
     "metadata": {},
     "output_type": "execute_result"
    }
   ],
   "source": [
    "# one point demo\n",
    "des_pose_4dof = [0, 0, 200, np.pi/10]\n",
    "tf_mat_base_to_eeff, X, Y, Z, x_0, x_1, x_2, x_3 = robot.convert_pose_4dof_to_tf_mat_and_7var([0, 0, 200, np.pi/6])\n",
    "print(tf_mat_base_to_eeff)\n",
    "\n",
    "robot.inverse_kinematics(des_pose_4dof)"
   ]
  },
  {
   "cell_type": "code",
   "execution_count": 136,
   "metadata": {},
   "outputs": [
    {
     "data": {
      "application/vnd.jupyter.widget-view+json": {
       "model_id": "366db3675d1141bcbdc794f6dabefb8e",
       "version_major": 2,
       "version_minor": 0
      },
      "text/plain": [
       "interactive(children=(FloatSlider(value=5.0, description='t', max=10.0), Output()), _dom_classes=('widget-inte…"
      ]
     },
     "metadata": {},
     "output_type": "display_data"
    }
   ],
   "source": [
    "# Trajectory\n",
    "dt = 0.01\n",
    "tt = np.arange(0, 10, dt)\n",
    "Xx = 15.0 + 15.0*np.cos(0.5 * np.pi * tt)\n",
    "Yy = 15.0*np.sin(0.5 * np.pi * tt)\n",
    "Zz = 75.0 + 4 * tt\n",
    "\n",
    "# https://ipywidgets.readthedocs.io/en/latest/examples/Using%20Interact.html\n",
    "#from __future__ import print_function \n",
    "from ipywidgets import interact, interactive, fixed, interact_manual\n",
    "import ipywidgets as widgets\n",
    "\n",
    "interact(traj, t=(0.0,10.0));\n",
    "\n",
    "def traj(t):\n",
    "    #plt.ion() # don't need to use plt.show()\n",
    "   \n",
    "    X = 15.0 + 15.0*np.cos(0.5 * np.pi * t)\n",
    "    Y = 15.0*np.sin(0.5 * np.pi * t)\n",
    "    Z = 75.0 + 4 * t\n",
    "    \n",
    "    fig = plt.figure()\n",
    "    ax = fig.gca(projection='3d')\n",
    "    ax.view_init(30, 50)\n",
    "    ax.plot(Xx, Yy, Zz, label='des traj')\n",
    "    ax.scatter(X, Y, Z, label='des pos')\n",
    "    ax.plot(Xx[[0,-1]], Yy[[0,-1]], Zz[[0,-1]])\n",
    "    plt.show()\n",
    "    \n",
    "    print(\"t =\", t, \" sec\")\n",
    "\n"
   ]
  }
 ],
 "metadata": {
  "kernelspec": {
   "display_name": "Python 3",
   "language": "python",
   "name": "python3"
  },
  "language_info": {
   "codemirror_mode": {
    "name": "ipython",
    "version": 3
   },
   "file_extension": ".py",
   "mimetype": "text/x-python",
   "name": "python",
   "nbconvert_exporter": "python",
   "pygments_lexer": "ipython3",
   "version": "3.7.4"
  }
 },
 "nbformat": 4,
 "nbformat_minor": 2
}
