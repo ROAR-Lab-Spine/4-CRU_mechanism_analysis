{
 "cells": [
  {
   "cell_type": "markdown",
   "metadata": {},
   "source": [
    "# 4-CRU Mechanism Kinematic Calculation Handbook"
   ]
  },
  {
   "cell_type": "code",
   "execution_count": 1,
   "metadata": {},
   "outputs": [],
   "source": [
    "import numpy as np\n",
    "import numpy.matlib\n",
    "import math\n",
    "from sympy import * # symbolic calculation for IK\n",
    "from tf import transformations as tfs "
   ]
  },
  {
   "cell_type": "markdown",
   "metadata": {},
   "source": [
    "## Notes on [Transformation.py](https://github.com/ROAR-Lab-Spine/geometry/blob/melodic-devel/tf/src/tf/transformations.py)\n",
    "\n",
    "\n",
    "1. Quaternions $q = ix+jy+kz+w$ are represented as $[x, y, z, w ]$= $[x_1, x_2, x_3, x_0]$.\n",
    "\n",
    "## Notes on [SymPy’s documentation](https://docs.sympy.org/latest/index.html)\n",
    "\n",
    "1. [Matrix Functions](https://docs.sympy.org/latest/modules/matrices/common.html?highlight=transpose#sympy.matrices.common.MatrixCommon.transpose)\n",
    "2. [Matrix Operations](https://docs.sympy.org/latest/modules/matrices/matrices.html?highlight=matrix%20operation)\n",
    "3. [Polynomial and Groebner bases¶](https://docs.sympy.org/latest/modules/polys/basics.html?highlight=polynomial%20solve)\n",
    "4. Primary Decomposition\n",
    "\n",
    "## Notes on SINGULAR\n",
    "1. [Related Publications](https://www.singular.uni-kl.de/index.php/publications/singular-related-publications.html)"
   ]
  },
  {
   "cell_type": "code",
   "execution_count": 2,
   "metadata": {},
   "outputs": [
    {
     "name": "stdout",
     "output_type": "stream",
     "text": [
      "[0. 0. 0. 1.]\n",
      "[0.  0.  0.1]\n"
     ]
    }
   ],
   "source": [
    "tf_init = tfs.identity_matrix()\n",
    "# print tf_init\n",
    "des_quat = tfs.quaternion_about_axis(0, (0, 0, 1))\n",
    "des_xyz = np.array([0,0,0.1])\n",
    "print des_quat\n",
    "print des_xyz"
   ]
  },
  {
   "cell_type": "code",
   "execution_count": 3,
   "metadata": {},
   "outputs": [],
   "source": [
    "# Set up Symbolic variables\n",
    "X, Y, Z = symbols('X, Y, Z')\n",
    "x_0, x_1, x_2, x_3 = symbols('x_0, x_1, x_2, x_3')\n",
    "a, b, c, d = symbols('a, b, c, d')\n",
    "h_1, h_2, h_3, h_4 = symbols('h_1, h_2, h_3, h_4')\n",
    "r = symbols('r')"
   ]
  },
  {
   "cell_type": "code",
   "execution_count": 4,
   "metadata": {},
   "outputs": [],
   "source": [
    "# Position of the C joint with respect to the base frame\n",
    "r0_B1 = Matrix([a, -b, h_1, 1])\n",
    "r1_C1 = Matrix([c, -d, 0, 1])\n",
    "\n",
    "r0_B2 = Matrix([a, b, h_2, 1])\n",
    "r1_C2 = Matrix([c, d, 0, 1])\n",
    "\n",
    "r0_B3 = Matrix([-a, b, h_3, 1])\n",
    "r1_C3 = Matrix([-c, d, 0, 1])\n",
    "\n",
    "r0_B4 = Matrix([-a, -b, h_4, 1])\n",
    "r1_C4 = Matrix([-c, -d, 0, 1])"
   ]
  },
  {
   "cell_type": "code",
   "execution_count": 5,
   "metadata": {},
   "outputs": [
    {
     "data": {
      "text/latex": [
       "$\\displaystyle \\left[\\begin{matrix}x_{0}^{2} + x_{1}^{2} - x_{2}^{2} - x_{3}^{2} & - 2.0 x_{0} x_{3} + 2.0 x_{1} x_{2} & 2.0 x_{0} x_{2} + 2.0 x_{1} x_{3} & X\\\\2.0 x_{0} x_{3} + 2.0 x_{1} x_{2} & x_{0}^{2} - x_{1}^{2} + x_{2}^{2} - x_{3}^{2} & - 2.0 x_{0} x_{1} + 2.0 x_{2} x_{3} & Y\\\\- 2.0 x_{0} x_{2} + 2.0 x_{1} x_{3} & 2.0 x_{0} x_{1} + 2.0 x_{2} x_{3} & x_{0}^{2} - x_{1}^{2} - x_{2}^{2} + x_{3}^{2} & Z\\\\0 & 0 & 0 & 1.0\\end{matrix}\\right]$"
      ],
      "text/plain": [
       "Matrix([\n",
       "[x_0**2 + x_1**2 - x_2**2 - x_3**2,        -2.0*x_0*x_3 + 2.0*x_1*x_2,         2.0*x_0*x_2 + 2.0*x_1*x_3,   X],\n",
       "[        2.0*x_0*x_3 + 2.0*x_1*x_2, x_0**2 - x_1**2 + x_2**2 - x_3**2,        -2.0*x_0*x_1 + 2.0*x_2*x_3,   Y],\n",
       "[       -2.0*x_0*x_2 + 2.0*x_1*x_3,         2.0*x_0*x_1 + 2.0*x_2*x_3, x_0**2 - x_1**2 - x_2**2 + x_3**2,   Z],\n",
       "[                                0,                                 0,                                 0, 1.0]])"
      ]
     },
     "execution_count": 5,
     "metadata": {},
     "output_type": "execute_result"
    }
   ],
   "source": [
    "R0_1 = Matrix([[x_0**2 + x_1**2 - x_2**2 - x_3**2, 2.0*(x_1*x_2 - x_0*x_3), 2.0*(x_0*x_2 + x_1*x_3)],\n",
    "                [2.0*(x_0*x_3 + x_1*x_2),x_0**2 - x_1**2 + x_2**2 - x_3**2,2.0*(x_2*x_3 - x_0*x_1)],\n",
    "                [2.0*(x_1*x_3 - x_0*x_2),2.0*(x_0*x_1 + x_2*x_3),x_0**2 - x_1**2 - x_2**2 + x_3**2]])\n",
    "r0_1 = Matrix([X, Y, Z, 1.0])  \n",
    "T0_1 = R0_1.col_join(zeros(1,3))\n",
    "T0_1 = T0_1.row_join(r0_1)\n",
    "T0_1"
   ]
  },
  {
   "cell_type": "code",
   "execution_count": 6,
   "metadata": {},
   "outputs": [],
   "source": [
    "# Vector along the U-U Rods\n",
    "u0_1 = T0_1*r1_C1 - r0_B1\n",
    "u0_2 = T0_1*r1_C2 - r0_B2\n",
    "u0_3 = T0_1*r1_C3 - r0_B3\n",
    "u0_4 = T0_1*r1_C4 - r0_B4"
   ]
  },
  {
   "cell_type": "code",
   "execution_count": 7,
   "metadata": {},
   "outputs": [],
   "source": [
    "r0_ee_to_C2 = T0_1*r1_C2\n",
    "r0_ee_to_C2 = r0_ee_to_C2.subs([(X, 0),(Y, 0),(Z, 0)])"
   ]
  },
  {
   "cell_type": "code",
   "execution_count": 8,
   "metadata": {},
   "outputs": [],
   "source": [
    "# Scalar Triple Product \n",
    "f_5 = simplify(expand(u0_1.dot(u0_1))) - r**2\n",
    "f_6 = simplify(expand(u0_2.dot(u0_2))) - r**2\n",
    "f_7 = simplify(expand(u0_3.dot(u0_3))) - r**2\n",
    "f_8 = simplify(expand(u0_4.dot(u0_4))) - r**2\n",
    "f_9 = x_0**2+x_1**2+x_2**2+x_3**2-1.0\n",
    "\n",
    "# Substitute Additional Mode Geometric Condition A\n",
    "f_5A = f_5.subs([(c, a),(x_2, 0),(x_3, 0),(X,0)],simultaneous=True)\n",
    "f_6A = f_6.subs([(c, a),(x_2, 0),(x_3, 0),(X,0)],simultaneous=True)\n",
    "f_7A = f_7.subs([(c, a),(x_2, 0),(x_3, 0),(X,0)],simultaneous=True)\n",
    "f_8A = f_8.subs([(c, a),(x_2, 0),(x_3, 0),(X,0)],simultaneous=True)\n",
    "f_9A = f_9.subs([(c, a),(x_2, 0),(x_3, 0),(X,0)],simultaneous=True)"
   ]
  },
  {
   "cell_type": "code",
   "execution_count": 9,
   "metadata": {},
   "outputs": [
    {
     "data": {
      "text/latex": [
       "$\\displaystyle \\left(x_{0}^{2} + x_{1}^{2} - 1.0\\right)^{2}$"
      ],
      "text/plain": [
       "(x_0**2 + x_1**2 - 1.0)**2"
      ]
     },
     "execution_count": 9,
     "metadata": {},
     "output_type": "execute_result"
    }
   ],
   "source": [
    "f_9A_sq = f_9A*f_9A\n",
    "f_9A_sq_expd = expand(f_9A_sq)\n",
    "f_9A_sq"
   ]
  },
  {
   "cell_type": "code",
   "execution_count": 10,
   "metadata": {},
   "outputs": [
    {
     "data": {
      "text/latex": [
       "$\\displaystyle x_{0}^{4} + 2 x_{0}^{2} x_{1}^{2} - 2.0 x_{0}^{2} + x_{1}^{4} - 2.0 x_{1}^{2} + 1.0$"
      ],
      "text/plain": [
       "x_0**4 + 2*x_0**2*x_1**2 - 2.0*x_0**2 + x_1**4 - 2.0*x_1**2 + 1.0"
      ]
     },
     "execution_count": 10,
     "metadata": {},
     "output_type": "execute_result"
    }
   ],
   "source": [
    "f_9A_sq_expd.subs(-2.0*x_0**2-2.0*x_1**2, -2)"
   ]
  },
  {
   "cell_type": "code",
   "execution_count": 11,
   "metadata": {},
   "outputs": [
    {
     "data": {
      "text/latex": [
       "$\\displaystyle x_{0}^{4} + 2 x_{0}^{2} x_{1}^{2} - 2.0 x_{0}^{2} + x_{1}^{4} - 2.0 x_{1}^{2} + 1.0$"
      ],
      "text/plain": [
       "x_0**4 + 2*x_0**2*x_1**2 - 2.0*x_0**2 + x_1**4 - 2.0*x_1**2 + 1.0"
      ]
     },
     "execution_count": 11,
     "metadata": {},
     "output_type": "execute_result"
    }
   ],
   "source": [
    "f_9A_sq_expd"
   ]
  },
  {
   "cell_type": "code",
   "execution_count": 12,
   "metadata": {},
   "outputs": [
    {
     "data": {
      "text/latex": [
       "$\\displaystyle Y^{2} + Y \\left(2 b - 2 d x_{0}^{2} + 2 d x_{1}^{2}\\right) + Z^{2} + Z \\left(- 4.0 d x_{0} x_{1} - 2 h_{1}\\right) + a^{2} \\left(x_{0}^{4} + 2 x_{0}^{2} x_{1}^{2} - 2 x_{0}^{2} + x_{1}^{4} - 2 x_{1}^{2} + 1\\right) + b^{2} + b \\left(- 2 d x_{0}^{2} + 2 d x_{1}^{2}\\right) + d^{2} \\left(x_{0}^{4} + 2.0 x_{0}^{2} x_{1}^{2} + x_{1}^{4}\\right) + 4.0 d h_{1} x_{0} x_{1} + h_{1}^{2} - r^{2}$"
      ],
      "text/plain": [
       "Y**2 + Y*(2*b - 2*d*x_0**2 + 2*d*x_1**2) + Z**2 + Z*(-4.0*d*x_0*x_1 - 2*h_1) + a**2*(x_0**4 + 2*x_0**2*x_1**2 - 2*x_0**2 + x_1**4 - 2*x_1**2 + 1) + b**2 + b*(-2*d*x_0**2 + 2*d*x_1**2) + d**2*(x_0**4 + 2.0*x_0**2*x_1**2 + x_1**4) + 4.0*d*h_1*x_0*x_1 + h_1**2 - r**2"
      ]
     },
     "execution_count": 12,
     "metadata": {},
     "output_type": "execute_result"
    }
   ],
   "source": [
    "f_5A = collect(f_5A, (X,Y,Z,r,a,b,c,d))\n",
    "f_5A"
   ]
  },
  {
   "cell_type": "code",
   "execution_count": 13,
   "metadata": {},
   "outputs": [
    {
     "data": {
      "text/latex": [
       "$\\displaystyle Y^{2} + Y \\left(2 b - 2 d x_{0}^{2} + 2 d x_{1}^{2}\\right) + Z^{2} + Z \\left(- 4.0 d x_{0} x_{1} - 2 h_{1}\\right) + b^{2} + b \\left(- 2 d x_{0}^{2} + 2 d x_{1}^{2}\\right) + d^{2} + 4.0 d h_{1} x_{0} x_{1} + h_{1}^{2} - r^{2}$"
      ],
      "text/plain": [
       "Y**2 + Y*(2*b - 2*d*x_0**2 + 2*d*x_1**2) + Z**2 + Z*(-4.0*d*x_0*x_1 - 2*h_1) + b**2 + b*(-2*d*x_0**2 + 2*d*x_1**2) + d**2 + 4.0*d*h_1*x_0*x_1 + h_1**2 - r**2"
      ]
     },
     "execution_count": 13,
     "metadata": {},
     "output_type": "execute_result"
    }
   ],
   "source": [
    "# eliminate the quaternion identity\n",
    "f_5A = f_5A.subs(x_0**4+2.0*x_0**2*x_1**2+x_1**4, 1)\n",
    "f_5A = f_5A.subs(f_9A_sq_expd-1.0,-1.0)\n",
    "f_5A"
   ]
  },
  {
   "cell_type": "code",
   "execution_count": 14,
   "metadata": {},
   "outputs": [
    {
     "data": {
      "text/latex": [
       "$\\displaystyle Y^{2} + Y \\left(- 2 b + 2 d x_{0}^{2} - 2 d x_{1}^{2}\\right) + Z^{2} + Z \\left(4.0 d x_{0} x_{1} - 2 h_{2}\\right) + b^{2} + b \\left(- 2 d x_{0}^{2} + 2 d x_{1}^{2}\\right) + d^{2} - 4.0 d h_{2} x_{0} x_{1} + h_{2}^{2} - r^{2}$"
      ],
      "text/plain": [
       "Y**2 + Y*(-2*b + 2*d*x_0**2 - 2*d*x_1**2) + Z**2 + Z*(4.0*d*x_0*x_1 - 2*h_2) + b**2 + b*(-2*d*x_0**2 + 2*d*x_1**2) + d**2 - 4.0*d*h_2*x_0*x_1 + h_2**2 - r**2"
      ]
     },
     "execution_count": 14,
     "metadata": {},
     "output_type": "execute_result"
    }
   ],
   "source": [
    "f_6A = collect(f_6A, (X,Y,Z,r,a,b,c,d))\n",
    "f_6A = f_6A.subs(x_0**4+2.0*x_0**2*x_1**2+x_1**4, 1)\n",
    "f_6A = f_6A.subs(f_9A_sq_expd-1.0,-1.0)\n",
    "f_6A"
   ]
  },
  {
   "cell_type": "code",
   "execution_count": 15,
   "metadata": {},
   "outputs": [
    {
     "data": {
      "text/latex": [
       "$\\displaystyle Y^{2} + Y \\left(- 2 b + 2 d x_{0}^{2} - 2 d x_{1}^{2}\\right) + Z^{2} + Z \\left(4.0 d x_{0} x_{1} - 2 h_{3}\\right) + b^{2} + b \\left(- 2 d x_{0}^{2} + 2 d x_{1}^{2}\\right) + d^{2} - 4.0 d h_{3} x_{0} x_{1} + h_{3}^{2} - r^{2}$"
      ],
      "text/plain": [
       "Y**2 + Y*(-2*b + 2*d*x_0**2 - 2*d*x_1**2) + Z**2 + Z*(4.0*d*x_0*x_1 - 2*h_3) + b**2 + b*(-2*d*x_0**2 + 2*d*x_1**2) + d**2 - 4.0*d*h_3*x_0*x_1 + h_3**2 - r**2"
      ]
     },
     "execution_count": 15,
     "metadata": {},
     "output_type": "execute_result"
    }
   ],
   "source": [
    "f_7A = collect(f_7A, (X,Y,Z,r,a,b,c,d))\n",
    "f_7A = f_7A.subs(x_0**4+2.0*x_0**2*x_1**2+x_1**4, 1)\n",
    "f_7A = f_7A.subs(f_9A_sq_expd-1.0,-1.0)\n",
    "f_7A"
   ]
  },
  {
   "cell_type": "code",
   "execution_count": 16,
   "metadata": {},
   "outputs": [
    {
     "data": {
      "text/latex": [
       "$\\displaystyle Y^{2} + Y \\left(- 2 b + 2 d x_{0}^{2} - 2 d x_{1}^{2}\\right) + Z^{2} + Z \\left(4.0 d x_{0} x_{1} - 2 h_{3}\\right) + b^{2} + b \\left(- 2 d x_{0}^{2} + 2 d x_{1}^{2}\\right) + d^{2} - 4.0 d h_{3} x_{0} x_{1} + h_{3}^{2} - r^{2}$"
      ],
      "text/plain": [
       "Y**2 + Y*(-2*b + 2*d*x_0**2 - 2*d*x_1**2) + Z**2 + Z*(4.0*d*x_0*x_1 - 2*h_3) + b**2 + b*(-2*d*x_0**2 + 2*d*x_1**2) + d**2 - 4.0*d*h_3*x_0*x_1 + h_3**2 - r**2"
      ]
     },
     "execution_count": 16,
     "metadata": {},
     "output_type": "execute_result"
    }
   ],
   "source": [
    "f_8A = collect(f_8A, (X,Y,Z,r,a,b,c,d))\n",
    "f_8A = f_8A.subs(x_0**4+2.0*x_0**2*x_1**2+x_1**4, 1)\n",
    "f_8A = f_8A.subs(f_9A_sq_expd-1.0,-1.0)\n",
    "f_7A"
   ]
  },
  {
   "cell_type": "markdown",
   "metadata": {},
   "source": [
    "# Inverse Kinematics (Schoenfiles Mode: Geometric A)"
   ]
  },
  {
   "cell_type": "code",
   "execution_count": 17,
   "metadata": {},
   "outputs": [],
   "source": [
    "# Schonflies Mode\n",
    "# T0_1_H1 = T0_1.subs([(x_1, 0),(x_2, 0)],simultaneous=True)\n",
    "des_pose = tfs.identity_matrix()\n",
    "\n",
    "f_5_H1 = f_5.subs([(X, des_xyz[0]),\n",
    "                   (Y, des_xyz[1]),\n",
    "                   (Z, des_xyz[2]),\n",
    "                   (x_1, des_quat[0]),\n",
    "                   (x_2, des_quat[1]),\n",
    "                   (x_3, des_quat[2]),\n",
    "                   (x_0, des_quat[3])],\n",
    "                  simultaneous=True) \n",
    "h_1_sols = solve(f_5_H1, h_1)"
   ]
  },
  {
   "cell_type": "code",
   "execution_count": 18,
   "metadata": {},
   "outputs": [
    {
     "data": {
      "text/latex": [
       "$\\displaystyle Z + \\sqrt{- X^{2} + 2.0 X a - 2.0 X c x_{0}^{2} + 2.0 X c x_{3}^{2} + 4.0 X d x_{0} x_{3} - Y^{2} + 2.0 Y b - 4.0 Y c x_{0} x_{3} - 2.0 Y d x_{0}^{2} + 2.0 Y d x_{3}^{2} - a^{2} + 2.0 a c x_{0}^{2} - 2.0 a c x_{3}^{2} - 4.0 a d x_{0} x_{3} - b^{2} + 4.0 b c x_{0} x_{3} + 2.0 b d x_{0}^{2} - 2.0 b d x_{3}^{2} - c^{2} x_{0}^{4} - 2.0 c^{2} x_{0}^{2} x_{3}^{2} - c^{2} x_{3}^{4} - d^{2} x_{0}^{4} - 2.0 d^{2} x_{0}^{2} x_{3}^{2} - d^{2} x_{3}^{4} + r^{2}}$"
      ],
      "text/plain": [
       "Z + sqrt(-X**2 + 2.0*X*a - 2.0*X*c*x_0**2 + 2.0*X*c*x_3**2 + 4.0*X*d*x_0*x_3 - Y**2 + 2.0*Y*b - 4.0*Y*c*x_0*x_3 - 2.0*Y*d*x_0**2 + 2.0*Y*d*x_3**2 - a**2 + 2.0*a*c*x_0**2 - 2.0*a*c*x_3**2 - 4.0*a*d*x_0*x_3 - b**2 + 4.0*b*c*x_0*x_3 + 2.0*b*d*x_0**2 - 2.0*b*d*x_3**2 - c**2*x_0**4 - 2.0*c**2*x_0**2*x_3**2 - c**2*x_3**4 - d**2*x_0**4 - 2.0*d**2*x_0**2*x_3**2 - d**2*x_3**4 + r**2)"
      ]
     },
     "execution_count": 18,
     "metadata": {},
     "output_type": "execute_result"
    }
   ],
   "source": [
    "h_2_sols = solve(f_6, h_2)\n",
    "h_2_sols[1].subs([(x_1, 0),(x_2,0)])\n",
    "# We can change the signs of a,b,c,d corresponding to the "
   ]
  },
  {
   "cell_type": "markdown",
   "metadata": {},
   "source": [
    "# Inverse Kinematics (Additional Mode: Geometric A)"
   ]
  },
  {
   "cell_type": "code",
   "execution_count": 19,
   "metadata": {},
   "outputs": [
    {
     "data": {
      "text/latex": [
       "$\\displaystyle 4.0 \\left(1.0 h_{1} - 1.0 h_{4}\\right) \\left(- 0.5 Z + 1.0 d x_{0} x_{1} + 0.25 h_{1} + 0.25 h_{4}\\right)$"
      ],
      "text/plain": [
       "4.0*(1.0*h_1 - 1.0*h_4)*(-0.5*Z + 1.0*d*x_0*x_1 + 0.25*h_1 + 0.25*h_4)"
      ]
     },
     "execution_count": 19,
     "metadata": {},
     "output_type": "execute_result"
    }
   ],
   "source": [
    "# Additional Mode (Gemetric A)\n",
    "g_1A = factor(f_5A - f_8A)\n",
    "g_1A"
   ]
  },
  {
   "cell_type": "code",
   "execution_count": 20,
   "metadata": {},
   "outputs": [
    {
     "data": {
      "text/latex": [
       "$\\displaystyle - 8.0 \\left(- 0.25 Y^{2} - 0.5 Y b + 0.5 Y d x_{0}^{2} - 0.5 Y d x_{1}^{2} - 0.25 Z^{2} + 1.0 Z d x_{0} x_{1} + 0.25 Z h_{1} + 0.25 Z h_{4} - 0.25 b^{2} + 0.5 b d x_{0}^{2} - 0.5 b d x_{1}^{2} - 0.25 d^{2} - 0.5 d h_{1} x_{0} x_{1} - 0.5 d h_{4} x_{0} x_{1} - 0.125 h_{1}^{2} - 0.125 h_{4}^{2} + 0.25 r^{2}\\right)$"
      ],
      "text/plain": [
       "-8.0*(-0.25*Y**2 - 0.5*Y*b + 0.5*Y*d*x_0**2 - 0.5*Y*d*x_1**2 - 0.25*Z**2 + 1.0*Z*d*x_0*x_1 + 0.25*Z*h_1 + 0.25*Z*h_4 - 0.25*b**2 + 0.5*b*d*x_0**2 - 0.5*b*d*x_1**2 - 0.25*d**2 - 0.5*d*h_1*x_0*x_1 - 0.5*d*h_4*x_0*x_1 - 0.125*h_1**2 - 0.125*h_4**2 + 0.25*r**2)"
      ]
     },
     "execution_count": 20,
     "metadata": {},
     "output_type": "execute_result"
    }
   ],
   "source": [
    "g_2A = factor(f_5A + f_8A)\n",
    "g_2A"
   ]
  },
  {
   "cell_type": "code",
   "execution_count": 21,
   "metadata": {},
   "outputs": [
    {
     "data": {
      "text/latex": [
       "$\\displaystyle \\left(1.0 h_{2} - 1.0 h_{3}\\right) \\left(- 2.0 Z - 4.0 d x_{0} x_{1} + 1.0 h_{2} + 1.0 h_{3}\\right)$"
      ],
      "text/plain": [
       "(1.0*h_2 - 1.0*h_3)*(-2.0*Z - 4.0*d*x_0*x_1 + 1.0*h_2 + 1.0*h_3)"
      ]
     },
     "execution_count": 21,
     "metadata": {},
     "output_type": "execute_result"
    }
   ],
   "source": [
    "g_3A = factor(f_6A - f_7A)\n",
    "g_3A = g_3A .args[1]*(g_3A.args[0]*g_3A.args[2])\n",
    "g_3A"
   ]
  },
  {
   "cell_type": "code",
   "execution_count": 22,
   "metadata": {},
   "outputs": [
    {
     "data": {
      "text/latex": [
       "$\\displaystyle 2.0 Y^{2} - 4.0 Y b + 4.0 Y d x_{0}^{2} - 4.0 Y d x_{1}^{2} + 2.0 Z^{2} + 8.0 Z d x_{0} x_{1} - 2.0 Z h_{2} - 2.0 Z h_{3} + 2.0 b^{2} - 4.0 b d x_{0}^{2} + 4.0 b d x_{1}^{2} + 2.0 d^{2} - 4.0 d h_{2} x_{0} x_{1} - 4.0 d h_{3} x_{0} x_{1} + 1.0 h_{2}^{2} + 1.0 h_{3}^{2} - 2.0 r^{2}$"
      ],
      "text/plain": [
       "2.0*Y**2 - 4.0*Y*b + 4.0*Y*d*x_0**2 - 4.0*Y*d*x_1**2 + 2.0*Z**2 + 8.0*Z*d*x_0*x_1 - 2.0*Z*h_2 - 2.0*Z*h_3 + 2.0*b**2 - 4.0*b*d*x_0**2 + 4.0*b*d*x_1**2 + 2.0*d**2 - 4.0*d*h_2*x_0*x_1 - 4.0*d*h_3*x_0*x_1 + 1.0*h_2**2 + 1.0*h_3**2 - 2.0*r**2"
      ]
     },
     "execution_count": 22,
     "metadata": {},
     "output_type": "execute_result"
    }
   ],
   "source": [
    "g_4A = expand(factor(f_6A + f_7A))\n",
    "g_4A"
   ]
  },
  {
   "cell_type": "code",
   "execution_count": 23,
   "metadata": {},
   "outputs": [
    {
     "data": {
      "text/latex": [
       "$\\displaystyle Y^{2} + 2.0 Y b - 2.0 Y d x_{0}^{2} + 2.0 Y d x_{1}^{2} + Z^{2} - 4.0 Z d x_{0} x_{1} - 2.0 Z h_{4} + b^{2} - 2.0 b d x_{0}^{2} + 2.0 b d x_{1}^{2} + d^{2} + 4.0 d h_{4} x_{0} x_{1} + h_{4}^{2} - 1.0 r^{2}$"
      ],
      "text/plain": [
       "Y**2 + 2.0*Y*b - 2.0*Y*d*x_0**2 + 2.0*Y*d*x_1**2 + Z**2 - 4.0*Z*d*x_0*x_1 - 2.0*Z*h_4 + b**2 - 2.0*b*d*x_0**2 + 2.0*b*d*x_1**2 + d**2 + 4.0*d*h_4*x_0*x_1 + h_4**2 - 1.0*r**2"
      ]
     },
     "execution_count": 23,
     "metadata": {},
     "output_type": "execute_result"
    }
   ],
   "source": [
    "# Reduce to 3 Equations \n",
    "e_1A = expand(factor(g_2A.subs(h_1, h_4)))/2\n",
    "e_1A"
   ]
  },
  {
   "cell_type": "code",
   "execution_count": 24,
   "metadata": {},
   "outputs": [
    {
     "data": {
      "text/latex": [
       "$\\displaystyle - 2.0 Z - 4.0 d x_{0} x_{1} + 1.0 h_{2} + 1.0 h_{3}$"
      ],
      "text/plain": [
       "-2.0*Z - 4.0*d*x_0*x_1 + 1.0*h_2 + 1.0*h_3"
      ]
     },
     "execution_count": 24,
     "metadata": {},
     "output_type": "execute_result"
    }
   ],
   "source": [
    "#***Choose the factor that does not lead to actuation configuration\n",
    "e_2A = g_3A.args[1]\n",
    "e_2A"
   ]
  },
  {
   "cell_type": "code",
   "execution_count": 25,
   "metadata": {},
   "outputs": [
    {
     "data": {
      "text/latex": [
       "$\\displaystyle - 8.0 \\left(- 0.25 Y^{2} + 0.5 Y b - 0.5 Y d x_{0}^{2} + 0.5 Y d x_{1}^{2} - 0.25 Z^{2} - 1.0 Z d x_{0} x_{1} + 0.25 Z h_{2} + 0.25 Z h_{3} - 0.25 b^{2} + 0.5 b d x_{0}^{2} - 0.5 b d x_{1}^{2} - 0.25 d^{2} + 0.5 d h_{2} x_{0} x_{1} + 0.5 d h_{3} x_{0} x_{1} - 0.125 h_{2}^{2} - 0.125 h_{3}^{2} + 0.25 r^{2}\\right)$"
      ],
      "text/plain": [
       "-8.0*(-0.25*Y**2 + 0.5*Y*b - 0.5*Y*d*x_0**2 + 0.5*Y*d*x_1**2 - 0.25*Z**2 - 1.0*Z*d*x_0*x_1 + 0.25*Z*h_2 + 0.25*Z*h_3 - 0.25*b**2 + 0.5*b*d*x_0**2 - 0.5*b*d*x_1**2 - 0.25*d**2 + 0.5*d*h_2*x_0*x_1 + 0.5*d*h_3*x_0*x_1 - 0.125*h_2**2 - 0.125*h_3**2 + 0.25*r**2)"
      ]
     },
     "execution_count": 25,
     "metadata": {},
     "output_type": "execute_result"
    }
   ],
   "source": [
    "e_3A = g_4A\n",
    "e_3A\n",
    "factor(e_3A)"
   ]
  },
  {
   "cell_type": "code",
   "execution_count": 65,
   "metadata": {},
   "outputs": [
    {
     "data": {
      "text/latex": [
       "$\\displaystyle Z - 2.0 d x_{0} x_{1} - \\sqrt{- Y^{2} - 2.0 Y b + 2.0 Y d x_{0}^{2} - 2.0 Y d x_{1}^{2} - b^{2} + 2.0 b d x_{0}^{2} - 2.0 b d x_{1}^{2} + 4.0 d^{2} x_{0}^{2} x_{1}^{2} - d^{2} + r^{2}}$"
      ],
      "text/plain": [
       "Z - 2.0*d*x_0*x_1 - sqrt(-Y**2 - 2.0*Y*b + 2.0*Y*d*x_0**2 - 2.0*Y*d*x_1**2 - b**2 + 2.0*b*d*x_0**2 - 2.0*b*d*x_1**2 + 4.0*d**2*x_0**2*x_1**2 - d**2 + r**2)"
      ]
     },
     "execution_count": 65,
     "metadata": {},
     "output_type": "execute_result"
    }
   ],
   "source": [
    "# solve for h_4 (=h_1), h_2, and h_3\n",
    "\n",
    "# invs_kin_sols_geo_A = solve((e_1A, e_2A, e_3A), (h_2, h_3, h_4))\n",
    "# invs_kin_sols_geo_A\n",
    "\n",
    "h_1_h_4_sol = simplify(solve(e_1A, h_4))\n",
    "h_1_h_4_sol[0]"
   ]
  },
  {
   "cell_type": "code",
   "execution_count": 57,
   "metadata": {},
   "outputs": [],
   "source": [
    "# https://stackoverflow.com/questions/53092738/eliminate-a-variable-to-relate-two-functions-in-python-using-sympy\n",
    "# https://github.com/sympy/sympy/issues/2720\n",
    "d_1A = factor(e_3A.subs(h_2, solve(e_2A, h_2)[0]))\n",
    "h_3_sol = solve((d_1A,f_9A), h_3)"
   ]
  },
  {
   "cell_type": "code",
   "execution_count": 64,
   "metadata": {},
   "outputs": [
    {
     "data": {
      "text/latex": [
       "$\\displaystyle Z + 2.0 d x_{0} x_{1} + \\sqrt{- Y^{2} + 2.0 Y b - 2.0 Y d x_{0}^{2} + 2.0 Y d x_{1}^{2} - b^{2} + 2.0 b d x_{0}^{2} - 2.0 b d x_{1}^{2} + 4.0 d^{2} x_{0}^{2} x_{1}^{2} - d^{2} + r^{2}}$"
      ],
      "text/plain": [
       "Z + 2.0*d*x_0*x_1 + sqrt(-Y**2 + 2.0*Y*b - 2.0*Y*d*x_0**2 + 2.0*Y*d*x_1**2 - b**2 + 2.0*b*d*x_0**2 - 2.0*b*d*x_1**2 + 4.0*d**2*x_0**2*x_1**2 - d**2 + r**2)"
      ]
     },
     "execution_count": 64,
     "metadata": {},
     "output_type": "execute_result"
    }
   ],
   "source": [
    "h_3_sol[1][0]"
   ]
  },
  {
   "cell_type": "code",
   "execution_count": 63,
   "metadata": {},
   "outputs": [
    {
     "data": {
      "text/latex": [
       "$\\displaystyle 1.0 Z + 2.0 d x_{0} x_{1} - \\sqrt{- Y^{2} + 2.0 Y b - 2.0 Y d x_{0}^{2} + 2.0 Y d x_{1}^{2} - b^{2} + 2.0 b d x_{0}^{2} - 2.0 b d x_{1}^{2} + 4.0 d^{2} x_{0}^{2} x_{1}^{2} - d^{2} + r^{2}}$"
      ],
      "text/plain": [
       "1.0*Z + 2.0*d*x_0*x_1 - sqrt(-Y**2 + 2.0*Y*b - 2.0*Y*d*x_0**2 + 2.0*Y*d*x_1**2 - b**2 + 2.0*b*d*x_0**2 - 2.0*b*d*x_1**2 + 4.0*d**2*x_0**2*x_1**2 - d**2 + r**2)"
      ]
     },
     "execution_count": 63,
     "metadata": {},
     "output_type": "execute_result"
    }
   ],
   "source": [
    "h_2_sol = (solve(e_2A, h_2)[0]).subs(h_3, h_3_sol[1][0])\n",
    "h_2_sol"
   ]
  }
 ],
 "metadata": {
  "kernelspec": {
   "display_name": "Python 2",
   "language": "python",
   "name": "python2"
  },
  "language_info": {
   "codemirror_mode": {
    "name": "ipython",
    "version": 2
   },
   "file_extension": ".py",
   "mimetype": "text/x-python",
   "name": "python",
   "nbconvert_exporter": "python",
   "pygments_lexer": "ipython2",
   "version": "2.7.12"
  }
 },
 "nbformat": 4,
 "nbformat_minor": 2
}
